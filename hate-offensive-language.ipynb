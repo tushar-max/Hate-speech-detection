{
 "cells": [
  {
   "cell_type": "code",
   "execution_count": 1,
   "metadata": {
    "_cell_guid": "b1076dfc-b9ad-4769-8c92-a6c4dae69d19",
    "_uuid": "8f2839f25d086af736a60e9eeb907d3b93b6e0e5",
    "execution": {
     "iopub.execute_input": "2021-05-26T06:22:53.019301Z",
     "iopub.status.busy": "2021-05-26T06:22:53.018710Z",
     "iopub.status.idle": "2021-05-26T06:22:53.064108Z",
     "shell.execute_reply": "2021-05-26T06:22:53.063082Z",
     "shell.execute_reply.started": "2021-05-26T06:22:53.019137Z"
    }
   },
   "outputs": [
    {
     "name": "stdout",
     "output_type": "stream",
     "text": [
      "/kaggle/input/hate-speech-and-offensive-language-dataset/labeled_data.csv\n",
      "/kaggle/input/twitter-sentiment-analysis-hatred-speech/train.csv\n",
      "/kaggle/input/twitter-sentiment-analysis-hatred-speech/test.csv\n"
     ]
    }
   ],
   "source": [
    "\n",
    "import numpy as np \n",
    "import pandas as pd \n",
    "\n",
    "\n",
    "import os\n",
    "for dirname, _, filenames in os.walk('/kaggle/input'):\n",
    "    for filename in filenames:\n",
    "        print(os.path.join(dirname, filename))\n",
    "\n"
   ]
  },
  {
   "cell_type": "code",
   "execution_count": 2,
   "metadata": {
    "execution": {
     "iopub.execute_input": "2021-05-26T06:22:53.068301Z",
     "iopub.status.busy": "2021-05-26T06:22:53.067990Z",
     "iopub.status.idle": "2021-05-26T06:22:53.183671Z",
     "shell.execute_reply": "2021-05-26T06:22:53.182634Z",
     "shell.execute_reply.started": "2021-05-26T06:22:53.068255Z"
    }
   },
   "outputs": [],
   "source": [
    "df_twitter=pd.read_csv(\"/kaggle/input/twitter-sentiment-analysis-hatred-speech/train.csv\")"
   ]
  },
  {
   "cell_type": "code",
   "execution_count": 3,
   "metadata": {
    "execution": {
     "iopub.execute_input": "2021-05-26T06:22:53.185804Z",
     "iopub.status.busy": "2021-05-26T06:22:53.185296Z",
     "iopub.status.idle": "2021-05-26T06:22:53.212576Z",
     "shell.execute_reply": "2021-05-26T06:22:53.211018Z",
     "shell.execute_reply.started": "2021-05-26T06:22:53.185757Z"
    }
   },
   "outputs": [
    {
     "data": {
      "text/html": [
       "<div>\n",
       "<style scoped>\n",
       "    .dataframe tbody tr th:only-of-type {\n",
       "        vertical-align: middle;\n",
       "    }\n",
       "\n",
       "    .dataframe tbody tr th {\n",
       "        vertical-align: top;\n",
       "    }\n",
       "\n",
       "    .dataframe thead th {\n",
       "        text-align: right;\n",
       "    }\n",
       "</style>\n",
       "<table border=\"1\" class=\"dataframe\">\n",
       "  <thead>\n",
       "    <tr style=\"text-align: right;\">\n",
       "      <th></th>\n",
       "      <th>id</th>\n",
       "      <th>label</th>\n",
       "      <th>tweet</th>\n",
       "    </tr>\n",
       "  </thead>\n",
       "  <tbody>\n",
       "    <tr>\n",
       "      <th>0</th>\n",
       "      <td>1</td>\n",
       "      <td>0</td>\n",
       "      <td>@user when a father is dysfunctional and is s...</td>\n",
       "    </tr>\n",
       "    <tr>\n",
       "      <th>1</th>\n",
       "      <td>2</td>\n",
       "      <td>0</td>\n",
       "      <td>@user @user thanks for #lyft credit i can't us...</td>\n",
       "    </tr>\n",
       "    <tr>\n",
       "      <th>2</th>\n",
       "      <td>3</td>\n",
       "      <td>0</td>\n",
       "      <td>bihday your majesty</td>\n",
       "    </tr>\n",
       "    <tr>\n",
       "      <th>3</th>\n",
       "      <td>4</td>\n",
       "      <td>0</td>\n",
       "      <td>#model   i love u take with u all the time in ...</td>\n",
       "    </tr>\n",
       "    <tr>\n",
       "      <th>4</th>\n",
       "      <td>5</td>\n",
       "      <td>0</td>\n",
       "      <td>factsguide: society now    #motivation</td>\n",
       "    </tr>\n",
       "  </tbody>\n",
       "</table>\n",
       "</div>"
      ],
      "text/plain": [
       "   id  label                                              tweet\n",
       "0   1      0   @user when a father is dysfunctional and is s...\n",
       "1   2      0  @user @user thanks for #lyft credit i can't us...\n",
       "2   3      0                                bihday your majesty\n",
       "3   4      0  #model   i love u take with u all the time in ...\n",
       "4   5      0             factsguide: society now    #motivation"
      ]
     },
     "execution_count": 3,
     "metadata": {},
     "output_type": "execute_result"
    }
   ],
   "source": [
    "df_twitter.head()"
   ]
  },
  {
   "cell_type": "code",
   "execution_count": 4,
   "metadata": {
    "execution": {
     "iopub.execute_input": "2021-05-26T06:22:53.216123Z",
     "iopub.status.busy": "2021-05-26T06:22:53.215664Z",
     "iopub.status.idle": "2021-05-26T06:22:54.322764Z",
     "shell.execute_reply": "2021-05-26T06:22:54.321327Z",
     "shell.execute_reply.started": "2021-05-26T06:22:53.216079Z"
    }
   },
   "outputs": [
    {
     "name": "stderr",
     "output_type": "stream",
     "text": [
      "/opt/conda/lib/python3.7/site-packages/seaborn/_decorators.py:43: FutureWarning: Pass the following variable as a keyword arg: x. From version 0.12, the only valid positional argument will be `data`, and passing other arguments without an explicit keyword will result in an error or misinterpretation.\n",
      "  FutureWarning\n"
     ]
    },
    {
     "data": {
      "text/plain": [
       "<AxesSubplot:xlabel='label', ylabel='count'>"
      ]
     },
     "execution_count": 4,
     "metadata": {},
     "output_type": "execute_result"
    },
    {
     "data": {
      "image/png": "[encoded data removed]",
      "text/plain": [
       "<Figure size 432x288 with 1 Axes>"
      ]
     },
     "metadata": {
      "needs_background": "light"
     },
     "output_type": "display_data"
    }
   ],
   "source": [
    "import seaborn as sns\n",
    "sns.countplot('label',data=df_twitter)"
   ]
  },
  {
   "cell_type": "code",
   "execution_count": 5,
   "metadata": {
    "execution": {
     "iopub.execute_input": "2021-05-26T06:22:54.326475Z",
     "iopub.status.busy": "2021-05-26T06:22:54.325942Z",
     "iopub.status.idle": "2021-05-26T06:22:54.335906Z",
     "shell.execute_reply": "2021-05-26T06:22:54.334481Z",
     "shell.execute_reply.started": "2021-05-26T06:22:54.326411Z"
    }
   },
   "outputs": [
    {
     "data": {
      "text/plain": [
       "(31962, 3)"
      ]
     },
     "execution_count": 5,
     "metadata": {},
     "output_type": "execute_result"
    }
   ],
   "source": [
    "df_twitter.shape"
   ]
  },
  {
   "cell_type": "code",
   "execution_count": 6,
   "metadata": {
    "execution": {
     "iopub.execute_input": "2021-05-26T06:22:54.338716Z",
     "iopub.status.busy": "2021-05-26T06:22:54.337836Z",
     "iopub.status.idle": "2021-05-26T06:22:54.356748Z",
     "shell.execute_reply": "2021-05-26T06:22:54.355544Z",
     "shell.execute_reply.started": "2021-05-26T06:22:54.338668Z"
    }
   },
   "outputs": [
    {
     "data": {
      "text/plain": [
       "id       0\n",
       "label    0\n",
       "tweet    0\n",
       "dtype: int64"
      ]
     },
     "execution_count": 6,
     "metadata": {},
     "output_type": "execute_result"
    }
   ],
   "source": [
    "df_twitter.isnull().sum()"
   ]
  },
  {
   "cell_type": "code",
   "execution_count": 7,
   "metadata": {
    "execution": {
     "iopub.execute_input": "2021-05-26T06:22:54.359577Z",
     "iopub.status.busy": "2021-05-26T06:22:54.359007Z",
     "iopub.status.idle": "2021-05-26T06:22:54.368563Z",
     "shell.execute_reply": "2021-05-26T06:22:54.367125Z",
     "shell.execute_reply.started": "2021-05-26T06:22:54.359533Z"
    }
   },
   "outputs": [],
   "source": [
    "df_twitter.drop('id',axis=1,inplace=True)"
   ]
  },
  {
   "cell_type": "code",
   "execution_count": 8,
   "metadata": {
    "execution": {
     "iopub.execute_input": "2021-05-26T06:22:54.372025Z",
     "iopub.status.busy": "2021-05-26T06:22:54.371025Z",
     "iopub.status.idle": "2021-05-26T06:22:54.458831Z",
     "shell.execute_reply": "2021-05-26T06:22:54.457632Z",
     "shell.execute_reply.started": "2021-05-26T06:22:54.371981Z"
    }
   },
   "outputs": [],
   "source": [
    "df_offensive=pd.read_csv(\"/kaggle/input/hate-speech-and-offensive-language-dataset/labeled_data.csv\")"
   ]
  },
  {
   "cell_type": "code",
   "execution_count": 9,
   "metadata": {
    "execution": {
     "iopub.execute_input": "2021-05-26T06:22:54.462404Z",
     "iopub.status.busy": "2021-05-26T06:22:54.461599Z",
     "iopub.status.idle": "2021-05-26T06:22:54.479071Z",
     "shell.execute_reply": "2021-05-26T06:22:54.477814Z",
     "shell.execute_reply.started": "2021-05-26T06:22:54.462343Z"
    }
   },
   "outputs": [
    {
     "data": {
      "text/html": [
       "<div>\n",
       "<style scoped>\n",
       "    .dataframe tbody tr th:only-of-type {\n",
       "        vertical-align: middle;\n",
       "    }\n",
       "\n",
       "    .dataframe tbody tr th {\n",
       "        vertical-align: top;\n",
       "    }\n",
       "\n",
       "    .dataframe thead th {\n",
       "        text-align: right;\n",
       "    }\n",
       "</style>\n",
       "<table border=\"1\" class=\"dataframe\">\n",
       "  <thead>\n",
       "    <tr style=\"text-align: right;\">\n",
       "      <th></th>\n",
       "      <th>Unnamed: 0</th>\n",
       "      <th>count</th>\n",
       "      <th>hate_speech</th>\n",
       "      <th>offensive_language</th>\n",
       "      <th>neither</th>\n",
       "      <th>class</th>\n",
       "      <th>tweet</th>\n",
       "    </tr>\n",
       "  </thead>\n",
       "  <tbody>\n",
       "    <tr>\n",
       "      <th>0</th>\n",
       "      <td>0</td>\n",
       "      <td>3</td>\n",
       "      <td>0</td>\n",
       "      <td>0</td>\n",
       "      <td>3</td>\n",
       "      <td>2</td>\n",
       "      <td>!!! RT @mayasolovely: As a woman you shouldn't...</td>\n",
       "    </tr>\n",
       "    <tr>\n",
       "      <th>1</th>\n",
       "      <td>1</td>\n",
       "      <td>3</td>\n",
       "      <td>0</td>\n",
       "      <td>3</td>\n",
       "      <td>0</td>\n",
       "      <td>1</td>\n",
       "      <td>!!!!! RT @mleew17: boy dats cold...tyga dwn ba...</td>\n",
       "    </tr>\n",
       "    <tr>\n",
       "      <th>2</th>\n",
       "      <td>2</td>\n",
       "      <td>3</td>\n",
       "      <td>0</td>\n",
       "      <td>3</td>\n",
       "      <td>0</td>\n",
       "      <td>1</td>\n",
       "      <td>!!!!!!! RT @UrKindOfBrand Dawg!!!! RT @80sbaby...</td>\n",
       "    </tr>\n",
       "    <tr>\n",
       "      <th>3</th>\n",
       "      <td>3</td>\n",
       "      <td>3</td>\n",
       "      <td>0</td>\n",
       "      <td>2</td>\n",
       "      <td>1</td>\n",
       "      <td>1</td>\n",
       "      <td>!!!!!!!!! RT @C_G_Anderson: @viva_based she lo...</td>\n",
       "    </tr>\n",
       "    <tr>\n",
       "      <th>4</th>\n",
       "      <td>4</td>\n",
       "      <td>6</td>\n",
       "      <td>0</td>\n",
       "      <td>6</td>\n",
       "      <td>0</td>\n",
       "      <td>1</td>\n",
       "      <td>!!!!!!!!!!!!! RT @ShenikaRoberts: The shit you...</td>\n",
       "    </tr>\n",
       "  </tbody>\n",
       "</table>\n",
       "</div>"
      ],
      "text/plain": [
       "   Unnamed: 0  count  hate_speech  offensive_language  neither  class  \\\n",
       "0           0      3            0                   0        3      2   \n",
       "1           1      3            0                   3        0      1   \n",
       "2           2      3            0                   3        0      1   \n",
       "3           3      3            0                   2        1      1   \n",
       "4           4      6            0                   6        0      1   \n",
       "\n",
       "                                               tweet  \n",
       "0  !!! RT @mayasolovely: As a woman you shouldn't...  \n",
       "1  !!!!! RT @mleew17: boy dats cold...tyga dwn ba...  \n",
       "2  !!!!!!! RT @UrKindOfBrand Dawg!!!! RT @80sbaby...  \n",
       "3  !!!!!!!!! RT @C_G_Anderson: @viva_based she lo...  \n",
       "4  !!!!!!!!!!!!! RT @ShenikaRoberts: The shit you...  "
      ]
     },
     "execution_count": 9,
     "metadata": {},
     "output_type": "execute_result"
    }
   ],
   "source": [
    "df_offensive.head()"
   ]
  },
  {
   "cell_type": "code",
   "execution_count": 10,
   "metadata": {
    "execution": {
     "iopub.execute_input": "2021-05-26T06:22:54.481429Z",
     "iopub.status.busy": "2021-05-26T06:22:54.480828Z",
     "iopub.status.idle": "2021-05-26T06:22:54.489147Z",
     "shell.execute_reply": "2021-05-26T06:22:54.487697Z",
     "shell.execute_reply.started": "2021-05-26T06:22:54.481384Z"
    }
   },
   "outputs": [
    {
     "data": {
      "text/plain": [
       "(24783, 7)"
      ]
     },
     "execution_count": 10,
     "metadata": {},
     "output_type": "execute_result"
    }
   ],
   "source": [
    "df_offensive.shape"
   ]
  },
  {
   "cell_type": "code",
   "execution_count": 11,
   "metadata": {
    "execution": {
     "iopub.execute_input": "2021-05-26T06:22:54.492451Z",
     "iopub.status.busy": "2021-05-26T06:22:54.491524Z",
     "iopub.status.idle": "2021-05-26T06:22:54.507738Z",
     "shell.execute_reply": "2021-05-26T06:22:54.505418Z",
     "shell.execute_reply.started": "2021-05-26T06:22:54.492403Z"
    }
   },
   "outputs": [
    {
     "data": {
      "text/plain": [
       "Unnamed: 0            0\n",
       "count                 0\n",
       "hate_speech           0\n",
       "offensive_language    0\n",
       "neither               0\n",
       "class                 0\n",
       "tweet                 0\n",
       "dtype: int64"
      ]
     },
     "execution_count": 11,
     "metadata": {},
     "output_type": "execute_result"
    }
   ],
   "source": [
    "df_offensive.isnull().sum()"
   ]
  },
  {
   "cell_type": "code",
   "execution_count": 12,
   "metadata": {
    "execution": {
     "iopub.execute_input": "2021-05-26T06:22:54.514677Z",
     "iopub.status.busy": "2021-05-26T06:22:54.514350Z",
     "iopub.status.idle": "2021-05-26T06:22:54.521553Z",
     "shell.execute_reply": "2021-05-26T06:22:54.520196Z",
     "shell.execute_reply.started": "2021-05-26T06:22:54.514646Z"
    }
   },
   "outputs": [],
   "source": [
    "df_offensive.drop(['Unnamed: 0','count','hate_speech','offensive_language','neither'],axis=1,inplace=True)"
   ]
  },
  {
   "cell_type": "code",
   "execution_count": 13,
   "metadata": {
    "execution": {
     "iopub.execute_input": "2021-05-26T06:22:54.528482Z",
     "iopub.status.busy": "2021-05-26T06:22:54.527694Z",
     "iopub.status.idle": "2021-05-26T06:22:54.542633Z",
     "shell.execute_reply": "2021-05-26T06:22:54.541265Z",
     "shell.execute_reply.started": "2021-05-26T06:22:54.528436Z"
    }
   },
   "outputs": [
    {
     "data": {
      "text/html": [
       "<div>\n",
       "<style scoped>\n",
       "    .dataframe tbody tr th:only-of-type {\n",
       "        vertical-align: middle;\n",
       "    }\n",
       "\n",
       "    .dataframe tbody tr th {\n",
       "        vertical-align: top;\n",
       "    }\n",
       "\n",
       "    .dataframe thead th {\n",
       "        text-align: right;\n",
       "    }\n",
       "</style>\n",
       "<table border=\"1\" class=\"dataframe\">\n",
       "  <thead>\n",
       "    <tr style=\"text-align: right;\">\n",
       "      <th></th>\n",
       "      <th>class</th>\n",
       "      <th>tweet</th>\n",
       "    </tr>\n",
       "  </thead>\n",
       "  <tbody>\n",
       "    <tr>\n",
       "      <th>0</th>\n",
       "      <td>2</td>\n",
       "      <td>!!! RT @mayasolovely: As a woman you shouldn't...</td>\n",
       "    </tr>\n",
       "    <tr>\n",
       "      <th>1</th>\n",
       "      <td>1</td>\n",
       "      <td>!!!!! RT @mleew17: boy dats cold...tyga dwn ba...</td>\n",
       "    </tr>\n",
       "    <tr>\n",
       "      <th>2</th>\n",
       "      <td>1</td>\n",
       "      <td>!!!!!!! RT @UrKindOfBrand Dawg!!!! RT @80sbaby...</td>\n",
       "    </tr>\n",
       "    <tr>\n",
       "      <th>3</th>\n",
       "      <td>1</td>\n",
       "      <td>!!!!!!!!! RT @C_G_Anderson: @viva_based she lo...</td>\n",
       "    </tr>\n",
       "    <tr>\n",
       "      <th>4</th>\n",
       "      <td>1</td>\n",
       "      <td>!!!!!!!!!!!!! RT @ShenikaRoberts: The shit you...</td>\n",
       "    </tr>\n",
       "    <tr>\n",
       "      <th>5</th>\n",
       "      <td>1</td>\n",
       "      <td>!!!!!!!!!!!!!!!!!!\"@T_Madison_x: The shit just...</td>\n",
       "    </tr>\n",
       "    <tr>\n",
       "      <th>6</th>\n",
       "      <td>1</td>\n",
       "      <td>!!!!!!\"@__BrighterDays: I can not just sit up ...</td>\n",
       "    </tr>\n",
       "    <tr>\n",
       "      <th>7</th>\n",
       "      <td>1</td>\n",
       "      <td>!!!!&amp;#8220;@selfiequeenbri: cause I'm tired of...</td>\n",
       "    </tr>\n",
       "    <tr>\n",
       "      <th>8</th>\n",
       "      <td>1</td>\n",
       "      <td>\" &amp;amp; you might not get ya bitch back &amp;amp; ...</td>\n",
       "    </tr>\n",
       "    <tr>\n",
       "      <th>9</th>\n",
       "      <td>1</td>\n",
       "      <td>\" @rhythmixx_ :hobbies include: fighting Maria...</td>\n",
       "    </tr>\n",
       "  </tbody>\n",
       "</table>\n",
       "</div>"
      ],
      "text/plain": [
       "   class                                              tweet\n",
       "0      2  !!! RT @mayasolovely: As a woman you shouldn't...\n",
       "1      1  !!!!! RT @mleew17: boy dats cold...tyga dwn ba...\n",
       "2      1  !!!!!!! RT @UrKindOfBrand Dawg!!!! RT @80sbaby...\n",
       "3      1  !!!!!!!!! RT @C_G_Anderson: @viva_based she lo...\n",
       "4      1  !!!!!!!!!!!!! RT @ShenikaRoberts: The shit you...\n",
       "5      1  !!!!!!!!!!!!!!!!!!\"@T_Madison_x: The shit just...\n",
       "6      1  !!!!!!\"@__BrighterDays: I can not just sit up ...\n",
       "7      1  !!!!&#8220;@selfiequeenbri: cause I'm tired of...\n",
       "8      1  \" &amp; you might not get ya bitch back &amp; ...\n",
       "9      1  \" @rhythmixx_ :hobbies include: fighting Maria..."
      ]
     },
     "execution_count": 13,
     "metadata": {},
     "output_type": "execute_result"
    }
   ],
   "source": [
    "df_offensive.head(10)"
   ]
  },
  {
   "cell_type": "code",
   "execution_count": 14,
   "metadata": {
    "execution": {
     "iopub.execute_input": "2021-05-26T06:22:54.545190Z",
     "iopub.status.busy": "2021-05-26T06:22:54.544849Z",
     "iopub.status.idle": "2021-05-26T06:22:54.556026Z",
     "shell.execute_reply": "2021-05-26T06:22:54.554443Z",
     "shell.execute_reply.started": "2021-05-26T06:22:54.545159Z"
    }
   },
   "outputs": [
    {
     "data": {
      "text/plain": [
       "array([2, 1, 0])"
      ]
     },
     "execution_count": 14,
     "metadata": {},
     "output_type": "execute_result"
    }
   ],
   "source": [
    "df_offensive['class'].unique()"
   ]
  },
  {
   "cell_type": "code",
   "execution_count": 15,
   "metadata": {
    "execution": {
     "iopub.execute_input": "2021-05-26T06:22:54.558248Z",
     "iopub.status.busy": "2021-05-26T06:22:54.557724Z",
     "iopub.status.idle": "2021-05-26T06:22:54.723602Z",
     "shell.execute_reply": "2021-05-26T06:22:54.722153Z",
     "shell.execute_reply.started": "2021-05-26T06:22:54.558201Z"
    }
   },
   "outputs": [
    {
     "name": "stderr",
     "output_type": "stream",
     "text": [
      "/opt/conda/lib/python3.7/site-packages/seaborn/_decorators.py:43: FutureWarning: Pass the following variable as a keyword arg: x. From version 0.12, the only valid positional argument will be `data`, and passing other arguments without an explicit keyword will result in an error or misinterpretation.\n",
      "  FutureWarning\n"
     ]
    },
    {
     "data": {
      "text/plain": [
       "<AxesSubplot:xlabel='class', ylabel='count'>"
      ]
     },
     "execution_count": 15,
     "metadata": {},
     "output_type": "execute_result"
    },
    {
     "data": {
      "image/png": "[encoded data removed]",
      "text/plain": [
       "<Figure size 432x288 with 1 Axes>"
      ]
     },
     "metadata": {
      "needs_background": "light"
     },
     "output_type": "display_data"
    }
   ],
   "source": [
    "sns.countplot('class',data=df_offensive)"
   ]
  },
  {
   "cell_type": "code",
   "execution_count": 16,
   "metadata": {
    "execution": {
     "iopub.execute_input": "2021-05-26T06:22:54.726125Z",
     "iopub.status.busy": "2021-05-26T06:22:54.725644Z",
     "iopub.status.idle": "2021-05-26T06:22:54.750870Z",
     "shell.execute_reply": "2021-05-26T06:22:54.749576Z",
     "shell.execute_reply.started": "2021-05-26T06:22:54.726076Z"
    }
   },
   "outputs": [
    {
     "name": "stderr",
     "output_type": "stream",
     "text": [
      "/opt/conda/lib/python3.7/site-packages/ipykernel_launcher.py:1: SettingWithCopyWarning: \n",
      "A value is trying to be set on a copy of a slice from a DataFrame.\n",
      "Try using .loc[row_indexer,col_indexer] = value instead\n",
      "\n",
      "See the caveats in the documentation: https://pandas.pydata.org/pandas-docs/stable/user_guide/indexing.html#returning-a-view-versus-a-copy\n",
      "  \"\"\"Entry point for launching an IPython kernel.\n"
     ]
    }
   ],
   "source": [
    "df_offensive[df_offensive['class']==0]['class']=1"
   ]
  },
  {
   "cell_type": "code",
   "execution_count": 17,
   "metadata": {
    "execution": {
     "iopub.execute_input": "2021-05-26T06:22:54.753490Z",
     "iopub.status.busy": "2021-05-26T06:22:54.752692Z",
     "iopub.status.idle": "2021-05-26T06:22:54.768165Z",
     "shell.execute_reply": "2021-05-26T06:22:54.766778Z",
     "shell.execute_reply.started": "2021-05-26T06:22:54.753443Z"
    }
   },
   "outputs": [
    {
     "data": {
      "text/html": [
       "<div>\n",
       "<style scoped>\n",
       "    .dataframe tbody tr th:only-of-type {\n",
       "        vertical-align: middle;\n",
       "    }\n",
       "\n",
       "    .dataframe tbody tr th {\n",
       "        vertical-align: top;\n",
       "    }\n",
       "\n",
       "    .dataframe thead th {\n",
       "        text-align: right;\n",
       "    }\n",
       "</style>\n",
       "<table border=\"1\" class=\"dataframe\">\n",
       "  <thead>\n",
       "    <tr style=\"text-align: right;\">\n",
       "      <th></th>\n",
       "      <th>class</th>\n",
       "      <th>tweet</th>\n",
       "    </tr>\n",
       "  </thead>\n",
       "  <tbody>\n",
       "    <tr>\n",
       "      <th>0</th>\n",
       "      <td>2</td>\n",
       "      <td>!!! RT @mayasolovely: As a woman you shouldn't...</td>\n",
       "    </tr>\n",
       "    <tr>\n",
       "      <th>1</th>\n",
       "      <td>1</td>\n",
       "      <td>!!!!! RT @mleew17: boy dats cold...tyga dwn ba...</td>\n",
       "    </tr>\n",
       "    <tr>\n",
       "      <th>2</th>\n",
       "      <td>1</td>\n",
       "      <td>!!!!!!! RT @UrKindOfBrand Dawg!!!! RT @80sbaby...</td>\n",
       "    </tr>\n",
       "    <tr>\n",
       "      <th>3</th>\n",
       "      <td>1</td>\n",
       "      <td>!!!!!!!!! RT @C_G_Anderson: @viva_based she lo...</td>\n",
       "    </tr>\n",
       "    <tr>\n",
       "      <th>4</th>\n",
       "      <td>1</td>\n",
       "      <td>!!!!!!!!!!!!! RT @ShenikaRoberts: The shit you...</td>\n",
       "    </tr>\n",
       "  </tbody>\n",
       "</table>\n",
       "</div>"
      ],
      "text/plain": [
       "   class                                              tweet\n",
       "0      2  !!! RT @mayasolovely: As a woman you shouldn't...\n",
       "1      1  !!!!! RT @mleew17: boy dats cold...tyga dwn ba...\n",
       "2      1  !!!!!!! RT @UrKindOfBrand Dawg!!!! RT @80sbaby...\n",
       "3      1  !!!!!!!!! RT @C_G_Anderson: @viva_based she lo...\n",
       "4      1  !!!!!!!!!!!!! RT @ShenikaRoberts: The shit you..."
      ]
     },
     "execution_count": 17,
     "metadata": {},
     "output_type": "execute_result"
    }
   ],
   "source": [
    "df_offensive.head(5)"
   ]
  },
  {
   "cell_type": "code",
   "execution_count": 18,
   "metadata": {
    "execution": {
     "iopub.execute_input": "2021-05-26T06:22:54.771335Z",
     "iopub.status.busy": "2021-05-26T06:22:54.770466Z",
     "iopub.status.idle": "2021-05-26T06:22:54.781974Z",
     "shell.execute_reply": "2021-05-26T06:22:54.780546Z",
     "shell.execute_reply.started": "2021-05-26T06:22:54.771251Z"
    }
   },
   "outputs": [
    {
     "data": {
      "text/plain": [
       "array([2, 1, 0])"
      ]
     },
     "execution_count": 18,
     "metadata": {},
     "output_type": "execute_result"
    }
   ],
   "source": [
    "df_offensive['class'].unique()"
   ]
  },
  {
   "cell_type": "code",
   "execution_count": 19,
   "metadata": {
    "execution": {
     "iopub.execute_input": "2021-05-26T06:22:54.785028Z",
     "iopub.status.busy": "2021-05-26T06:22:54.784085Z",
     "iopub.status.idle": "2021-05-26T06:22:54.805395Z",
     "shell.execute_reply": "2021-05-26T06:22:54.804466Z",
     "shell.execute_reply.started": "2021-05-26T06:22:54.784943Z"
    }
   },
   "outputs": [
    {
     "data": {
      "text/html": [
       "<div>\n",
       "<style scoped>\n",
       "    .dataframe tbody tr th:only-of-type {\n",
       "        vertical-align: middle;\n",
       "    }\n",
       "\n",
       "    .dataframe tbody tr th {\n",
       "        vertical-align: top;\n",
       "    }\n",
       "\n",
       "    .dataframe thead th {\n",
       "        text-align: right;\n",
       "    }\n",
       "</style>\n",
       "<table border=\"1\" class=\"dataframe\">\n",
       "  <thead>\n",
       "    <tr style=\"text-align: right;\">\n",
       "      <th></th>\n",
       "      <th>class</th>\n",
       "      <th>tweet</th>\n",
       "    </tr>\n",
       "  </thead>\n",
       "  <tbody>\n",
       "    <tr>\n",
       "      <th>85</th>\n",
       "      <td>0</td>\n",
       "      <td>\"@Blackman38Tide: @WhaleLookyHere @HowdyDowdy1...</td>\n",
       "    </tr>\n",
       "    <tr>\n",
       "      <th>89</th>\n",
       "      <td>0</td>\n",
       "      <td>\"@CB_Baby24: @white_thunduh alsarabsss\" hes a ...</td>\n",
       "    </tr>\n",
       "    <tr>\n",
       "      <th>110</th>\n",
       "      <td>0</td>\n",
       "      <td>\"@DevilGrimz: @VigxRArts you're fucking gay, b...</td>\n",
       "    </tr>\n",
       "    <tr>\n",
       "      <th>184</th>\n",
       "      <td>0</td>\n",
       "      <td>\"@MarkRoundtreeJr: LMFAOOOO I HATE BLACK PEOPL...</td>\n",
       "    </tr>\n",
       "    <tr>\n",
       "      <th>202</th>\n",
       "      <td>0</td>\n",
       "      <td>\"@NoChillPaz: \"At least I'm not a nigger\" http...</td>\n",
       "    </tr>\n",
       "    <tr>\n",
       "      <th>...</th>\n",
       "      <td>...</td>\n",
       "      <td>...</td>\n",
       "    </tr>\n",
       "    <tr>\n",
       "      <th>24576</th>\n",
       "      <td>0</td>\n",
       "      <td>this guy is the biggest faggot omfg</td>\n",
       "    </tr>\n",
       "    <tr>\n",
       "      <th>24685</th>\n",
       "      <td>0</td>\n",
       "      <td>which one of these names is more offensive kik...</td>\n",
       "    </tr>\n",
       "    <tr>\n",
       "      <th>24751</th>\n",
       "      <td>0</td>\n",
       "      <td>you a pussy ass nigga and I know it nigga.</td>\n",
       "    </tr>\n",
       "    <tr>\n",
       "      <th>24776</th>\n",
       "      <td>0</td>\n",
       "      <td>you're all niggers</td>\n",
       "    </tr>\n",
       "    <tr>\n",
       "      <th>24777</th>\n",
       "      <td>0</td>\n",
       "      <td>you're such a retard i hope you get type 2 dia...</td>\n",
       "    </tr>\n",
       "  </tbody>\n",
       "</table>\n",
       "<p>1430 rows × 2 columns</p>\n",
       "</div>"
      ],
      "text/plain": [
       "       class                                              tweet\n",
       "85         0  \"@Blackman38Tide: @WhaleLookyHere @HowdyDowdy1...\n",
       "89         0  \"@CB_Baby24: @white_thunduh alsarabsss\" hes a ...\n",
       "110        0  \"@DevilGrimz: @VigxRArts you're fucking gay, b...\n",
       "184        0  \"@MarkRoundtreeJr: LMFAOOOO I HATE BLACK PEOPL...\n",
       "202        0  \"@NoChillPaz: \"At least I'm not a nigger\" http...\n",
       "...      ...                                                ...\n",
       "24576      0                this guy is the biggest faggot omfg\n",
       "24685      0  which one of these names is more offensive kik...\n",
       "24751      0         you a pussy ass nigga and I know it nigga.\n",
       "24776      0                                 you're all niggers\n",
       "24777      0  you're such a retard i hope you get type 2 dia...\n",
       "\n",
       "[1430 rows x 2 columns]"
      ]
     },
     "execution_count": 19,
     "metadata": {},
     "output_type": "execute_result"
    }
   ],
   "source": [
    "df_offensive[df_offensive['class']==0]"
   ]
  },
  {
   "cell_type": "code",
   "execution_count": 20,
   "metadata": {
    "execution": {
     "iopub.execute_input": "2021-05-26T06:22:54.808959Z",
     "iopub.status.busy": "2021-05-26T06:22:54.808214Z",
     "iopub.status.idle": "2021-05-26T06:22:54.815686Z",
     "shell.execute_reply": "2021-05-26T06:22:54.814300Z",
     "shell.execute_reply.started": "2021-05-26T06:22:54.808913Z"
    }
   },
   "outputs": [],
   "source": [
    "df_offensive[\"class\"].replace({0: 1}, inplace=True)"
   ]
  },
  {
   "cell_type": "code",
   "execution_count": 21,
   "metadata": {
    "execution": {
     "iopub.execute_input": "2021-05-26T06:22:54.818554Z",
     "iopub.status.busy": "2021-05-26T06:22:54.817727Z",
     "iopub.status.idle": "2021-05-26T06:22:54.829993Z",
     "shell.execute_reply": "2021-05-26T06:22:54.828509Z",
     "shell.execute_reply.started": "2021-05-26T06:22:54.818508Z"
    }
   },
   "outputs": [
    {
     "data": {
      "text/plain": [
       "array([2, 1])"
      ]
     },
     "execution_count": 21,
     "metadata": {},
     "output_type": "execute_result"
    }
   ],
   "source": [
    "df_offensive['class'].unique()"
   ]
  },
  {
   "cell_type": "code",
   "execution_count": 22,
   "metadata": {
    "execution": {
     "iopub.execute_input": "2021-05-26T06:22:54.832131Z",
     "iopub.status.busy": "2021-05-26T06:22:54.831247Z",
     "iopub.status.idle": "2021-05-26T06:22:54.989538Z",
     "shell.execute_reply": "2021-05-26T06:22:54.988414Z",
     "shell.execute_reply.started": "2021-05-26T06:22:54.832083Z"
    }
   },
   "outputs": [
    {
     "name": "stderr",
     "output_type": "stream",
     "text": [
      "/opt/conda/lib/python3.7/site-packages/seaborn/_decorators.py:43: FutureWarning: Pass the following variable as a keyword arg: x. From version 0.12, the only valid positional argument will be `data`, and passing other arguments without an explicit keyword will result in an error or misinterpretation.\n",
      "  FutureWarning\n"
     ]
    },
    {
     "data": {
      "text/plain": [
       "<AxesSubplot:xlabel='class', ylabel='count'>"
      ]
     },
     "execution_count": 22,
     "metadata": {},
     "output_type": "execute_result"
    },
    {
     "data": {
      "image/png": "[encoded data removed]",
      "text/plain": [
       "<Figure size 432x288 with 1 Axes>"
      ]
     },
     "metadata": {
      "needs_background": "light"
     },
     "output_type": "display_data"
    }
   ],
   "source": [
    "sns.countplot('class',data=df_offensive)"
   ]
  },
  {
   "cell_type": "code",
   "execution_count": 23,
   "metadata": {
    "execution": {
     "iopub.execute_input": "2021-05-26T06:22:54.992023Z",
     "iopub.status.busy": "2021-05-26T06:22:54.991538Z",
     "iopub.status.idle": "2021-05-26T06:22:55.007778Z",
     "shell.execute_reply": "2021-05-26T06:22:55.006611Z",
     "shell.execute_reply.started": "2021-05-26T06:22:54.991979Z"
    }
   },
   "outputs": [
    {
     "data": {
      "text/html": [
       "<div>\n",
       "<style scoped>\n",
       "    .dataframe tbody tr th:only-of-type {\n",
       "        vertical-align: middle;\n",
       "    }\n",
       "\n",
       "    .dataframe tbody tr th {\n",
       "        vertical-align: top;\n",
       "    }\n",
       "\n",
       "    .dataframe thead th {\n",
       "        text-align: right;\n",
       "    }\n",
       "</style>\n",
       "<table border=\"1\" class=\"dataframe\">\n",
       "  <thead>\n",
       "    <tr style=\"text-align: right;\">\n",
       "      <th></th>\n",
       "      <th>class</th>\n",
       "      <th>tweet</th>\n",
       "    </tr>\n",
       "  </thead>\n",
       "  <tbody>\n",
       "  </tbody>\n",
       "</table>\n",
       "</div>"
      ],
      "text/plain": [
       "Empty DataFrame\n",
       "Columns: [class, tweet]\n",
       "Index: []"
      ]
     },
     "execution_count": 23,
     "metadata": {},
     "output_type": "execute_result"
    }
   ],
   "source": [
    "df_offensive[df_offensive['class']==0]"
   ]
  },
  {
   "cell_type": "code",
   "execution_count": 24,
   "metadata": {
    "execution": {
     "iopub.execute_input": "2021-05-26T06:22:55.010995Z",
     "iopub.status.busy": "2021-05-26T06:22:55.010286Z",
     "iopub.status.idle": "2021-05-26T06:22:55.017926Z",
     "shell.execute_reply": "2021-05-26T06:22:55.016624Z",
     "shell.execute_reply.started": "2021-05-26T06:22:55.010950Z"
    }
   },
   "outputs": [],
   "source": [
    "df_offensive[\"class\"].replace({2: 0}, inplace=True)"
   ]
  },
  {
   "cell_type": "code",
   "execution_count": 25,
   "metadata": {
    "execution": {
     "iopub.execute_input": "2021-05-26T06:22:55.021194Z",
     "iopub.status.busy": "2021-05-26T06:22:55.019865Z",
     "iopub.status.idle": "2021-05-26T06:22:55.177174Z",
     "shell.execute_reply": "2021-05-26T06:22:55.176146Z",
     "shell.execute_reply.started": "2021-05-26T06:22:55.021146Z"
    }
   },
   "outputs": [
    {
     "name": "stderr",
     "output_type": "stream",
     "text": [
      "/opt/conda/lib/python3.7/site-packages/seaborn/_decorators.py:43: FutureWarning: Pass the following variable as a keyword arg: x. From version 0.12, the only valid positional argument will be `data`, and passing other arguments without an explicit keyword will result in an error or misinterpretation.\n",
      "  FutureWarning\n"
     ]
    },
    {
     "data": {
      "text/plain": [
       "<AxesSubplot:xlabel='class', ylabel='count'>"
      ]
     },
     "execution_count": 25,
     "metadata": {},
     "output_type": "execute_result"
    },
    {
     "data": {
      "image/png": "[encoded data removed]",
      "text/plain": [
       "<Figure size 432x288 with 1 Axes>"
      ]
     },
     "metadata": {
      "needs_background": "light"
     },
     "output_type": "display_data"
    }
   ],
   "source": [
    "sns.countplot('class',data=df_offensive)"
   ]
  },
  {
   "cell_type": "code",
   "execution_count": 26,
   "metadata": {
    "execution": {
     "iopub.execute_input": "2021-05-26T06:22:55.179802Z",
     "iopub.status.busy": "2021-05-26T06:22:55.179192Z",
     "iopub.status.idle": "2021-05-26T06:22:55.186641Z",
     "shell.execute_reply": "2021-05-26T06:22:55.185142Z",
     "shell.execute_reply.started": "2021-05-26T06:22:55.179755Z"
    }
   },
   "outputs": [],
   "source": [
    "df_offensive.rename(columns ={'class':'label'}, inplace = True)\n",
    "   "
   ]
  },
  {
   "cell_type": "code",
   "execution_count": 27,
   "metadata": {
    "execution": {
     "iopub.execute_input": "2021-05-26T06:22:55.189740Z",
     "iopub.status.busy": "2021-05-26T06:22:55.189309Z",
     "iopub.status.idle": "2021-05-26T06:22:55.207597Z",
     "shell.execute_reply": "2021-05-26T06:22:55.206039Z",
     "shell.execute_reply.started": "2021-05-26T06:22:55.189699Z"
    }
   },
   "outputs": [
    {
     "data": {
      "text/html": [
       "<div>\n",
       "<style scoped>\n",
       "    .dataframe tbody tr th:only-of-type {\n",
       "        vertical-align: middle;\n",
       "    }\n",
       "\n",
       "    .dataframe tbody tr th {\n",
       "        vertical-align: top;\n",
       "    }\n",
       "\n",
       "    .dataframe thead th {\n",
       "        text-align: right;\n",
       "    }\n",
       "</style>\n",
       "<table border=\"1\" class=\"dataframe\">\n",
       "  <thead>\n",
       "    <tr style=\"text-align: right;\">\n",
       "      <th></th>\n",
       "      <th>label</th>\n",
       "      <th>tweet</th>\n",
       "    </tr>\n",
       "  </thead>\n",
       "  <tbody>\n",
       "    <tr>\n",
       "      <th>0</th>\n",
       "      <td>0</td>\n",
       "      <td>!!! RT @mayasolovely: As a woman you shouldn't...</td>\n",
       "    </tr>\n",
       "    <tr>\n",
       "      <th>1</th>\n",
       "      <td>1</td>\n",
       "      <td>!!!!! RT @mleew17: boy dats cold...tyga dwn ba...</td>\n",
       "    </tr>\n",
       "    <tr>\n",
       "      <th>2</th>\n",
       "      <td>1</td>\n",
       "      <td>!!!!!!! RT @UrKindOfBrand Dawg!!!! RT @80sbaby...</td>\n",
       "    </tr>\n",
       "    <tr>\n",
       "      <th>3</th>\n",
       "      <td>1</td>\n",
       "      <td>!!!!!!!!! RT @C_G_Anderson: @viva_based she lo...</td>\n",
       "    </tr>\n",
       "    <tr>\n",
       "      <th>4</th>\n",
       "      <td>1</td>\n",
       "      <td>!!!!!!!!!!!!! RT @ShenikaRoberts: The shit you...</td>\n",
       "    </tr>\n",
       "  </tbody>\n",
       "</table>\n",
       "</div>"
      ],
      "text/plain": [
       "   label                                              tweet\n",
       "0      0  !!! RT @mayasolovely: As a woman you shouldn't...\n",
       "1      1  !!!!! RT @mleew17: boy dats cold...tyga dwn ba...\n",
       "2      1  !!!!!!! RT @UrKindOfBrand Dawg!!!! RT @80sbaby...\n",
       "3      1  !!!!!!!!! RT @C_G_Anderson: @viva_based she lo...\n",
       "4      1  !!!!!!!!!!!!! RT @ShenikaRoberts: The shit you..."
      ]
     },
     "execution_count": 27,
     "metadata": {},
     "output_type": "execute_result"
    }
   ],
   "source": [
    "df_offensive.head()"
   ]
  },
  {
   "cell_type": "code",
   "execution_count": 28,
   "metadata": {
    "execution": {
     "iopub.execute_input": "2021-05-26T06:22:55.210705Z",
     "iopub.status.busy": "2021-05-26T06:22:55.210123Z",
     "iopub.status.idle": "2021-05-26T06:22:55.221474Z",
     "shell.execute_reply": "2021-05-26T06:22:55.219840Z",
     "shell.execute_reply.started": "2021-05-26T06:22:55.210592Z"
    }
   },
   "outputs": [
    {
     "data": {
      "text/plain": [
       "\"!!! RT @mayasolovely: As a woman you shouldn't complain about cleaning up your house. &amp; as a man you should always take the trash out...\""
      ]
     },
     "execution_count": 28,
     "metadata": {},
     "output_type": "execute_result"
    }
   ],
   "source": [
    "df_offensive.iloc[0]['tweet']"
   ]
  },
  {
   "cell_type": "code",
   "execution_count": 29,
   "metadata": {
    "execution": {
     "iopub.execute_input": "2021-05-26T06:22:55.224335Z",
     "iopub.status.busy": "2021-05-26T06:22:55.223750Z",
     "iopub.status.idle": "2021-05-26T06:22:55.234816Z",
     "shell.execute_reply": "2021-05-26T06:22:55.233333Z",
     "shell.execute_reply.started": "2021-05-26T06:22:55.224269Z"
    }
   },
   "outputs": [
    {
     "data": {
      "text/plain": [
       "'!!!!!!!!!!!!!!!!!!\"@T_Madison_x: The shit just blows me..claim you so faithful and down for somebody but still fucking with hoes! &#128514;&#128514;&#128514;\"'"
      ]
     },
     "execution_count": 29,
     "metadata": {},
     "output_type": "execute_result"
    }
   ],
   "source": [
    "df_offensive.iloc[5]['tweet']"
   ]
  },
  {
   "cell_type": "code",
   "execution_count": 30,
   "metadata": {
    "execution": {
     "iopub.execute_input": "2021-05-26T06:22:55.238102Z",
     "iopub.status.busy": "2021-05-26T06:22:55.237181Z",
     "iopub.status.idle": "2021-05-26T06:22:55.249262Z",
     "shell.execute_reply": "2021-05-26T06:22:55.247788Z",
     "shell.execute_reply.started": "2021-05-26T06:22:55.238006Z"
    }
   },
   "outputs": [],
   "source": [
    "frame=[df_twitter,df_offensive]\n",
    "df = pd.concat(frame)"
   ]
  },
  {
   "cell_type": "code",
   "execution_count": 31,
   "metadata": {
    "execution": {
     "iopub.execute_input": "2021-05-26T06:22:55.252157Z",
     "iopub.status.busy": "2021-05-26T06:22:55.251560Z",
     "iopub.status.idle": "2021-05-26T06:22:55.264802Z",
     "shell.execute_reply": "2021-05-26T06:22:55.263270Z",
     "shell.execute_reply.started": "2021-05-26T06:22:55.252113Z"
    }
   },
   "outputs": [
    {
     "data": {
      "text/html": [
       "<div>\n",
       "<style scoped>\n",
       "    .dataframe tbody tr th:only-of-type {\n",
       "        vertical-align: middle;\n",
       "    }\n",
       "\n",
       "    .dataframe tbody tr th {\n",
       "        vertical-align: top;\n",
       "    }\n",
       "\n",
       "    .dataframe thead th {\n",
       "        text-align: right;\n",
       "    }\n",
       "</style>\n",
       "<table border=\"1\" class=\"dataframe\">\n",
       "  <thead>\n",
       "    <tr style=\"text-align: right;\">\n",
       "      <th></th>\n",
       "      <th>label</th>\n",
       "      <th>tweet</th>\n",
       "    </tr>\n",
       "  </thead>\n",
       "  <tbody>\n",
       "    <tr>\n",
       "      <th>0</th>\n",
       "      <td>0</td>\n",
       "      <td>@user when a father is dysfunctional and is s...</td>\n",
       "    </tr>\n",
       "    <tr>\n",
       "      <th>1</th>\n",
       "      <td>0</td>\n",
       "      <td>@user @user thanks for #lyft credit i can't us...</td>\n",
       "    </tr>\n",
       "    <tr>\n",
       "      <th>2</th>\n",
       "      <td>0</td>\n",
       "      <td>bihday your majesty</td>\n",
       "    </tr>\n",
       "    <tr>\n",
       "      <th>3</th>\n",
       "      <td>0</td>\n",
       "      <td>#model   i love u take with u all the time in ...</td>\n",
       "    </tr>\n",
       "    <tr>\n",
       "      <th>4</th>\n",
       "      <td>0</td>\n",
       "      <td>factsguide: society now    #motivation</td>\n",
       "    </tr>\n",
       "  </tbody>\n",
       "</table>\n",
       "</div>"
      ],
      "text/plain": [
       "   label                                              tweet\n",
       "0      0   @user when a father is dysfunctional and is s...\n",
       "1      0  @user @user thanks for #lyft credit i can't us...\n",
       "2      0                                bihday your majesty\n",
       "3      0  #model   i love u take with u all the time in ...\n",
       "4      0             factsguide: society now    #motivation"
      ]
     },
     "execution_count": 31,
     "metadata": {},
     "output_type": "execute_result"
    }
   ],
   "source": [
    "df.head()"
   ]
  },
  {
   "cell_type": "code",
   "execution_count": 32,
   "metadata": {
    "execution": {
     "iopub.execute_input": "2021-05-26T06:22:55.267862Z",
     "iopub.status.busy": "2021-05-26T06:22:55.267039Z",
     "iopub.status.idle": "2021-05-26T06:22:55.420242Z",
     "shell.execute_reply": "2021-05-26T06:22:55.418844Z",
     "shell.execute_reply.started": "2021-05-26T06:22:55.267814Z"
    }
   },
   "outputs": [
    {
     "name": "stderr",
     "output_type": "stream",
     "text": [
      "/opt/conda/lib/python3.7/site-packages/seaborn/_decorators.py:43: FutureWarning: Pass the following variable as a keyword arg: x. From version 0.12, the only valid positional argument will be `data`, and passing other arguments without an explicit keyword will result in an error or misinterpretation.\n",
      "  FutureWarning\n"
     ]
    },
    {
     "data": {
      "text/plain": [
       "<AxesSubplot:xlabel='label', ylabel='count'>"
      ]
     },
     "execution_count": 32,
     "metadata": {},
     "output_type": "execute_result"
    },
    {
     "data": {
      "image/png": "[encoded data removed]",
      "text/plain": [
       "<Figure size 432x288 with 1 Axes>"
      ]
     },
     "metadata": {
      "needs_background": "light"
     },
     "output_type": "display_data"
    }
   ],
   "source": [
    "sns.countplot('label',data=df)"
   ]
  },
  {
   "cell_type": "code",
   "execution_count": 33,
   "metadata": {
    "execution": {
     "iopub.execute_input": "2021-05-26T06:22:55.422824Z",
     "iopub.status.busy": "2021-05-26T06:22:55.422312Z",
     "iopub.status.idle": "2021-05-26T06:22:55.430701Z",
     "shell.execute_reply": "2021-05-26T06:22:55.428928Z",
     "shell.execute_reply.started": "2021-05-26T06:22:55.422781Z"
    }
   },
   "outputs": [
    {
     "data": {
      "text/plain": [
       "(56745, 2)"
      ]
     },
     "execution_count": 33,
     "metadata": {},
     "output_type": "execute_result"
    }
   ],
   "source": [
    "df.shape"
   ]
  },
  {
   "cell_type": "code",
   "execution_count": 34,
   "metadata": {
    "execution": {
     "iopub.execute_input": "2021-05-26T06:22:55.433577Z",
     "iopub.status.busy": "2021-05-26T06:22:55.432768Z",
     "iopub.status.idle": "2021-05-26T06:22:56.263329Z",
     "shell.execute_reply": "2021-05-26T06:22:56.262247Z",
     "shell.execute_reply.started": "2021-05-26T06:22:55.433530Z"
    }
   },
   "outputs": [],
   "source": [
    "import re\n",
    "import nltk\n",
    "stemmer = nltk.SnowballStemmer(\"english\")\n",
    "from nltk.corpus import stopwords\n",
    "import string\n",
    "stopword=set(stopwords.words('english'))\n"
   ]
  },
  {
   "cell_type": "code",
   "execution_count": 35,
   "metadata": {
    "execution": {
     "iopub.execute_input": "2021-05-26T06:22:56.266557Z",
     "iopub.status.busy": "2021-05-26T06:22:56.266192Z",
     "iopub.status.idle": "2021-05-26T06:22:56.280476Z",
     "shell.execute_reply": "2021-05-26T06:22:56.279073Z",
     "shell.execute_reply.started": "2021-05-26T06:22:56.266523Z"
    }
   },
   "outputs": [],
   "source": [
    "def clean_text(text):\n",
    "    text = str(text).lower()\n",
    "    text = re.sub('\\[.*?\\]', '', text)\n",
    "    text = re.sub('https?://\\S+|www\\.\\S+', '', text)\n",
    "    text = re.sub('<.*?>+', '', text)\n",
    "    text = re.sub('[%s]' % re.escape(string.punctuation), '', text)\n",
    "    text = re.sub('\\n', '', text)\n",
    "    text = re.sub('\\w*\\d\\w*', '', text)\n",
    "    text = [word for word in text.split(' ') if word not in stopword]\n",
    "    text=\" \".join(text)\n",
    "    text = [stemmer.stem(word) for word in text.split(' ')]\n",
    "    text=\" \".join(text)\n",
    "    return text"
   ]
  },
  {
   "cell_type": "code",
   "execution_count": 36,
   "metadata": {
    "execution": {
     "iopub.execute_input": "2021-05-26T06:22:56.283463Z",
     "iopub.status.busy": "2021-05-26T06:22:56.282553Z",
     "iopub.status.idle": "2021-05-26T06:23:08.184761Z",
     "shell.execute_reply": "2021-05-26T06:23:08.183727Z",
     "shell.execute_reply.started": "2021-05-26T06:22:56.283389Z"
    }
   },
   "outputs": [],
   "source": [
    "df['tweet']=df['tweet'].apply(clean_text)"
   ]
  },
  {
   "cell_type": "code",
   "execution_count": 37,
   "metadata": {
    "execution": {
     "iopub.execute_input": "2021-05-26T06:23:08.189045Z",
     "iopub.status.busy": "2021-05-26T06:23:08.188409Z",
     "iopub.status.idle": "2021-05-26T06:23:08.201124Z",
     "shell.execute_reply": "2021-05-26T06:23:08.199831Z",
     "shell.execute_reply.started": "2021-05-26T06:23:08.188997Z"
    }
   },
   "outputs": [
    {
     "data": {
      "text/html": [
       "<div>\n",
       "<style scoped>\n",
       "    .dataframe tbody tr th:only-of-type {\n",
       "        vertical-align: middle;\n",
       "    }\n",
       "\n",
       "    .dataframe tbody tr th {\n",
       "        vertical-align: top;\n",
       "    }\n",
       "\n",
       "    .dataframe thead th {\n",
       "        text-align: right;\n",
       "    }\n",
       "</style>\n",
       "<table border=\"1\" class=\"dataframe\">\n",
       "  <thead>\n",
       "    <tr style=\"text-align: right;\">\n",
       "      <th></th>\n",
       "      <th>label</th>\n",
       "      <th>tweet</th>\n",
       "    </tr>\n",
       "  </thead>\n",
       "  <tbody>\n",
       "    <tr>\n",
       "      <th>0</th>\n",
       "      <td>0</td>\n",
       "      <td>user father dysfunct selfish drag kid dysfunc...</td>\n",
       "    </tr>\n",
       "    <tr>\n",
       "      <th>1</th>\n",
       "      <td>0</td>\n",
       "      <td>user user thank lyft credit cant use caus dont...</td>\n",
       "    </tr>\n",
       "    <tr>\n",
       "      <th>2</th>\n",
       "      <td>0</td>\n",
       "      <td>bihday majesti</td>\n",
       "    </tr>\n",
       "    <tr>\n",
       "      <th>3</th>\n",
       "      <td>0</td>\n",
       "      <td>model   love u take u time urð± ððð...</td>\n",
       "    </tr>\n",
       "    <tr>\n",
       "      <th>4</th>\n",
       "      <td>0</td>\n",
       "      <td>factsguid societi    motiv</td>\n",
       "    </tr>\n",
       "  </tbody>\n",
       "</table>\n",
       "</div>"
      ],
      "text/plain": [
       "   label                                              tweet\n",
       "0      0   user father dysfunct selfish drag kid dysfunc...\n",
       "1      0  user user thank lyft credit cant use caus dont...\n",
       "2      0                                     bihday majesti\n",
       "3      0  model   love u take u time urð± ððð...\n",
       "4      0                         factsguid societi    motiv"
      ]
     },
     "execution_count": 37,
     "metadata": {},
     "output_type": "execute_result"
    }
   ],
   "source": [
    "df.head()"
   ]
  },
  {
   "cell_type": "code",
   "execution_count": 38,
   "metadata": {
    "execution": {
     "iopub.execute_input": "2021-05-26T06:23:08.204420Z",
     "iopub.status.busy": "2021-05-26T06:23:08.203933Z",
     "iopub.status.idle": "2021-05-26T06:23:08.248716Z",
     "shell.execute_reply": "2021-05-26T06:23:08.247653Z",
     "shell.execute_reply.started": "2021-05-26T06:23:08.204373Z"
    }
   },
   "outputs": [],
   "source": [
    "from wordcloud import WordCloud, STOPWORDS\n",
    "import matplotlib.pyplot as plt\n",
    "import pandas as pd\n",
    "  "
   ]
  },
  {
   "cell_type": "code",
   "execution_count": 39,
   "metadata": {
    "execution": {
     "iopub.execute_input": "2021-05-26T06:23:08.250989Z",
     "iopub.status.busy": "2021-05-26T06:23:08.250511Z",
     "iopub.status.idle": "2021-05-26T06:23:08.259857Z",
     "shell.execute_reply": "2021-05-26T06:23:08.258521Z",
     "shell.execute_reply.started": "2021-05-26T06:23:08.250934Z"
    }
   },
   "outputs": [],
   "source": [
    "def make_wordcloud(df):\n",
    "    comment_words=\"\"\n",
    "    for val in df.tweet: \n",
    "        val = str(val).lower()\n",
    "\n",
    "      \n",
    "        comment_words += \" \".join(val)+\" \"\n",
    "    print(comment_words[0:100])\n",
    "    wordcloud = WordCloud(width = 800, height = 800,\n",
    "                background_color ='white',\n",
    "                stopwords = stopwords,min_font_size = 10).generate(comment_words)\n",
    "  \n",
    "    plt.figure(figsize = (8, 8), facecolor = None)\n",
    "    plt.imshow(wordcloud)\n",
    "    plt.axis(\"off\")\n",
    "    plt.tight_layout(pad = 0)\n",
    "\n",
    "    plt.show()"
   ]
  },
  {
   "cell_type": "code",
   "execution_count": 40,
   "metadata": {
    "execution": {
     "iopub.execute_input": "2021-05-26T06:23:08.263058Z",
     "iopub.status.busy": "2021-05-26T06:23:08.261962Z",
     "iopub.status.idle": "2021-05-26T06:23:08.271236Z",
     "shell.execute_reply": "2021-05-26T06:23:08.269534Z",
     "shell.execute_reply.started": "2021-05-26T06:23:08.262829Z"
    }
   },
   "outputs": [],
   "source": [
    "# make_wordcloud(df[df['label']==0])"
   ]
  },
  {
   "cell_type": "code",
   "execution_count": 41,
   "metadata": {
    "execution": {
     "iopub.execute_input": "2021-05-26T06:23:08.274829Z",
     "iopub.status.busy": "2021-05-26T06:23:08.273140Z",
     "iopub.status.idle": "2021-05-26T06:23:08.283096Z",
     "shell.execute_reply": "2021-05-26T06:23:08.281872Z",
     "shell.execute_reply.started": "2021-05-26T06:23:08.274789Z"
    }
   },
   "outputs": [],
   "source": [
    "x=df['tweet']\n",
    "y=df['label']"
   ]
  },
  {
   "cell_type": "code",
   "execution_count": 42,
   "metadata": {
    "execution": {
     "iopub.execute_input": "2021-05-26T06:23:08.285406Z",
     "iopub.status.busy": "2021-05-26T06:23:08.284705Z",
     "iopub.status.idle": "2021-05-26T06:23:08.306214Z",
     "shell.execute_reply": "2021-05-26T06:23:08.305193Z",
     "shell.execute_reply.started": "2021-05-26T06:23:08.285361Z"
    }
   },
   "outputs": [
    {
     "name": "stdout",
     "output_type": "stream",
     "text": [
      "42558 42558\n",
      "14187 14187\n"
     ]
    }
   ],
   "source": [
    "from sklearn.model_selection import train_test_split\n",
    "\n",
    "x_train, x_test, y_train, y_test = train_test_split(x, y, random_state=42)\n",
    "print(len(x_train), len(y_train))\n",
    "print(len(x_test), len(y_test))"
   ]
  },
  {
   "cell_type": "code",
   "execution_count": 43,
   "metadata": {
    "execution": {
     "iopub.execute_input": "2021-05-26T06:23:08.308425Z",
     "iopub.status.busy": "2021-05-26T06:23:08.307933Z",
     "iopub.status.idle": "2021-05-26T06:23:13.936274Z",
     "shell.execute_reply": "2021-05-26T06:23:13.935178Z",
     "shell.execute_reply.started": "2021-05-26T06:23:08.308383Z"
    }
   },
   "outputs": [],
   "source": [
    "from sklearn.feature_extraction.text import CountVectorizer\n",
    "\n",
    "count = CountVectorizer(stop_words='english', ngram_range=(1,5))\n",
    "x_train_vectorizer=count.fit_transform(x_train)"
   ]
  },
  {
   "cell_type": "code",
   "execution_count": 44,
   "metadata": {
    "execution": {
     "iopub.execute_input": "2021-05-26T06:23:13.938649Z",
     "iopub.status.busy": "2021-05-26T06:23:13.938159Z",
     "iopub.status.idle": "2021-05-26T06:23:15.669623Z",
     "shell.execute_reply": "2021-05-26T06:23:15.668617Z",
     "shell.execute_reply.started": "2021-05-26T06:23:13.938605Z"
    }
   },
   "outputs": [
    {
     "data": {
      "text/plain": [
       "array([[0, 0, 0, ..., 0, 0, 0],\n",
       "       [0, 0, 0, ..., 0, 0, 0],\n",
       "       [0, 0, 0, ..., 0, 0, 0],\n",
       "       ...,\n",
       "       [0, 0, 0, ..., 0, 0, 0],\n",
       "       [0, 0, 0, ..., 0, 0, 0],\n",
       "       [0, 0, 0, ..., 0, 0, 0]])"
      ]
     },
     "execution_count": 44,
     "metadata": {},
     "output_type": "execute_result"
    }
   ],
   "source": [
    "x_test_vectorizer=count.transform(x_test)\n",
    "x_train_vectorizer.toarray()\n"
   ]
  },
  {
   "cell_type": "code",
   "execution_count": 45,
   "metadata": {
    "collapsed": true,
    "execution": {
     "iopub.execute_input": "2021-05-26T06:23:15.671696Z",
     "iopub.status.busy": "2021-05-26T06:23:15.671259Z",
     "iopub.status.idle": "2021-05-26T06:23:15.720542Z",
     "shell.execute_reply": "2021-05-26T06:23:15.719034Z",
     "shell.execute_reply.started": "2021-05-26T06:23:15.671662Z"
    },
    "jupyter": {
     "outputs_hidden": true
    }
   },
   "outputs": [
    {
     "data": {
      "text/plain": [
       "{'pictur': 496965,\n",
       " 'galleri': 244789,\n",
       " 'live': 386374,\n",
       " 'blackcavali': 78353,\n",
       " 'caucasian': 105699,\n",
       " 'webcam': 750931,\n",
       " 'pictur galleri': 497099,\n",
       " 'galleri live': 244792,\n",
       " 'live blackcavali': 386462,\n",
       " 'blackcavali caucasian': 78354,\n",
       " 'caucasian webcam': 105705,\n",
       " 'pictur galleri live': 497100,\n",
       " 'galleri live blackcavali': 244793,\n",
       " 'live blackcavali caucasian': 386463,\n",
       " 'blackcavali caucasian webcam': 78355,\n",
       " 'pictur galleri live blackcavali': 497101,\n",
       " 'galleri live blackcavali caucasian': 244794,\n",
       " 'live blackcavali caucasian webcam': 386464,\n",
       " 'pictur galleri live blackcavali caucasian': 497102,\n",
       " 'galleri live blackcavali caucasian webcam': 244795,\n",
       " 'shoutout': 600018,\n",
       " 'everybodi': 198100,\n",
       " 'follow': 226779,\n",
       " 'nicca': 455780,\n",
       " 'shoutout everybodi': 600045,\n",
       " 'everybodi follow': 198226,\n",
       " 'follow nicca': 227264,\n",
       " 'shoutout everybodi follow': 600046,\n",
       " 'everybodi follow nicca': 198227,\n",
       " 'shoutout everybodi follow nicca': 600047,\n",
       " 'user': 703467,\n",
       " 'bet': 56640,\n",
       " 'second': 586131,\n",
       " 'goal': 255394,\n",
       " 'bottler': 85661,\n",
       " 'user user': 724712,\n",
       " 'user bet': 705466,\n",
       " 'bet second': 56813,\n",
       " 'second goal': 586194,\n",
       " 'goal bottler': 255408,\n",
       " 'user user bet': 724992,\n",
       " 'user bet second': 705479,\n",
       " 'bet second goal': 56814,\n",
       " 'second goal bottler': 586195,\n",
       " 'user user bet second': 724997,\n",
       " 'user bet second goal': 705480,\n",
       " 'bet second goal bottler': 56815,\n",
       " 'user user bet second goal': 724998,\n",
       " 'user bet second goal bottler': 705481,\n",
       " 'tattoosleev': 649673,\n",
       " 'gorilla': 263283,\n",
       " 'simul': 602796,\n",
       " 'need': 448086,\n",
       " 'adapt': 4027,\n",
       " 'environ': 194474,\n",
       " 'tear': 651817,\n",
       " 'citi': 117676,\n",
       " 'tattoosleev gorilla': 649674,\n",
       " 'gorilla simul': 263331,\n",
       " 'simul need': 602807,\n",
       " 'need adapt': 448100,\n",
       " 'adapt environ': 4028,\n",
       " 'environ need': 194487,\n",
       " 'need tear': 449697,\n",
       " 'tear citi': 651834,\n",
       " 'tattoosleev gorilla simul': 649675,\n",
       " 'gorilla simul need': 263332,\n",
       " 'simul need adapt': 602808,\n",
       " 'need adapt environ': 448101,\n",
       " 'adapt environ need': 4029,\n",
       " 'environ need tear': 194488,\n",
       " 'need tear citi': 449698,\n",
       " 'tattoosleev gorilla simul need': 649676,\n",
       " 'gorilla simul need adapt': 263333,\n",
       " 'simul need adapt environ': 602809,\n",
       " 'need adapt environ need': 448102,\n",
       " 'adapt environ need tear': 4030,\n",
       " 'environ need tear citi': 194489,\n",
       " 'tattoosleev gorilla simul need adapt': 649677,\n",
       " 'gorilla simul need adapt environ': 263334,\n",
       " 'simul need adapt environ need': 602810,\n",
       " 'need adapt environ need tear': 448103,\n",
       " 'adapt environ need tear citi': 4031,\n",
       " 'boy': 87102,\n",
       " 'ryanbowersob': 573405,\n",
       " 'got': 263467,\n",
       " 'hoe': 300275,\n",
       " 'boy ryanbowersob': 87736,\n",
       " 'ryanbowersob got': 573406,\n",
       " 'got hoe': 264878,\n",
       " 'boy ryanbowersob got': 87737,\n",
       " 'ryanbowersob got hoe': 573407,\n",
       " 'boy ryanbowersob got hoe': 87738,\n",
       " 'hate': 286834,\n",
       " 'aliv': 11793,\n",
       " 'hater': 288324,\n",
       " 'orlandounit': 480071,\n",
       " 'hate aliv': 286847,\n",
       " 'aliv hater': 11819,\n",
       " 'hater orlandounit': 288353,\n",
       " 'hate aliv hater': 286848,\n",
       " 'aliv hater orlandounit': 11820,\n",
       " 'hate aliv hater orlandounit': 286849,\n",
       " 'book': 83638,\n",
       " 'endur': 192647,\n",
       " 'convict': 131799,\n",
       " 'fred': 231715,\n",
       " 'korematsu': 359709,\n",
       " 'amp': 17807,\n",
       " 'quest': 523179,\n",
       " 'justic': 348074,\n",
       " 'humanright': 313763,\n",
       " 'htâ': 312750,\n",
       " 'book endur': 83763,\n",
       " 'endur convict': 192648,\n",
       " 'convict fred': 131800,\n",
       " 'fred korematsu': 231716,\n",
       " 'korematsu amp': 359710,\n",
       " 'amp quest': 20910,\n",
       " 'quest justic': 523182,\n",
       " 'justic humanright': 348091,\n",
       " 'humanright htâ': 313772,\n",
       " 'book endur convict': 83764,\n",
       " 'endur convict fred': 192649,\n",
       " 'convict fred korematsu': 131801,\n",
       " 'fred korematsu amp': 231717,\n",
       " 'korematsu amp quest': 359711,\n",
       " 'amp quest justic': 20911,\n",
       " 'quest justic humanright': 523183,\n",
       " 'justic humanright htâ': 348092,\n",
       " 'book endur convict fred': 83765,\n",
       " 'endur convict fred korematsu': 192650,\n",
       " 'convict fred korematsu amp': 131802,\n",
       " 'fred korematsu amp quest': 231718,\n",
       " 'korematsu amp quest justic': 359712,\n",
       " 'amp quest justic humanright': 20912,\n",
       " 'quest justic humanright htâ': 523184,\n",
       " 'book endur convict fred korematsu': 83766,\n",
       " 'endur convict fred korematsu amp': 192651,\n",
       " 'convict fred korematsu amp quest': 131803,\n",
       " 'fred korematsu amp quest justic': 231719,\n",
       " 'korematsu amp quest justic humanright': 359713,\n",
       " 'amp quest justic humanright htâ': 20913,\n",
       " 'reason': 534139,\n",
       " 'gun': 274775,\n",
       " 'lobbi': 389383,\n",
       " 'senat': 588901,\n",
       " 'pay': 487451,\n",
       " 'repdem': 540092,\n",
       " 'make': 408681,\n",
       " 'sure': 642475,\n",
       " 'continu': 131159,\n",
       " 'billion': 62281,\n",
       " 'industri': 329647,\n",
       " 'user reason': 719765,\n",
       " 'reason gun': 534265,\n",
       " 'gun lobbi': 274981,\n",
       " 'lobbi senat': 389401,\n",
       " 'senat pay': 588912,\n",
       " 'pay senat': 487954,\n",
       " 'senat repdem': 588924,\n",
       " 'repdem make': 540093,\n",
       " 'make sure': 411300,\n",
       " 'sure continu': 642555,\n",
       " 'continu make': 131228,\n",
       " 'make billion': 408879,\n",
       " 'billion gun': 62287,\n",
       " 'gun industri': 274937,\n",
       " 'user reason gun': 719775,\n",
       " 'reason gun lobbi': 534266,\n",
       " 'gun lobbi senat': 274985,\n",
       " 'lobbi senat pay': 389402,\n",
       " 'senat pay senat': 588913,\n",
       " 'pay senat repdem': 487955,\n",
       " 'senat repdem make': 588925,\n",
       " 'repdem make sure': 540094,\n",
       " 'make sure continu': 411316,\n",
       " 'sure continu make': 642556,\n",
       " 'continu make billion': 131229,\n",
       " 'make billion gun': 408880,\n",
       " 'billion gun industri': 62288,\n",
       " 'user reason gun lobbi': 719776,\n",
       " 'reason gun lobbi senat': 534267,\n",
       " 'gun lobbi senat pay': 274986,\n",
       " 'lobbi senat pay senat': 389403,\n",
       " 'senat pay senat repdem': 588914,\n",
       " 'pay senat repdem make': 487956,\n",
       " 'senat repdem make sure': 588926,\n",
       " 'repdem make sure continu': 540095,\n",
       " 'make sure continu make': 411317,\n",
       " 'sure continu make billion': 642557,\n",
       " 'continu make billion gun': 131230,\n",
       " 'make billion gun industri': 408881,\n",
       " 'user reason gun lobbi senat': 719777,\n",
       " 'reason gun lobbi senat pay': 534268,\n",
       " 'gun lobbi senat pay senat': 274987,\n",
       " 'lobbi senat pay senat repdem': 389404,\n",
       " 'senat pay senat repdem make': 588915,\n",
       " 'pay senat repdem make sure': 487957,\n",
       " 'senat repdem make sure continu': 588927,\n",
       " 'repdem make sure continu make': 540096,\n",
       " 'make sure continu make billion': 411318,\n",
       " 'sure continu make billion gun': 642558,\n",
       " 'continu make billion gun industri': 131231,\n",
       " 'dinner': 167626,\n",
       " 'friend': 234464,\n",
       " 'steak': 628490,\n",
       " 'shop': 598886,\n",
       " 'disappoint': 168587,\n",
       " 'yummi': 788522,\n",
       " 'nice': 456274,\n",
       " 'theâ': 661391,\n",
       " 'dinner friend': 167677,\n",
       " 'friend steak': 235695,\n",
       " 'steak shop': 628542,\n",
       " 'shop disappoint': 598938,\n",
       " 'disappoint yummi': 168728,\n",
       " 'yummi nice': 788576,\n",
       " 'nice theâ': 456751,\n",
       " 'dinner friend steak': 167681,\n",
       " 'friend steak shop': 235696,\n",
       " 'steak shop disappoint': 628543,\n",
       " 'shop disappoint yummi': 598939,\n",
       " 'disappoint yummi nice': 168729,\n",
       " 'yummi nice theâ': 788577,\n",
       " 'dinner friend steak shop': 167682,\n",
       " 'friend steak shop disappoint': 235697,\n",
       " 'steak shop disappoint yummi': 628544,\n",
       " 'shop disappoint yummi nice': 598940,\n",
       " 'disappoint yummi nice theâ': 168730,\n",
       " 'dinner friend steak shop disappoint': 167683,\n",
       " 'friend steak shop disappoint yummi': 235698,\n",
       " 'steak shop disappoint yummi nice': 628545,\n",
       " 'shop disappoint yummi nice theâ': 598941,\n",
       " 'buy': 98133,\n",
       " 'record': 535254,\n",
       " 'main': 408247,\n",
       " 'rap': 527638,\n",
       " 'album': 10970,\n",
       " 'discog': 168807,\n",
       " 'hiphop': 298432,\n",
       " 'lps': 404801,\n",
       " 'forsal': 230255,\n",
       " 'music': 442265,\n",
       " 'love': 398001,\n",
       " 'ebay': 187414,\n",
       " 'buy record': 98483,\n",
       " 'record main': 535328,\n",
       " 'main rap': 408403,\n",
       " 'rap album': 527640,\n",
       " 'album discog': 10995,\n",
       " 'discog rap': 168808,\n",
       " 'rap hiphop': 527687,\n",
       " 'hiphop lps': 298451,\n",
       " 'lps record': 404802,\n",
       " 'record forsal': 535288,\n",
       " 'forsal music': 230256,\n",
       " 'music love': 442612,\n",
       " 'love ebay': 399259,\n",
       " 'buy record main': 98484,\n",
       " 'record main rap': 535329,\n",
       " 'main rap album': 408404,\n",
       " 'rap album discog': 527641,\n",
       " 'album discog rap': 10996,\n",
       " 'discog rap hiphop': 168809,\n",
       " 'rap hiphop lps': 527688,\n",
       " 'hiphop lps record': 298452,\n",
       " 'lps record forsal': 404803,\n",
       " 'record forsal music': 535289,\n",
       " 'forsal music love': 230257,\n",
       " 'music love ebay': 442619,\n",
       " 'buy record main rap': 98485,\n",
       " 'record main rap album': 535330,\n",
       " 'main rap album discog': 408405,\n",
       " 'rap album discog rap': 527642,\n",
       " 'album discog rap hiphop': 10997,\n",
       " 'discog rap hiphop lps': 168810,\n",
       " 'rap hiphop lps record': 527689,\n",
       " 'hiphop lps record forsal': 298453,\n",
       " 'lps record forsal music': 404804,\n",
       " 'record forsal music love': 535290,\n",
       " 'forsal music love ebay': 230258,\n",
       " 'buy record main rap album': 98486,\n",
       " 'record main rap album discog': 535331,\n",
       " 'main rap album discog rap': 408406,\n",
       " 'rap album discog rap hiphop': 527643,\n",
       " 'album discog rap hiphop lps': 10998,\n",
       " 'discog rap hiphop lps record': 168811,\n",
       " 'rap hiphop lps record forsal': 527690,\n",
       " 'hiphop lps record forsal music': 298454,\n",
       " 'lps record forsal music love': 404805,\n",
       " 'record forsal music love ebay': 535291,\n",
       " 'bossdog': 85322,\n",
       " 'bossdog user': 85323,\n",
       " 'bossdog user user': 85324,\n",
       " 'rt': 551149,\n",
       " 'dadonherself': 146656,\n",
       " 'nigga': 457518,\n",
       " 'fuck': 236939,\n",
       " 'pretti': 512407,\n",
       " 'girl': 251227,\n",
       " 'head': 289945,\n",
       " 'right': 545348,\n",
       " 'ho': 299893,\n",
       " 'pair': 483602,\n",
       " 'good': 259544,\n",
       " 'panti': 484412,\n",
       " 'rt dadonherself': 554809,\n",
       " 'dadonherself nigga': 146657,\n",
       " 'nigga fuck': 458615,\n",
       " 'fuck pretti': 239368,\n",
       " 'pretti girl': 512610,\n",
       " 'girl head': 252052,\n",
       " 'head right': 290361,\n",
       " 'right ho': 545761,\n",
       " 'ho got': 299960,\n",
       " 'got pair': 265766,\n",
       " 'pair good': 483630,\n",
       " 'good panti': 261178,\n",
       " 'rt dadonherself nigga': 554810,\n",
       " 'dadonherself nigga fuck': 146658,\n",
       " 'nigga fuck pretti': 458663,\n",
       " 'fuck pretti girl': 239369,\n",
       " 'pretti girl head': 512611,\n",
       " 'girl head right': 252053,\n",
       " 'head right ho': 290362,\n",
       " 'right ho got': 545762,\n",
       " 'ho got pair': 299964,\n",
       " 'got pair good': 265767,\n",
       " 'pair good panti': 483631,\n",
       " 'rt dadonherself nigga fuck': 554811,\n",
       " 'dadonherself nigga fuck pretti': 146659,\n",
       " 'nigga fuck pretti girl': 458664,\n",
       " 'fuck pretti girl head': 239370,\n",
       " 'pretti girl head right': 512612,\n",
       " 'girl head right ho': 252054,\n",
       " 'head right ho got': 290363,\n",
       " 'right ho got pair': 545763,\n",
       " 'ho got pair good': 299965,\n",
       " 'got pair good panti': 265768,\n",
       " 'rt dadonherself nigga fuck pretti': 554812,\n",
       " 'dadonherself nigga fuck pretti girl': 146660,\n",
       " 'nigga fuck pretti girl head': 458665,\n",
       " 'fuck pretti girl head right': 239371,\n",
       " 'pretti girl head right ho': 512613,\n",
       " 'girl head right ho got': 252055,\n",
       " 'head right ho got pair': 290364,\n",
       " 'right ho got pair good': 545764,\n",
       " 'ho got pair good panti': 299966,\n",
       " 'yeeeaaahhh': 782364,\n",
       " 'wattpad': 748038,\n",
       " 'yeeeaaahhh wattpad': 782365,\n",
       " 'kelseyyvirginia': 350244,\n",
       " 'caylanashle': 106854,\n",
       " 'look': 392867,\n",
       " 'bitch': 64163,\n",
       " 'want': 742472,\n",
       " 'gramat': 268925,\n",
       " 'correct': 133556,\n",
       " 'kelseyyvirginia caylanashle': 350245,\n",
       " 'caylanashle look': 106859,\n",
       " 'look bitch': 393104,\n",
       " 'bitch want': 75749,\n",
       " 'want gramat': 743370,\n",
       " 'gramat correct': 268926,\n",
       " 'kelseyyvirginia caylanashle look': 350246,\n",
       " 'caylanashle look bitch': 106860,\n",
       " 'look bitch want': 393146,\n",
       " 'bitch want gramat': 75801,\n",
       " 'want gramat correct': 743371,\n",
       " 'kelseyyvirginia caylanashle look bitch': 350247,\n",
       " 'caylanashle look bitch want': 106861,\n",
       " 'look bitch want gramat': 393147,\n",
       " 'bitch want gramat correct': 75802,\n",
       " 'kelseyyvirginia caylanashle look bitch want': 350248,\n",
       " 'caylanashle look bitch want gramat': 106862,\n",
       " 'look bitch want gramat correct': 393148,\n",
       " 'gabrielleheaton': 244491,\n",
       " 'rt gabrielleheaton': 557014,\n",
       " 'gotta': 267097,\n",
       " 'remind': 539516,\n",
       " 'da': 144716,\n",
       " 'phone': 494768,\n",
       " 'sometim': 616273,\n",
       " 'cuz': 143978,\n",
       " 'sidetrack': 601492,\n",
       " 'bad': 42133,\n",
       " 'den': 161357,\n",
       " 'mad': 407002,\n",
       " 'meet': 422107,\n",
       " 'em': 190329,\n",
       " 'gotta remind': 267654,\n",
       " 'remind da': 539559,\n",
       " 'da phone': 145159,\n",
       " 'phone sometim': 495061,\n",
       " 'sometim cuz': 616310,\n",
       " 'cuz sidetrack': 144339,\n",
       " 'sidetrack bad': 601493,\n",
       " 'bad bitch': 42204,\n",
       " 'bitch den': 66795,\n",
       " 'den mad': 161392,\n",
       " 'mad cuz': 407112,\n",
       " 'cuz meet': 144248,\n",
       " 'meet em': 422200,\n",
       " 'gotta remind da': 267658,\n",
       " 'remind da phone': 539560,\n",
       " 'da phone sometim': 145160,\n",
       " 'phone sometim cuz': 495062,\n",
       " 'sometim cuz sidetrack': 616311,\n",
       " 'cuz sidetrack bad': 144340,\n",
       " 'sidetrack bad bitch': 601494,\n",
       " 'bad bitch den': 42276,\n",
       " 'bitch den mad': 66796,\n",
       " 'den mad cuz': 161393,\n",
       " 'mad cuz meet': 407124,\n",
       " 'cuz meet em': 144249,\n",
       " 'gotta remind da phone': 267659,\n",
       " 'remind da phone sometim': 539561,\n",
       " 'da phone sometim cuz': 145161,\n",
       " 'phone sometim cuz sidetrack': 495063,\n",
       " 'sometim cuz sidetrack bad': 616312,\n",
       " 'cuz sidetrack bad bitch': 144341,\n",
       " 'sidetrack bad bitch den': 601495,\n",
       " 'bad bitch den mad': 42277,\n",
       " 'bitch den mad cuz': 66797,\n",
       " 'den mad cuz meet': 161394,\n",
       " 'mad cuz meet em': 407125,\n",
       " 'gotta remind da phone sometim': 267660,\n",
       " 'remind da phone sometim cuz': 539562,\n",
       " 'da phone sometim cuz sidetrack': 145162,\n",
       " 'phone sometim cuz sidetrack bad': 495064,\n",
       " 'sometim cuz sidetrack bad bitch': 616313,\n",
       " 'cuz sidetrack bad bitch den': 144342,\n",
       " 'sidetrack bad bitch den mad': 601496,\n",
       " 'bad bitch den mad cuz': 42278,\n",
       " 'bitch den mad cuz meet': 66798,\n",
       " 'den mad cuz meet em': 161395,\n",
       " 'englandbailey': 193139,\n",
       " 'happi': 281124,\n",
       " 'birthday': 63778,\n",
       " 'nicest': 456890,\n",
       " 'faggot': 205954,\n",
       " 'rt englandbailey': 556097,\n",
       " 'englandbailey happi': 193140,\n",
       " 'happi birthday': 281622,\n",
       " 'birthday nicest': 63891,\n",
       " 'nicest faggot': 456891,\n",
       " 'rt englandbailey happi': 556098,\n",
       " 'englandbailey happi birthday': 193141,\n",
       " 'happi birthday nicest': 281689,\n",
       " 'birthday nicest faggot': 63892,\n",
       " 'rt englandbailey happi birthday': 556099,\n",
       " 'englandbailey happi birthday nicest': 193142,\n",
       " 'happi birthday nicest faggot': 281690,\n",
       " 'rt englandbailey happi birthday nicest': 556100,\n",
       " 'englandbailey happi birthday nicest faggot': 193143,\n",
       " 'theyloveblaq': 661005,\n",
       " 'joselin': 345640,\n",
       " 'sneak': 612330,\n",
       " 'athea': 35970,\n",
       " 'dont': 173608,\n",
       " 'like': 375362,\n",
       " 'come': 124706,\n",
       " 'sit': 604875,\n",
       " 'yo': 784455,\n",
       " 'ass': 33046,\n",
       " 'onnat': 476446,\n",
       " 'couch': 134095,\n",
       " 'rt theyloveblaq': 568694,\n",
       " 'theyloveblaq joselin': 661006,\n",
       " 'joselin sneak': 345647,\n",
       " 'sneak athea': 612331,\n",
       " 'athea bitch': 35971,\n",
       " 'bitch dont': 66984,\n",
       " 'dont like': 175578,\n",
       " 'like come': 376633,\n",
       " 'come like': 125545,\n",
       " 'like amp': 375487,\n",
       " 'amp sit': 21323,\n",
       " 'sit yo': 605178,\n",
       " 'yo ass': 784468,\n",
       " 'ass onnat': 34516,\n",
       " 'onnat couch': 476447,\n",
       " 'rt theyloveblaq joselin': 568695,\n",
       " 'theyloveblaq joselin sneak': 661007,\n",
       " 'joselin sneak athea': 345648,\n",
       " 'sneak athea bitch': 612332,\n",
       " 'athea bitch dont': 35972,\n",
       " 'bitch dont like': 67086,\n",
       " 'dont like come': 175610,\n",
       " 'like come like': 376640,\n",
       " 'come like amp': 125546,\n",
       " 'like amp sit': 375497,\n",
       " 'amp sit yo': 21328,\n",
       " 'sit yo ass': 605179,\n",
       " 'yo ass onnat': 784485,\n",
       " 'ass onnat couch': 34517,\n",
       " 'rt theyloveblaq joselin sneak': 568696,\n",
       " 'theyloveblaq joselin sneak athea': 661008,\n",
       " 'joselin sneak athea bitch': 345649,\n",
       " 'sneak athea bitch dont': 612333,\n",
       " 'athea bitch dont like': 35973,\n",
       " 'bitch dont like come': 67090,\n",
       " 'dont like come like': 175611,\n",
       " 'like come like amp': 376641,\n",
       " 'come like amp sit': 125547,\n",
       " 'like amp sit yo': 375498,\n",
       " 'amp sit yo ass': 21329,\n",
       " 'sit yo ass onnat': 605180,\n",
       " 'yo ass onnat couch': 784486,\n",
       " 'rt theyloveblaq joselin sneak athea': 568697,\n",
       " 'theyloveblaq joselin sneak athea bitch': 661009,\n",
       " 'joselin sneak athea bitch dont': 345650,\n",
       " 'sneak athea bitch dont like': 612334,\n",
       " 'athea bitch dont like come': 35974,\n",
       " 'bitch dont like come like': 67091,\n",
       " 'dont like come like amp': 175612,\n",
       " 'like come like amp sit': 376642,\n",
       " 'come like amp sit yo': 125548,\n",
       " 'like amp sit yo ass': 375499,\n",
       " 'amp sit yo ass onnat': 21330,\n",
       " 'sit yo ass onnat couch': 605181,\n",
       " 'movi': 439832,\n",
       " 'aint': 8068,\n",
       " 'star': 625932,\n",
       " 'extra': 203241,\n",
       " 'pride': 513308,\n",
       " 'movi everybodi': 439916,\n",
       " 'everybodi aint': 198105,\n",
       " 'aint star': 9610,\n",
       " 'star need': 626064,\n",
       " 'need star': 449541,\n",
       " 'star extra': 625975,\n",
       " 'extra hate': 203278,\n",
       " 'hate hoe': 287456,\n",
       " 'hoe pride': 303397,\n",
       " 'movi everybodi aint': 439917,\n",
       " 'everybodi aint star': 198109,\n",
       " 'aint star need': 9611,\n",
       " 'star need star': 626065,\n",
       " 'need star extra': 449542,\n",
       " 'star extra hate': 625976,\n",
       " 'extra hate hoe': 203279,\n",
       " 'hate hoe pride': 287473,\n",
       " 'movi everybodi aint star': 439918,\n",
       " 'everybodi aint star need': 198110,\n",
       " 'aint star need star': 9612,\n",
       " 'star need star extra': 626066,\n",
       " 'need star extra hate': 449543,\n",
       " 'star extra hate hoe': 625977,\n",
       " 'extra hate hoe pride': 203280,\n",
       " 'movi everybodi aint star need': 439919,\n",
       " 'everybodi aint star need star': 198111,\n",
       " 'aint star need star extra': 9613,\n",
       " 'star need star extra hate': 626067,\n",
       " 'need star extra hate hoe': 449544,\n",
       " 'star extra hate hoe pride': 625978,\n",
       " 'gottaluvlexci': 267846,\n",
       " 'myhipsdntli': 443874,\n",
       " 'tight': 668700,\n",
       " 'pant': 484336,\n",
       " 'loud': 397745,\n",
       " 'color': 123951,\n",
       " 'fag': 205657,\n",
       " 'rt gottaluvlexci': 557364,\n",
       " 'gottaluvlexci rt': 267847,\n",
       " 'rt myhipsdntli': 563330,\n",
       " 'myhipsdntli tight': 443875,\n",
       " 'tight pant': 668746,\n",
       " 'pant loud': 484371,\n",
       " 'loud color': 397752,\n",
       " 'color look': 124249,\n",
       " 'look like': 394074,\n",
       " 'like fag': 377399,\n",
       " 'rt gottaluvlexci rt': 557365,\n",
       " 'gottaluvlexci rt myhipsdntli': 267848,\n",
       " 'rt myhipsdntli tight': 563331,\n",
       " 'myhipsdntli tight pant': 443876,\n",
       " 'tight pant loud': 668747,\n",
       " 'pant loud color': 484372,\n",
       " 'loud color look': 397753,\n",
       " 'color look like': 124250,\n",
       " 'look like fag': 394290,\n",
       " 'rt gottaluvlexci rt myhipsdntli': 557366,\n",
       " 'gottaluvlexci rt myhipsdntli tight': 267849,\n",
       " 'rt myhipsdntli tight pant': 563332,\n",
       " 'myhipsdntli tight pant loud': 443877,\n",
       " 'tight pant loud color': 668748,\n",
       " 'pant loud color look': 484373,\n",
       " 'loud color look like': 397754,\n",
       " 'color look like fag': 124251,\n",
       " 'rt gottaluvlexci rt myhipsdntli tight': 557367,\n",
       " 'gottaluvlexci rt myhipsdntli tight pant': 267850,\n",
       " 'rt myhipsdntli tight pant loud': 563333,\n",
       " 'myhipsdntli tight pant loud color': 443878,\n",
       " 'tight pant loud color look': 668749,\n",
       " 'pant loud color look like': 484374,\n",
       " 'loud color look like fag': 397755,\n",
       " 'nochillpaz': 464573,\n",
       " 'say': 579863,\n",
       " 'broke': 92540,\n",
       " 'rt nochillpaz': 563851,\n",
       " 'nochillpaz bitch': 464574,\n",
       " 'bitch say': 73290,\n",
       " 'say broke': 580105,\n",
       " 'rt nochillpaz bitch': 563852,\n",
       " 'nochillpaz bitch say': 464576,\n",
       " 'bitch say broke': 73298,\n",
       " 'rt nochillpaz bitch say': 563854,\n",
       " 'nochillpaz bitch say broke': 464577,\n",
       " 'rt nochillpaz bitch say broke': 563855,\n",
       " 'aww': 39947,\n",
       " 'yeah': 780270,\n",
       " 'bing': 62435,\n",
       " 'bong': 83357,\n",
       " 'aww yeah': 39989,\n",
       " 'yeah good': 780488,\n",
       " 'good bing': 259656,\n",
       " 'bing bong': 62440,\n",
       " 'bong bing': 83358,\n",
       " 'aww yeah good': 39990,\n",
       " 'yeah good bing': 780489,\n",
       " 'good bing bong': 259657,\n",
       " 'bing bong bing': 62441,\n",
       " 'bong bing bong': 83359,\n",
       " 'aww yeah good bing': 39991,\n",
       " 'yeah good bing bong': 780490,\n",
       " 'good bing bong bing': 259658,\n",
       " 'bing bong bing bong': 62442,\n",
       " 'aww yeah good bing bong': 39992,\n",
       " 'yeah good bing bong bing': 780491,\n",
       " 'good bing bong bing bong': 259659,\n",
       " 'count': 134280,\n",
       " 'day': 151374,\n",
       " 'spring': 623447,\n",
       " 'memori': 423307,\n",
       " 'flower': 225583,\n",
       " 'vine': 735330,\n",
       " 'dont count': 174203,\n",
       " 'count day': 134327,\n",
       " 'day make': 154141,\n",
       " 'make day': 409221,\n",
       " 'day count': 152160,\n",
       " 'count spring': 134436,\n",
       " 'spring memori': 623483,\n",
       " 'memori flower': 423347,\n",
       " 'flower vine': 225840,\n",
       " 'vine user': 735417,\n",
       " 'dont count day': 174207,\n",
       " 'count day make': 134337,\n",
       " 'day make day': 154145,\n",
       " 'make day count': 409230,\n",
       " 'day count spring': 152171,\n",
       " 'count spring memori': 134437,\n",
       " 'spring memori flower': 623487,\n",
       " 'memori flower vine': 423348,\n",
       " 'flower vine user': 225841,\n",
       " 'dont count day make': 174208,\n",
       " 'count day make day': 134338,\n",
       " 'day make day count': 154146,\n",
       " 'make day count spring': 409235,\n",
       " 'day count spring memori': 152172,\n",
       " 'count spring memori flower': 134438,\n",
       " 'spring memori flower vine': 623488,\n",
       " 'memori flower vine user': 423349,\n",
       " 'dont count day make day': 174209,\n",
       " 'count day make day count': 134339,\n",
       " 'day make day count spring': 154149,\n",
       " 'make day count spring memori': 409236,\n",
       " 'day count spring memori flower': 152173,\n",
       " 'count spring memori flower vine': 134439,\n",
       " 'spring memori flower vine user': 623489,\n",
       " 'everyon': 198726,\n",
       " 'white': 758153,\n",
       " 'crayon': 137267,\n",
       " 'perfect': 492281,\n",
       " 'bleed': 79167,\n",
       " 'break': 89276,\n",
       " 'everyon hate': 199008,\n",
       " 'hate white': 288207,\n",
       " 'white crayon': 758361,\n",
       " 'crayon look': 137281,\n",
       " 'look perfect': 394931,\n",
       " 'perfect bleed': 492310,\n",
       " 'bleed break': 79171,\n",
       " 'everyon hate white': 199015,\n",
       " 'hate white crayon': 288208,\n",
       " 'white crayon look': 758365,\n",
       " 'crayon look perfect': 137282,\n",
       " 'look perfect bleed': 394932,\n",
       " 'perfect bleed break': 492311,\n",
       " 'everyon hate white crayon': 199016,\n",
       " 'hate white crayon look': 288209,\n",
       " 'white crayon look perfect': 758366,\n",
       " 'crayon look perfect bleed': 137283,\n",
       " 'look perfect bleed break': 394933,\n",
       " 'everyon hate white crayon look': 199017,\n",
       " 'hate white crayon look perfect': 288210,\n",
       " 'white crayon look perfect bleed': 758367,\n",
       " 'crayon look perfect bleed break': 137284,\n",
       " 'im': 320372,\n",
       " 'defend': 159496,\n",
       " 'ray': 528670,\n",
       " 'rice': 544239,\n",
       " 'doubl': 178654,\n",
       " 'standard': 625754,\n",
       " 'im defend': 321530,\n",
       " 'defend ray': 159563,\n",
       " 'ray rice': 528686,\n",
       " 'rice doubl': 544263,\n",
       " 'doubl standard': 178750,\n",
       " 'standard bitch': 625768,\n",
       " 'bitch aint': 64267,\n",
       " 'im defend ray': 321531,\n",
       " 'defend ray rice': 159564,\n",
       " 'ray rice doubl': 528692,\n",
       " 'rice doubl standard': 544264,\n",
       " 'doubl standard bitch': 178751,\n",
       " 'standard bitch aint': 625769,\n",
       " 'im defend ray rice': 321532,\n",
       " 'defend ray rice doubl': 159565,\n",
       " 'ray rice doubl standard': 528693,\n",
       " 'rice doubl standard bitch': 544265,\n",
       " 'doubl standard bitch aint': 178752,\n",
       " 'im defend ray rice doubl': 321533,\n",
       " 'defend ray rice doubl standard': 159566,\n",
       " 'ray rice doubl standard bitch': 528694,\n",
       " 'rice doubl standard bitch aint': 544266,\n",
       " 'michaeljac': 426276,\n",
       " 'actor': 3174,\n",
       " 'theshield': 660632,\n",
       " 'commit': 127324,\n",
       " 'horrif': 310085,\n",
       " 'act': 2384,\n",
       " 'god': 255695,\n",
       " 'help': 294122,\n",
       " 'famili': 207931,\n",
       " 'terribl': 654416,\n",
       " 'legaci': 367859,\n",
       " 'michaeljac actor': 426277,\n",
       " 'actor theshield': 3273,\n",
       " 'theshield commit': 660633,\n",
       " 'commit horrif': 127358,\n",
       " 'horrif act': 310086,\n",
       " 'act god': 2488,\n",
       " 'god help': 256072,\n",
       " 'help famili': 294255,\n",
       " 'famili terribl': 208789,\n",
       " 'terribl legaci': 654441,\n",
       " 'michaeljac actor theshield': 426278,\n",
       " 'actor theshield commit': 3274,\n",
       " 'theshield commit horrif': 660634,\n",
       " 'commit horrif act': 127359,\n",
       " 'horrif act god': 310087,\n",
       " 'act god help': 2489,\n",
       " 'god help famili': 256073,\n",
       " 'help famili terribl': 294257,\n",
       " 'famili terribl legaci': 208790,\n",
       " 'michaeljac actor theshield commit': 426279,\n",
       " 'actor theshield commit horrif': 3275,\n",
       " 'theshield commit horrif act': 660635,\n",
       " 'commit horrif act god': 127360,\n",
       " 'horrif act god help': 310088,\n",
       " 'act god help famili': 2490,\n",
       " 'god help famili terribl': 256074,\n",
       " 'help famili terribl legaci': 294258,\n",
       " 'michaeljac actor theshield commit horrif': 426280,\n",
       " 'actor theshield commit horrif act': 3276,\n",
       " 'theshield commit horrif act god': 660636,\n",
       " 'commit horrif act god help': 127361,\n",
       " 'horrif act god help famili': 310089,\n",
       " 'act god help famili terribl': 2491,\n",
       " 'god help famili terribl legaci': 256075,\n",
       " 'kid': 351644,\n",
       " 'fuck kid': 238712,\n",
       " 'kid bitch': 351712,\n",
       " 'fuck kid bitch': 238713,\n",
       " 'lookin': 395435,\n",
       " 'federalboobieinspector': 215384,\n",
       " 'lookin hoe': 395501,\n",
       " 'hoe federalboobieinspector': 301646,\n",
       " 'lookin hoe federalboobieinspector': 395502,\n",
       " 'thank': 656218,\n",
       " 'abl': 511,\n",
       " 'choos': 115707,\n",
       " 'posit': 507303,\n",
       " 'thank abl': 656219,\n",
       " 'abl choos': 542,\n",
       " 'choos thank': 115885,\n",
       " 'thank posit': 657511,\n",
       " 'thank abl choos': 656220,\n",
       " 'abl choos thank': 543,\n",
       " 'choos thank posit': 115889,\n",
       " 'thank abl choos thank': 656221,\n",
       " 'abl choos thank posit': 544,\n",
       " 'thank abl choos thank posit': 656222,\n",
       " 'trash': 682979,\n",
       " 'bash': 46856,\n",
       " 'white trash': 758963,\n",
       " 'trash bash': 683101,\n",
       " 'white trash bash': 758967,\n",
       " 'cool': 132177,\n",
       " 'yaar': 777080,\n",
       " 'cool yaar': 132582,\n",
       " 'sick': 601093,\n",
       " 'preprogram': 511557,\n",
       " 'hillbot': 298226,\n",
       " 'rhetor': 544060,\n",
       " 'alreadi': 13453,\n",
       " 'uniti': 699441,\n",
       " 'patriot': 487112,\n",
       " 'feâ': 219195,\n",
       " 'user sick': 721228,\n",
       " 'sick preprogram': 601283,\n",
       " 'preprogram hillbot': 511558,\n",
       " 'hillbot rhetor': 298229,\n",
       " 'rhetor alreadi': 544061,\n",
       " 'alreadi uniti': 13852,\n",
       " 'uniti patriot': 699457,\n",
       " 'patriot love': 487121,\n",
       " 'love feâ': 399556,\n",
       " 'user sick preprogram': 721238,\n",
       " 'sick preprogram hillbot': 601284,\n",
       " 'preprogram hillbot rhetor': 511559,\n",
       " 'hillbot rhetor alreadi': 298230,\n",
       " 'rhetor alreadi uniti': 544062,\n",
       " 'alreadi uniti patriot': 13853,\n",
       " 'uniti patriot love': 699458,\n",
       " 'patriot love feâ': 487122,\n",
       " 'user sick preprogram hillbot': 721239,\n",
       " 'sick preprogram hillbot rhetor': 601285,\n",
       " 'preprogram hillbot rhetor alreadi': 511560,\n",
       " 'hillbot rhetor alreadi uniti': 298231,\n",
       " 'rhetor alreadi uniti patriot': 544063,\n",
       " 'alreadi uniti patriot love': 13854,\n",
       " 'uniti patriot love feâ': 699459,\n",
       " 'user sick preprogram hillbot rhetor': 721240,\n",
       " 'sick preprogram hillbot rhetor alreadi': 601286,\n",
       " 'preprogram hillbot rhetor alreadi uniti': 511561,\n",
       " 'hillbot rhetor alreadi uniti patriot': 298232,\n",
       " 'rhetor alreadi uniti patriot love': 544064,\n",
       " 'alreadi uniti patriot love feâ': 13855,\n",
       " 'ascanioenteain': 31617,\n",
       " 'redesign': 536045,\n",
       " 'aquila': 29691,\n",
       " 'plain': 499737,\n",
       " 'screenshot': 584830,\n",
       " 'indiegameâ': 329493,\n",
       " 'ascanioenteain redesign': 31618,\n",
       " 'redesign aquila': 536046,\n",
       " 'aquila plain': 29692,\n",
       " 'plain screenshot': 499760,\n",
       " 'screenshot indiegameâ': 584840,\n",
       " 'ascanioenteain redesign aquila': 31619,\n",
       " 'redesign aquila plain': 536047,\n",
       " 'aquila plain screenshot': 29693,\n",
       " 'plain screenshot indiegameâ': 499761,\n",
       " 'ascanioenteain redesign aquila plain': 31620,\n",
       " 'redesign aquila plain screenshot': 536048,\n",
       " 'aquila plain screenshot indiegameâ': 29694,\n",
       " 'ascanioenteain redesign aquila plain screenshot': 31621,\n",
       " 'redesign aquila plain screenshot indiegameâ': 536049,\n",
       " 'carl': 103598,\n",
       " 'bean': 49253,\n",
       " 'beauti': 50122,\n",
       " 'lgbt': 370975,\n",
       " 'instadaili': 331569,\n",
       " 'instagram': 331981,\n",
       " 'carl bean': 103599,\n",
       " 'bean love': 49285,\n",
       " 'love beauti': 398306,\n",
       " 'beauti hate': 50597,\n",
       " 'hate lgbt': 287569,\n",
       " 'lgbt instadaili': 371030,\n",
       " 'instadaili instagram': 331595,\n",
       " 'instagram user': 332244,\n",
       " 'carl bean love': 103600,\n",
       " 'bean love beauti': 49286,\n",
       " 'love beauti hate': 398314,\n",
       " 'beauti hate lgbt': 50598,\n",
       " 'hate lgbt instadaili': 287570,\n",
       " 'lgbt instadaili instagram': 371031,\n",
       " 'instadaili instagram user': 331599,\n",
       " 'carl bean love beauti': 103601,\n",
       " 'bean love beauti hate': 49287,\n",
       " 'love beauti hate lgbt': 398315,\n",
       " 'beauti hate lgbt instadaili': 50599,\n",
       " 'hate lgbt instadaili instagram': 287571,\n",
       " 'lgbt instadaili instagram user': 371032,\n",
       " 'carl bean love beauti hate': 103602,\n",
       " 'bean love beauti hate lgbt': 49288,\n",
       " 'love beauti hate lgbt instadaili': 398316,\n",
       " 'beauti hate lgbt instadaili instagram': 50600,\n",
       " 'hate lgbt instadaili instagram user': 287572,\n",
       " 'thebank': 658805,\n",
       " 'bacon': 42085,\n",
       " 'rt thebank': 568209,\n",
       " 'thebank bacon': 658806,\n",
       " 'bacon bitch': 42086,\n",
       " 'rt thebank bacon': 568210,\n",
       " 'thebank bacon bitch': 658807,\n",
       " 'rt thebank bacon bitch': 568211,\n",
       " 'ceain': 107176,\n",
       " 'awesom': 39458,\n",
       " 'inspir': 331180,\n",
       " 'fridâ': 234460,\n",
       " 'user thank': 722861,\n",
       " 'thank ceain': 656434,\n",
       " 'ceain awesom': 107181,\n",
       " 'awesom inspir': 39588,\n",
       " 'inspir day': 331233,\n",
       " 'day fridâ': 152967,\n",
       " 'user user thank': 727403,\n",
       " 'user thank ceain': 722893,\n",
       " 'thank ceain awesom': 656435,\n",
       " 'ceain awesom inspir': 107182,\n",
       " 'awesom inspir day': 39589,\n",
       " 'inspir day fridâ': 331234,\n",
       " 'user user thank ceain': 727413,\n",
       " 'user thank ceain awesom': 722894,\n",
       " 'thank ceain awesom inspir': 656436,\n",
       " 'ceain awesom inspir day': 107183,\n",
       " 'awesom inspir day fridâ': 39590,\n",
       " 'user user thank ceain awesom': 727414,\n",
       " 'user thank ceain awesom inspir': 722895,\n",
       " 'thank ceain awesom inspir day': 656437,\n",
       " 'ceain awesom inspir day fridâ': 107184,\n",
       " 'daili': 146840,\n",
       " 'dose': 178580,\n",
       " 'motiv': 438992,\n",
       " 'youplateit': 787151,\n",
       " 'staystrong': 628369,\n",
       " 'peh': 489303,\n",
       " 'pehlif': 489322,\n",
       " 'pehfood': 489319,\n",
       " 'hellopeh': 294046,\n",
       " 'sunday': 639473,\n",
       " 'daili dose': 146889,\n",
       " 'dose motiv': 178585,\n",
       " 'motiv youplateit': 439213,\n",
       " 'youplateit staystrong': 787152,\n",
       " 'staystrong peh': 628378,\n",
       " 'peh pehlif': 489311,\n",
       " 'pehlif pehfood': 489323,\n",
       " 'pehfood hellopeh': 489320,\n",
       " 'hellopeh sunday': 294047,\n",
       " 'daili dose motiv': 146892,\n",
       " 'dose motiv youplateit': 178586,\n",
       " 'motiv youplateit staystrong': 439214,\n",
       " 'youplateit staystrong peh': 787153,\n",
       " 'staystrong peh pehlif': 628379,\n",
       " 'peh pehlif pehfood': 489312,\n",
       " 'pehlif pehfood hellopeh': 489324,\n",
       " 'pehfood hellopeh sunday': 489321,\n",
       " 'daili dose motiv youplateit': 146893,\n",
       " 'dose motiv youplateit staystrong': 178587,\n",
       " 'motiv youplateit staystrong peh': 439215,\n",
       " 'youplateit staystrong peh pehlif': 787154,\n",
       " 'staystrong peh pehlif pehfood': 628380,\n",
       " 'peh pehlif pehfood hellopeh': 489313,\n",
       " 'pehlif pehfood hellopeh sunday': 489325,\n",
       " 'daili dose motiv youplateit staystrong': 146894,\n",
       " 'dose motiv youplateit staystrong peh': 178588,\n",
       " 'motiv youplateit staystrong peh pehlif': 439216,\n",
       " 'youplateit staystrong peh pehlif pehfood': 787155,\n",
       " 'staystrong peh pehlif pehfood hellopeh': 628381,\n",
       " 'peh pehlif pehfood hellopeh sunday': 489314,\n",
       " 'anthonycumia': 26639,\n",
       " 'cokelog': 122958,\n",
       " 'hey': 295945,\n",
       " 'antoni': 26990,\n",
       " 'speak': 620675,\n",
       " 'anthonycumia cokelog': 26640,\n",
       " 'cokelog hey': 122959,\n",
       " 'hey antoni': 295954,\n",
       " 'antoni speak': 26991,\n",
       " 'speak color': 620708,\n",
       " 'color good': 124173,\n",
       " 'anthonycumia cokelog hey': 26641,\n",
       " 'cokelog hey antoni': 122960,\n",
       " 'hey antoni speak': 295955,\n",
       " 'antoni speak color': 26992,\n",
       " 'speak color good': 620709,\n",
       " 'anthonycumia cokelog hey antoni': 26642,\n",
       " 'cokelog hey antoni speak': 122961,\n",
       " 'hey antoni speak color': 295956,\n",
       " 'antoni speak color good': 26993,\n",
       " 'anthonycumia cokelog hey antoni speak': 26643,\n",
       " 'cokelog hey antoni speak color': 122962,\n",
       " 'hey antoni speak color good': 295957,\n",
       " 'luck': 405121,\n",
       " 'cheryl': 112840,\n",
       " 'itwillbealrightonthenight': 337623,\n",
       " 'xx': 775974,\n",
       " 'good luck': 260566,\n",
       " 'luck cheryl': 405134,\n",
       " 'cheryl itwillbealrightonthenight': 112845,\n",
       " 'itwillbealrightonthenight xx': 337624,\n",
       " 'good luck cheryl': 260571,\n",
       " 'luck cheryl itwillbealrightonthenight': 405135,\n",
       " ...}"
      ]
     },
     "execution_count": 45,
     "metadata": {},
     "output_type": "execute_result"
    }
   ],
   "source": [
    "count.vocabulary_\n"
   ]
  },
  {
   "cell_type": "code",
   "execution_count": 46,
   "metadata": {
    "execution": {
     "iopub.execute_input": "2021-05-26T06:23:15.722964Z",
     "iopub.status.busy": "2021-05-26T06:23:15.722524Z",
     "iopub.status.idle": "2021-05-26T06:23:18.171547Z",
     "shell.execute_reply": "2021-05-26T06:23:18.170390Z",
     "shell.execute_reply.started": "2021-05-26T06:23:15.722909Z"
    }
   },
   "outputs": [],
   "source": [
    "from sklearn.feature_extraction.text import TfidfTransformer\n",
    "tfidf = TfidfTransformer()\n",
    "\n",
    "x_train_tfidf = tfidf.fit_transform(x_train_vectorizer)\n",
    "\n",
    "x_train_tfidf.toarray()\n",
    "x_test_tfidf = tfidf.transform(x_test_vectorizer)\n"
   ]
  },
  {
   "cell_type": "code",
   "execution_count": 47,
   "metadata": {
    "execution": {
     "iopub.execute_input": "2021-05-26T06:23:18.173850Z",
     "iopub.status.busy": "2021-05-26T06:23:18.173285Z",
     "iopub.status.idle": "2021-05-26T06:23:18.183739Z",
     "shell.execute_reply": "2021-05-26T06:23:18.182383Z",
     "shell.execute_reply.started": "2021-05-26T06:23:18.173795Z"
    }
   },
   "outputs": [],
   "source": [
    "from sklearn.naive_bayes import MultinomialNB\n",
    "from sklearn.metrics import classification_report\n",
    "from sklearn.metrics import confusion_matrix"
   ]
  },
  {
   "cell_type": "code",
   "execution_count": 48,
   "metadata": {
    "execution": {
     "iopub.execute_input": "2021-05-26T06:23:18.186643Z",
     "iopub.status.busy": "2021-05-26T06:23:18.185759Z",
     "iopub.status.idle": "2021-05-26T06:23:18.320812Z",
     "shell.execute_reply": "2021-05-26T06:23:18.319529Z",
     "shell.execute_reply.started": "2021-05-26T06:23:18.186591Z"
    }
   },
   "outputs": [
    {
     "name": "stdout",
     "output_type": "stream",
     "text": [
      "[[7878  575]\n",
      " [ 458 5276]]\n",
      "              precision    recall  f1-score   support\n",
      "\n",
      "           0       0.95      0.93      0.94      8453\n",
      "           1       0.90      0.92      0.91      5734\n",
      "\n",
      "    accuracy                           0.93     14187\n",
      "   macro avg       0.92      0.93      0.92     14187\n",
      "weighted avg       0.93      0.93      0.93     14187\n",
      "\n"
     ]
    }
   ],
   "source": [
    "model_vectorizer= MultinomialNB().fit(x_train_vectorizer, y_train)\n",
    "prediction_vectorizer=model_vectorizer.predict(x_test_vectorizer)\n",
    "print(confusion_matrix(y_test,prediction_vectorizer))\n",
    "print (classification_report(y_test, prediction_vectorizer))"
   ]
  },
  {
   "cell_type": "code",
   "execution_count": 49,
   "metadata": {
    "execution": {
     "iopub.execute_input": "2021-05-26T06:23:18.323589Z",
     "iopub.status.busy": "2021-05-26T06:23:18.322930Z",
     "iopub.status.idle": "2021-05-26T06:23:18.443190Z",
     "shell.execute_reply": "2021-05-26T06:23:18.441919Z",
     "shell.execute_reply.started": "2021-05-26T06:23:18.323537Z"
    }
   },
   "outputs": [
    {
     "name": "stdout",
     "output_type": "stream",
     "text": [
      "              precision    recall  f1-score   support\n",
      "\n",
      "           0       0.91      0.97      0.94      8453\n",
      "           1       0.95      0.85      0.90      5734\n",
      "\n",
      "    accuracy                           0.92     14187\n",
      "   macro avg       0.93      0.91      0.92     14187\n",
      "weighted avg       0.92      0.92      0.92     14187\n",
      "\n",
      "[[8213  240]\n",
      " [ 860 4874]]\n"
     ]
    }
   ],
   "source": [
    "model_tfidf= MultinomialNB().fit(x_train_tfidf, y_train)\n",
    "prediction_tfidf=model_tfidf.predict(x_test_tfidf)\n",
    "print (classification_report(y_test, prediction_tfidf))\n",
    "print(confusion_matrix(y_test,prediction_tfidf))"
   ]
  },
  {
   "cell_type": "code",
   "execution_count": 50,
   "metadata": {
    "execution": {
     "iopub.execute_input": "2021-05-26T06:23:18.445742Z",
     "iopub.status.busy": "2021-05-26T06:23:18.445006Z",
     "iopub.status.idle": "2021-05-26T06:23:22.415137Z",
     "shell.execute_reply": "2021-05-26T06:23:22.414091Z",
     "shell.execute_reply.started": "2021-05-26T06:23:18.445689Z"
    }
   },
   "outputs": [],
   "source": [
    "import xgboost as xgb\n",
    "xgb_model=xgb.XGBClassifier(\n",
    "        learning_rate=0.1,\n",
    "        max_depth=7,\n",
    "        n_estimators=80,\n",
    "        use_label_encoder=False,\n",
    "        eval_metric='auc' )"
   ]
  },
  {
   "cell_type": "code",
   "execution_count": 51,
   "metadata": {
    "execution": {
     "iopub.execute_input": "2021-05-26T06:23:22.419701Z",
     "iopub.status.busy": "2021-05-26T06:23:22.419319Z",
     "iopub.status.idle": "2021-05-26T06:24:30.103520Z",
     "shell.execute_reply": "2021-05-26T06:24:30.101941Z",
     "shell.execute_reply.started": "2021-05-26T06:23:22.419669Z"
    }
   },
   "outputs": [
    {
     "name": "stdout",
     "output_type": "stream",
     "text": [
      "[[8367   86]\n",
      " [ 923 4811]]\n",
      "              precision    recall  f1-score   support\n",
      "\n",
      "           0       0.90      0.99      0.94      8453\n",
      "           1       0.98      0.84      0.91      5734\n",
      "\n",
      "    accuracy                           0.93     14187\n",
      "   macro avg       0.94      0.91      0.92     14187\n",
      "weighted avg       0.93      0.93      0.93     14187\n",
      "\n"
     ]
    }
   ],
   "source": [
    "xgb_model_vectorizer = xgb_model.fit(x_train_vectorizer, y_train)\n",
    "xgb_predictions_vectorizer=xgb_model_vectorizer.predict(x_test_vectorizer)\n",
    "print(confusion_matrix(y_test,xgb_predictions_vectorizer))\n",
    "print (classification_report(y_test, xgb_predictions_vectorizer))"
   ]
  },
  {
   "cell_type": "code",
   "execution_count": 52,
   "metadata": {
    "execution": {
     "iopub.execute_input": "2021-05-26T06:24:30.106474Z",
     "iopub.status.busy": "2021-05-26T06:24:30.105626Z",
     "iopub.status.idle": "2021-05-26T06:25:49.377317Z",
     "shell.execute_reply": "2021-05-26T06:25:49.376063Z",
     "shell.execute_reply.started": "2021-05-26T06:24:30.106422Z"
    }
   },
   "outputs": [
    {
     "name": "stdout",
     "output_type": "stream",
     "text": [
      "[[8358   95]\n",
      " [ 939 4795]]\n",
      "              precision    recall  f1-score   support\n",
      "\n",
      "           0       0.90      0.99      0.94      8453\n",
      "           1       0.98      0.84      0.90      5734\n",
      "\n",
      "    accuracy                           0.93     14187\n",
      "   macro avg       0.94      0.91      0.92     14187\n",
      "weighted avg       0.93      0.93      0.93     14187\n",
      "\n"
     ]
    }
   ],
   "source": [
    "xgb_model = xgb_model.fit(x_train_tfidf, y_train)\n",
    "xgb_predictions=xgb_model.predict(x_test_tfidf)\n",
    "print(confusion_matrix(y_test,xgb_predictions))\n",
    "print (classification_report(y_test, xgb_predictions))"
   ]
  },
  {
   "cell_type": "code",
   "execution_count": 53,
   "metadata": {
    "execution": {
     "iopub.execute_input": "2021-05-26T06:25:49.379725Z",
     "iopub.status.busy": "2021-05-26T06:25:49.379046Z",
     "iopub.status.idle": "2021-05-26T06:25:55.279809Z",
     "shell.execute_reply": "2021-05-26T06:25:55.278723Z",
     "shell.execute_reply.started": "2021-05-26T06:25:49.379675Z"
    }
   },
   "outputs": [],
   "source": [
    "from keras.models import Model\n",
    "from keras.layers import LSTM, Activation, Dense, Dropout, Input, Embedding,SpatialDropout1D\n",
    "from keras.optimizers import RMSprop\n",
    "from keras.preprocessing.text import Tokenizer\n",
    "from keras.preprocessing import sequence\n",
    "from keras.utils import to_categorical\n",
    "from keras.callbacks import EarlyStopping\n",
    "from keras.models import Sequential\n"
   ]
  },
  {
   "cell_type": "code",
   "execution_count": 54,
   "metadata": {
    "execution": {
     "iopub.execute_input": "2021-05-26T06:25:55.281803Z",
     "iopub.status.busy": "2021-05-26T06:25:55.281383Z",
     "iopub.status.idle": "2021-05-26T06:25:57.112782Z",
     "shell.execute_reply": "2021-05-26T06:25:57.111581Z",
     "shell.execute_reply.started": "2021-05-26T06:25:55.281757Z"
    }
   },
   "outputs": [],
   "source": [
    "max_words = 50000\n",
    "max_len = 300\n",
    "tokenizer = Tokenizer(num_words=max_words)\n",
    "tokenizer.fit_on_texts(x_train)\n",
    "sequences = tokenizer.texts_to_sequences(x_train)\n",
    "sequences_matrix = sequence.pad_sequences(sequences,maxlen=max_len)"
   ]
  },
  {
   "cell_type": "code",
   "execution_count": 55,
   "metadata": {
    "execution": {
     "iopub.execute_input": "2021-05-26T06:25:57.114976Z",
     "iopub.status.busy": "2021-05-26T06:25:57.114539Z",
     "iopub.status.idle": "2021-05-26T06:26:02.380016Z",
     "shell.execute_reply": "2021-05-26T06:26:02.378869Z",
     "shell.execute_reply.started": "2021-05-26T06:25:57.114928Z"
    }
   },
   "outputs": [
    {
     "name": "stdout",
     "output_type": "stream",
     "text": [
      "Model: \"sequential\"\n",
      "_________________________________________________________________\n",
      "Layer (type)                 Output Shape              Param #   \n",
      "=================================================================\n",
      "embedding (Embedding)        (None, 300, 100)          5000000   \n",
      "_________________________________________________________________\n",
      "spatial_dropout1d (SpatialDr (None, 300, 100)          0         \n",
      "_________________________________________________________________\n",
      "lstm (LSTM)                  (None, 100)               80400     \n",
      "_________________________________________________________________\n",
      "dense (Dense)                (None, 1)                 101       \n",
      "=================================================================\n",
      "Total params: 5,080,501\n",
      "Trainable params: 5,080,501\n",
      "Non-trainable params: 0\n",
      "_________________________________________________________________\n"
     ]
    }
   ],
   "source": [
    "model = Sequential()\n",
    "model.add(Embedding(max_words, 100, input_length=max_len))\n",
    "model.add(SpatialDropout1D(0.2))\n",
    "model.add(LSTM(100, dropout=0.2, recurrent_dropout=0.2))\n",
    "model.add(Dense(1, activation='sigmoid'))\n",
    "model.summary()\n",
    "model.compile(loss='binary_crossentropy',optimizer=RMSprop(),metrics=['accuracy'])"
   ]
  },
  {
   "cell_type": "code",
   "execution_count": 56,
   "metadata": {
    "execution": {
     "iopub.execute_input": "2021-05-26T06:26:02.383000Z",
     "iopub.status.busy": "2021-05-26T06:26:02.382438Z",
     "iopub.status.idle": "2021-05-26T06:26:02.391470Z",
     "shell.execute_reply": "2021-05-26T06:26:02.389498Z",
     "shell.execute_reply.started": "2021-05-26T06:26:02.382937Z"
    }
   },
   "outputs": [],
   "source": [
    "from keras.callbacks import EarlyStopping,ModelCheckpoint\n",
    "\n",
    "stop = EarlyStopping(\n",
    "    monitor='val_accuracy', \n",
    "    mode='max',\n",
    "    patience=5\n",
    ")\n",
    "\n",
    "checkpoint= ModelCheckpoint(\n",
    "    filepath='./',\n",
    "    save_weights_only=True,\n",
    "    monitor='val_accuracy',\n",
    "    mode='max',\n",
    "    save_best_only=True)"
   ]
  },
  {
   "cell_type": "code",
   "execution_count": 57,
   "metadata": {
    "execution": {
     "iopub.execute_input": "2021-05-26T06:26:02.393925Z",
     "iopub.status.busy": "2021-05-26T06:26:02.393334Z",
     "iopub.status.idle": "2021-05-26T06:37:24.494993Z",
     "shell.execute_reply": "2021-05-26T06:37:24.493908Z",
     "shell.execute_reply.started": "2021-05-26T06:26:02.393875Z"
    }
   },
   "outputs": [
    {
     "name": "stdout",
     "output_type": "stream",
     "text": [
      "Epoch 1/10\n",
      "34/34 [==============================] - 74s 2s/step - loss: 0.6200 - accuracy: 0.6660 - val_loss: 0.3494 - val_accuracy: 0.9017\n",
      "Epoch 2/10\n",
      "34/34 [==============================] - 68s 2s/step - loss: 0.2874 - accuracy: 0.9124 - val_loss: 0.2060 - val_accuracy: 0.9275\n",
      "Epoch 3/10\n",
      "34/34 [==============================] - 67s 2s/step - loss: 0.1621 - accuracy: 0.9444 - val_loss: 0.1649 - val_accuracy: 0.9416\n",
      "Epoch 4/10\n",
      "34/34 [==============================] - 68s 2s/step - loss: 0.1177 - accuracy: 0.9598 - val_loss: 0.2584 - val_accuracy: 0.8813\n",
      "Epoch 5/10\n",
      "34/34 [==============================] - 67s 2s/step - loss: 0.1051 - accuracy: 0.9626 - val_loss: 0.1613 - val_accuracy: 0.9396\n",
      "Epoch 6/10\n",
      "34/34 [==============================] - 68s 2s/step - loss: 0.0847 - accuracy: 0.9709 - val_loss: 0.1665 - val_accuracy: 0.9429\n",
      "Epoch 7/10\n",
      "34/34 [==============================] - 68s 2s/step - loss: 0.0718 - accuracy: 0.9769 - val_loss: 0.1689 - val_accuracy: 0.9441\n",
      "Epoch 8/10\n",
      "34/34 [==============================] - 67s 2s/step - loss: 0.0606 - accuracy: 0.9812 - val_loss: 0.1888 - val_accuracy: 0.9408\n",
      "Epoch 9/10\n",
      "34/34 [==============================] - 67s 2s/step - loss: 0.0562 - accuracy: 0.9816 - val_loss: 0.1919 - val_accuracy: 0.9349\n",
      "Epoch 10/10\n",
      "34/34 [==============================] - 67s 2s/step - loss: 0.0435 - accuracy: 0.9864 - val_loss: 0.1886 - val_accuracy: 0.9375\n"
     ]
    }
   ],
   "source": [
    "history=model.fit(sequences_matrix,y_train,batch_size=1024,epochs=10,\n",
    "          validation_split=0.2,callbacks=[stop,checkpoint])"
   ]
  },
  {
   "cell_type": "code",
   "execution_count": 58,
   "metadata": {
    "execution": {
     "iopub.execute_input": "2021-05-26T06:37:28.427307Z",
     "iopub.status.busy": "2021-05-26T06:37:28.426887Z",
     "iopub.status.idle": "2021-05-26T06:37:28.756984Z",
     "shell.execute_reply": "2021-05-26T06:37:28.755866Z",
     "shell.execute_reply.started": "2021-05-26T06:37:28.427255Z"
    }
   },
   "outputs": [],
   "source": [
    "test_sequences = tokenizer.texts_to_sequences(x_test)\n",
    "test_sequences_matrix = sequence.pad_sequences(test_sequences,maxlen=max_len)"
   ]
  },
  {
   "cell_type": "code",
   "execution_count": 60,
   "metadata": {
    "execution": {
     "iopub.execute_input": "2021-05-26T06:37:38.089386Z",
     "iopub.status.busy": "2021-05-26T06:37:38.088959Z",
     "iopub.status.idle": "2021-05-26T06:38:21.515007Z",
     "shell.execute_reply": "2021-05-26T06:38:21.513891Z",
     "shell.execute_reply.started": "2021-05-26T06:37:38.089354Z"
    }
   },
   "outputs": [
    {
     "name": "stdout",
     "output_type": "stream",
     "text": [
      "444/444 [==============================] - 43s 98ms/step - loss: 0.2130 - accuracy: 0.9295\n"
     ]
    }
   ],
   "source": [
    "accr = model.evaluate(test_sequences_matrix,y_test)\n"
   ]
  },
  {
   "cell_type": "code",
   "execution_count": 61,
   "metadata": {
    "execution": {
     "iopub.execute_input": "2021-05-26T06:38:26.827409Z",
     "iopub.status.busy": "2021-05-26T06:38:26.826898Z",
     "iopub.status.idle": "2021-05-26T06:39:08.830382Z",
     "shell.execute_reply": "2021-05-26T06:39:08.829004Z",
     "shell.execute_reply.started": "2021-05-26T06:38:26.827361Z"
    }
   },
   "outputs": [],
   "source": [
    "lstm_prediction=model.predict(test_sequences_matrix)\n"
   ]
  },
  {
   "cell_type": "code",
   "execution_count": 62,
   "metadata": {
    "execution": {
     "iopub.execute_input": "2021-05-26T06:40:23.380090Z",
     "iopub.status.busy": "2021-05-26T06:40:23.379646Z",
     "iopub.status.idle": "2021-05-26T06:40:23.439565Z",
     "shell.execute_reply": "2021-05-26T06:40:23.438345Z",
     "shell.execute_reply.started": "2021-05-26T06:40:23.380058Z"
    }
   },
   "outputs": [],
   "source": [
    "res=[]\n",
    "for prediction in lstm_prediction:\n",
    "    if prediction[0]<0.5:\n",
    "        res.append(0)\n",
    "    else:\n",
    "        res.append(1)"
   ]
  },
  {
   "cell_type": "code",
   "execution_count": 63,
   "metadata": {
    "execution": {
     "iopub.execute_input": "2021-05-26T06:40:25.013547Z",
     "iopub.status.busy": "2021-05-26T06:40:25.013102Z",
     "iopub.status.idle": "2021-05-26T06:40:25.051071Z",
     "shell.execute_reply": "2021-05-26T06:40:25.049724Z",
     "shell.execute_reply.started": "2021-05-26T06:40:25.013512Z"
    }
   },
   "outputs": [
    {
     "name": "stdout",
     "output_type": "stream",
     "text": [
      "[[7921  532]\n",
      " [ 468 5266]]\n"
     ]
    }
   ],
   "source": [
    "print(confusion_matrix(y_test,res))\n"
   ]
  },
  {
   "cell_type": "code",
   "execution_count": 64,
   "metadata": {
    "execution": {
     "iopub.execute_input": "2021-05-26T06:40:59.537070Z",
     "iopub.status.busy": "2021-05-26T06:40:59.536654Z",
     "iopub.status.idle": "2021-05-26T06:40:59.600123Z",
     "shell.execute_reply": "2021-05-26T06:40:59.599205Z",
     "shell.execute_reply.started": "2021-05-26T06:40:59.537036Z"
    }
   },
   "outputs": [],
   "source": [
    "import pickle\n",
    "with open('tokenizer.pickle', 'wb') as handle:\n",
    "    pickle.dump(tokenizer, handle, protocol=pickle.HIGHEST_PROTOCOL)"
   ]
  },
  {
   "cell_type": "code",
   "execution_count": 66,
   "metadata": {
    "execution": {
     "iopub.execute_input": "2021-05-26T06:42:24.156841Z",
     "iopub.status.busy": "2021-05-26T06:42:24.156417Z",
     "iopub.status.idle": "2021-05-26T06:42:24.301185Z",
     "shell.execute_reply": "2021-05-26T06:42:24.300011Z",
     "shell.execute_reply.started": "2021-05-26T06:42:24.156806Z"
    }
   },
   "outputs": [],
   "source": [
    "model.save(\"hate&abusive_model.h5\")"
   ]
  },
  {
   "cell_type": "code",
   "execution_count": 68,
   "metadata": {
    "execution": {
     "iopub.execute_input": "2021-05-26T06:47:10.218122Z",
     "iopub.status.busy": "2021-05-26T06:47:10.217689Z",
     "iopub.status.idle": "2021-05-26T06:47:10.224080Z",
     "shell.execute_reply": "2021-05-26T06:47:10.222358Z",
     "shell.execute_reply.started": "2021-05-26T06:47:10.218086Z"
    }
   },
   "outputs": [],
   "source": [
    "import keras"
   ]
  },
  {
   "cell_type": "code",
   "execution_count": 127,
   "metadata": {
    "execution": {
     "iopub.execute_input": "2021-05-26T07:45:21.069747Z",
     "iopub.status.busy": "2021-05-26T07:45:21.069095Z",
     "iopub.status.idle": "2021-05-26T07:45:21.460314Z",
     "shell.execute_reply": "2021-05-26T07:45:21.458844Z",
     "shell.execute_reply.started": "2021-05-26T07:45:21.069695Z"
    }
   },
   "outputs": [],
   "source": [
    "load_model=keras.models.load_model(\"./hate&abusive_model.h5\")\n",
    "with open('tokenizer.pickle', 'rb') as handle:\n",
    "    load_tokenizer = pickle.load(handle)"
   ]
  },
  {
   "cell_type": "code",
   "execution_count": 128,
   "metadata": {
    "execution": {
     "iopub.execute_input": "2021-05-26T07:45:31.009520Z",
     "iopub.status.busy": "2021-05-26T07:45:31.009010Z",
     "iopub.status.idle": "2021-05-26T07:45:31.453167Z",
     "shell.execute_reply": "2021-05-26T07:45:31.452020Z",
     "shell.execute_reply.started": "2021-05-26T07:45:31.009483Z"
    }
   },
   "outputs": [
    {
     "name": "stdout",
     "output_type": "stream",
     "text": [
      "I hate my country\n",
      "i hate my country\n",
      "['hate countri']\n",
      "[[61, 408]]\n",
      "pred [[0.71471405]]\n",
      "hate and abusive\n"
     ]
    }
   ],
   "source": [
    "test = 'I hate my country'\n",
    "def clean_text(text):\n",
    "    print(text)\n",
    "    text = str(text).lower()\n",
    "    text = re.sub('\\[.*?\\]', '', text)\n",
    "    text = re.sub('https?://\\S+|www\\.\\S+', '', text)\n",
    "    text = re.sub('<.*?>+', '', text)\n",
    "    text = re.sub('[%s]' % re.escape(string.punctuation), '', text)\n",
    "    text = re.sub('\\n', '', text)\n",
    "    text = re.sub('\\w*\\d\\w*', '', text)\n",
    "    print(text)\n",
    "    text = [word for word in text.split(' ') if word not in stopword]\n",
    "    text=\" \".join(text)\n",
    "    text = [stemmer.stem(word) for word in text.split(' ')]\n",
    "    text=\" \".join(text)\n",
    "    return text\n",
    "test=[clean_text(test)]\n",
    "print(test)\n",
    "seq = load_tokenizer.texts_to_sequences(test)\n",
    "padded = sequence.pad_sequences(seq, maxlen=300)\n",
    "print(seq)\n",
    "pred = load_model.predict(padded)\n",
    "print(\"pred\", pred)\n",
    "if pred<0.5:\n",
    "    print(\"no hate\")\n",
    "else:\n",
    "    print(\"hate and abusive\")"
   ]
  },
  {
   "cell_type": "code",
   "execution_count": 95,
   "metadata": {
    "execution": {
     "iopub.execute_input": "2021-05-26T07:10:09.756576Z",
     "iopub.status.busy": "2021-05-26T07:10:09.756143Z",
     "iopub.status.idle": "2021-05-26T07:10:09.767459Z",
     "shell.execute_reply": "2021-05-26T07:10:09.766325Z",
     "shell.execute_reply.started": "2021-05-26T07:10:09.756542Z"
    }
   },
   "outputs": [],
   "source": [
    "frame=[df_twitter,df_offensive]\n",
    "df2 = pd.concat(frame)\n"
   ]
  },
  {
   "cell_type": "code",
   "execution_count": 96,
   "metadata": {
    "execution": {
     "iopub.execute_input": "2021-05-26T07:10:19.367370Z",
     "iopub.status.busy": "2021-05-26T07:10:19.366949Z",
     "iopub.status.idle": "2021-05-26T07:10:19.384832Z",
     "shell.execute_reply": "2021-05-26T07:10:19.383743Z",
     "shell.execute_reply.started": "2021-05-26T07:10:19.367336Z"
    }
   },
   "outputs": [
    {
     "data": {
      "text/html": [
       "<div>\n",
       "<style scoped>\n",
       "    .dataframe tbody tr th:only-of-type {\n",
       "        vertical-align: middle;\n",
       "    }\n",
       "\n",
       "    .dataframe tbody tr th {\n",
       "        vertical-align: top;\n",
       "    }\n",
       "\n",
       "    .dataframe thead th {\n",
       "        text-align: right;\n",
       "    }\n",
       "</style>\n",
       "<table border=\"1\" class=\"dataframe\">\n",
       "  <thead>\n",
       "    <tr style=\"text-align: right;\">\n",
       "      <th></th>\n",
       "      <th>label</th>\n",
       "      <th>tweet</th>\n",
       "    </tr>\n",
       "  </thead>\n",
       "  <tbody>\n",
       "    <tr>\n",
       "      <th>0</th>\n",
       "      <td>0</td>\n",
       "      <td>@user when a father is dysfunctional and is s...</td>\n",
       "    </tr>\n",
       "    <tr>\n",
       "      <th>1</th>\n",
       "      <td>0</td>\n",
       "      <td>@user @user thanks for #lyft credit i can't us...</td>\n",
       "    </tr>\n",
       "    <tr>\n",
       "      <th>2</th>\n",
       "      <td>0</td>\n",
       "      <td>bihday your majesty</td>\n",
       "    </tr>\n",
       "    <tr>\n",
       "      <th>3</th>\n",
       "      <td>0</td>\n",
       "      <td>#model   i love u take with u all the time in ...</td>\n",
       "    </tr>\n",
       "    <tr>\n",
       "      <th>4</th>\n",
       "      <td>0</td>\n",
       "      <td>factsguide: society now    #motivation</td>\n",
       "    </tr>\n",
       "  </tbody>\n",
       "</table>\n",
       "</div>"
      ],
      "text/plain": [
       "   label                                              tweet\n",
       "0      0   @user when a father is dysfunctional and is s...\n",
       "1      0  @user @user thanks for #lyft credit i can't us...\n",
       "2      0                                bihday your majesty\n",
       "3      0  #model   i love u take with u all the time in ...\n",
       "4      0             factsguide: society now    #motivation"
      ]
     },
     "execution_count": 96,
     "metadata": {},
     "output_type": "execute_result"
    }
   ],
   "source": [
    "df2.head()"
   ]
  },
  {
   "cell_type": "code",
   "execution_count": 97,
   "metadata": {
    "execution": {
     "iopub.execute_input": "2021-05-26T07:12:02.541522Z",
     "iopub.status.busy": "2021-05-26T07:12:02.540905Z",
     "iopub.status.idle": "2021-05-26T07:12:03.135448Z",
     "shell.execute_reply": "2021-05-26T07:12:03.134217Z",
     "shell.execute_reply.started": "2021-05-26T07:12:02.541436Z"
    }
   },
   "outputs": [],
   "source": [
    "REPLACE_BY_SPACE_RE = re.compile('[/(){}\\[\\]\\|@,;]')\n",
    "BAD_SYMBOLS_RE = re.compile('[^0-9a-z #+_]')\n",
    "STOPWORDS = set(stopwords.words('english'))\n",
    "\n",
    "def clean_text(text):\n",
    "\n",
    "    text = text.lower() \n",
    "    text = REPLACE_BY_SPACE_RE.sub(' ', text)\n",
    "    text = BAD_SYMBOLS_RE.sub('', text)  \n",
    "    text = text.replace('x', '')\n",
    "    text = ' '.join(word for word in text.split() if word not in STOPWORDS) \n",
    "    return text\n",
    "df2['tweet'] = df2['tweet'].apply(clean_text)\n"
   ]
  },
  {
   "cell_type": "code",
   "execution_count": 98,
   "metadata": {
    "execution": {
     "iopub.execute_input": "2021-05-26T07:12:15.566013Z",
     "iopub.status.busy": "2021-05-26T07:12:15.565596Z",
     "iopub.status.idle": "2021-05-26T07:12:15.581933Z",
     "shell.execute_reply": "2021-05-26T07:12:15.580119Z",
     "shell.execute_reply.started": "2021-05-26T07:12:15.565977Z"
    }
   },
   "outputs": [
    {
     "data": {
      "text/html": [
       "<div>\n",
       "<style scoped>\n",
       "    .dataframe tbody tr th:only-of-type {\n",
       "        vertical-align: middle;\n",
       "    }\n",
       "\n",
       "    .dataframe tbody tr th {\n",
       "        vertical-align: top;\n",
       "    }\n",
       "\n",
       "    .dataframe thead th {\n",
       "        text-align: right;\n",
       "    }\n",
       "</style>\n",
       "<table border=\"1\" class=\"dataframe\">\n",
       "  <thead>\n",
       "    <tr style=\"text-align: right;\">\n",
       "      <th></th>\n",
       "      <th>label</th>\n",
       "      <th>tweet</th>\n",
       "    </tr>\n",
       "  </thead>\n",
       "  <tbody>\n",
       "    <tr>\n",
       "      <th>0</th>\n",
       "      <td>0</td>\n",
       "      <td>user father dysfunctional selfish drags kids d...</td>\n",
       "    </tr>\n",
       "    <tr>\n",
       "      <th>1</th>\n",
       "      <td>0</td>\n",
       "      <td>user user thanks #lyft credit cant use cause d...</td>\n",
       "    </tr>\n",
       "    <tr>\n",
       "      <th>2</th>\n",
       "      <td>0</td>\n",
       "      <td>bihday majesty</td>\n",
       "    </tr>\n",
       "    <tr>\n",
       "      <th>3</th>\n",
       "      <td>0</td>\n",
       "      <td>#model love u take u time ur</td>\n",
       "    </tr>\n",
       "    <tr>\n",
       "      <th>4</th>\n",
       "      <td>0</td>\n",
       "      <td>factsguide society #motivation</td>\n",
       "    </tr>\n",
       "  </tbody>\n",
       "</table>\n",
       "</div>"
      ],
      "text/plain": [
       "   label                                              tweet\n",
       "0      0  user father dysfunctional selfish drags kids d...\n",
       "1      0  user user thanks #lyft credit cant use cause d...\n",
       "2      0                                     bihday majesty\n",
       "3      0                       #model love u take u time ur\n",
       "4      0                     factsguide society #motivation"
      ]
     },
     "execution_count": 98,
     "metadata": {},
     "output_type": "execute_result"
    }
   ],
   "source": [
    "df2.head(5)"
   ]
  },
  {
   "cell_type": "code",
   "execution_count": 102,
   "metadata": {
    "execution": {
     "iopub.execute_input": "2021-05-26T07:15:05.383262Z",
     "iopub.status.busy": "2021-05-26T07:15:05.382837Z",
     "iopub.status.idle": "2021-05-26T07:15:06.905564Z",
     "shell.execute_reply": "2021-05-26T07:15:06.896447Z",
     "shell.execute_reply.started": "2021-05-26T07:15:05.383229Z"
    }
   },
   "outputs": [
    {
     "name": "stdout",
     "output_type": "stream",
     "text": [
      "Found 67728 unique tokens.\n"
     ]
    }
   ],
   "source": [
    "MAX_NB_WORDS = 50000\n",
    "MAX_SEQUENCE_LENGTH = 250\n",
    "EMBEDDING_DIM = 100\n",
    "tokenizer2 = Tokenizer(num_words=MAX_NB_WORDS, filters='!\"#$%&()*+,-./:;<=>?@[\\]^_`{|}~', lower=True)\n",
    "tokenizer2.fit_on_texts(df2['tweet'].values)\n",
    "word_index = tokenizer2.word_index\n",
    "print('Found %s unique tokens.' % len(word_index))"
   ]
  },
  {
   "cell_type": "code",
   "execution_count": 104,
   "metadata": {
    "execution": {
     "iopub.execute_input": "2021-05-26T07:15:53.935023Z",
     "iopub.status.busy": "2021-05-26T07:15:53.934612Z",
     "iopub.status.idle": "2021-05-26T07:15:55.615811Z",
     "shell.execute_reply": "2021-05-26T07:15:55.614493Z",
     "shell.execute_reply.started": "2021-05-26T07:15:53.934988Z"
    }
   },
   "outputs": [
    {
     "name": "stdout",
     "output_type": "stream",
     "text": [
      "Shape of data tensor: (56745, 250)\n"
     ]
    }
   ],
   "source": [
    "X = tokenizer2.texts_to_sequences(df2['tweet'].values)\n",
    "X = sequence.pad_sequences(X, maxlen=MAX_SEQUENCE_LENGTH)\n",
    "print('Shape of data tensor:', X.shape)"
   ]
  },
  {
   "cell_type": "code",
   "execution_count": 105,
   "metadata": {
    "execution": {
     "iopub.execute_input": "2021-05-26T07:16:34.149373Z",
     "iopub.status.busy": "2021-05-26T07:16:34.148725Z",
     "iopub.status.idle": "2021-05-26T07:16:34.158014Z",
     "shell.execute_reply": "2021-05-26T07:16:34.156388Z",
     "shell.execute_reply.started": "2021-05-26T07:16:34.149329Z"
    }
   },
   "outputs": [],
   "source": [
    "Y=df['label']"
   ]
  },
  {
   "cell_type": "code",
   "execution_count": 110,
   "metadata": {
    "execution": {
     "iopub.execute_input": "2021-05-26T07:21:25.129224Z",
     "iopub.status.busy": "2021-05-26T07:21:25.128789Z",
     "iopub.status.idle": "2021-05-26T07:21:25.175138Z",
     "shell.execute_reply": "2021-05-26T07:21:25.173957Z",
     "shell.execute_reply.started": "2021-05-26T07:21:25.129189Z"
    }
   },
   "outputs": [
    {
     "name": "stdout",
     "output_type": "stream",
     "text": [
      "(45396, 250) (45396,)\n",
      "(11349, 250) (11349,)\n"
     ]
    }
   ],
   "source": [
    "X_train, X_test, Y_train, Y_test = train_test_split(X,Y, test_size = 0.20, random_state = 42)\n",
    "print(X_train.shape,Y_train.shape)\n",
    "print(X_test.shape,Y_test.shape)"
   ]
  },
  {
   "cell_type": "code",
   "execution_count": 111,
   "metadata": {
    "execution": {
     "iopub.execute_input": "2021-05-26T07:21:37.974651Z",
     "iopub.status.busy": "2021-05-26T07:21:37.974193Z",
     "iopub.status.idle": "2021-05-26T07:31:47.325518Z",
     "shell.execute_reply": "2021-05-26T07:31:47.323880Z",
     "shell.execute_reply.started": "2021-05-26T07:21:37.974616Z"
    }
   },
   "outputs": [
    {
     "name": "stdout",
     "output_type": "stream",
     "text": [
      "Epoch 1/10\n",
      "36/36 [==============================] - 64s 2s/step - loss: 0.6156 - accuracy: 0.6580 - val_loss: 0.3104 - val_accuracy: 0.8902\n",
      "Epoch 2/10\n",
      "36/36 [==============================] - 59s 2s/step - loss: 0.2576 - accuracy: 0.9124 - val_loss: 0.1987 - val_accuracy: 0.9311\n",
      "Epoch 3/10\n",
      "36/36 [==============================] - 60s 2s/step - loss: 0.1406 - accuracy: 0.9511 - val_loss: 0.1647 - val_accuracy: 0.9419\n",
      "Epoch 4/10\n",
      "36/36 [==============================] - 60s 2s/step - loss: 0.1029 - accuracy: 0.9634 - val_loss: 0.1604 - val_accuracy: 0.9426\n",
      "Epoch 5/10\n",
      "36/36 [==============================] - 61s 2s/step - loss: 0.0819 - accuracy: 0.9716 - val_loss: 0.1780 - val_accuracy: 0.9427\n",
      "Epoch 6/10\n",
      "36/36 [==============================] - 59s 2s/step - loss: 0.0693 - accuracy: 0.9765 - val_loss: 0.1684 - val_accuracy: 0.9431\n",
      "Epoch 7/10\n",
      "36/36 [==============================] - 61s 2s/step - loss: 0.0592 - accuracy: 0.9809 - val_loss: 0.1813 - val_accuracy: 0.9410\n",
      "Epoch 8/10\n",
      "36/36 [==============================] - 61s 2s/step - loss: 0.0497 - accuracy: 0.9837 - val_loss: 0.2090 - val_accuracy: 0.9432\n",
      "Epoch 9/10\n",
      "36/36 [==============================] - 62s 2s/step - loss: 0.0439 - accuracy: 0.9859 - val_loss: 0.2020 - val_accuracy: 0.9420\n",
      "Epoch 10/10\n",
      "36/36 [==============================] - 60s 2s/step - loss: 0.0407 - accuracy: 0.9873 - val_loss: 0.2320 - val_accuracy: 0.9395\n"
     ]
    }
   ],
   "source": [
    "model2 = Sequential()\n",
    "model2.add(Embedding(MAX_NB_WORDS, EMBEDDING_DIM, input_length=X.shape[1]))\n",
    "model2.add(SpatialDropout1D(0.2))\n",
    "model2.add(LSTM(100, dropout=0.2, recurrent_dropout=0.2))\n",
    "model2.add(Dense(1, activation='sigmoid'))\n",
    "model2.compile(loss='binary_crossentropy',optimizer=RMSprop(),metrics=['accuracy'])\n",
    "\n",
    "epochs = 10\n",
    "batch_size = 1024\n",
    "\n",
    "history2 = model2.fit(X_train, Y_train, epochs=epochs,batch_size=batch_size,validation_split=0.2,callbacks=[stop,checkpoint])"
   ]
  },
  {
   "cell_type": "code",
   "execution_count": 114,
   "metadata": {
    "execution": {
     "iopub.execute_input": "2021-05-26T07:35:34.198707Z",
     "iopub.status.busy": "2021-05-26T07:35:34.198219Z",
     "iopub.status.idle": "2021-05-26T07:36:04.610015Z",
     "shell.execute_reply": "2021-05-26T07:36:04.608830Z",
     "shell.execute_reply.started": "2021-05-26T07:35:34.198671Z"
    }
   },
   "outputs": [
    {
     "name": "stdout",
     "output_type": "stream",
     "text": [
      "355/355 [==============================] - 30s 85ms/step - loss: 0.2531 - accuracy: 0.9313\n"
     ]
    }
   ],
   "source": [
    "# test_sequences2 = tokenizer2.texts_to_sequences(X_test)\n",
    "# test_sequences_matrix2 = sequence.pad_sequences(test_sequences2,maxlen=MAX_SEQUENCE_LENGTH)\n",
    "accr = model2.evaluate(X_test,Y_test)\n"
   ]
  },
  {
   "cell_type": "code",
   "execution_count": 132,
   "metadata": {
    "execution": {
     "iopub.execute_input": "2021-05-26T08:01:03.342106Z",
     "iopub.status.busy": "2021-05-26T08:01:03.341679Z",
     "iopub.status.idle": "2021-05-26T08:01:32.174509Z",
     "shell.execute_reply": "2021-05-26T08:01:32.173216Z",
     "shell.execute_reply.started": "2021-05-26T08:01:03.342063Z"
    }
   },
   "outputs": [
    {
     "name": "stdout",
     "output_type": "stream",
     "text": [
      "[[9.9773598e-01]\n",
      " [4.1449009e-03]\n",
      " [9.9835384e-01]\n",
      " [9.9859816e-01]\n",
      " [1.0351390e-04]]\n"
     ]
    }
   ],
   "source": [
    "lstm_prediction2=model2.predict(X_test)\n",
    "print(lstm_prediction2[0:5])\n",
    "res2=[]\n",
    "for prediction in lstm_prediction2:\n",
    "    if prediction[0]<0.45:\n",
    "        res2.append(0)\n",
    "    else:\n",
    "        res2.append(1)"
   ]
  },
  {
   "cell_type": "code",
   "execution_count": 133,
   "metadata": {
    "execution": {
     "iopub.execute_input": "2021-05-26T08:01:38.336638Z",
     "iopub.status.busy": "2021-05-26T08:01:38.336163Z",
     "iopub.status.idle": "2021-05-26T08:01:38.346342Z",
     "shell.execute_reply": "2021-05-26T08:01:38.344753Z",
     "shell.execute_reply.started": "2021-05-26T08:01:38.336601Z"
    }
   },
   "outputs": [
    {
     "data": {
      "text/plain": [
       "12238    1\n",
       "14377    0\n",
       "17207    1\n",
       "22168    1\n",
       "18801    0\n",
       "Name: label, dtype: int64"
      ]
     },
     "execution_count": 133,
     "metadata": {},
     "output_type": "execute_result"
    }
   ],
   "source": [
    "Y_test[0:5]"
   ]
  },
  {
   "cell_type": "code",
   "execution_count": 134,
   "metadata": {
    "execution": {
     "iopub.execute_input": "2021-05-26T08:01:43.791412Z",
     "iopub.status.busy": "2021-05-26T08:01:43.790993Z",
     "iopub.status.idle": "2021-05-26T08:01:43.822883Z",
     "shell.execute_reply": "2021-05-26T08:01:43.821464Z",
     "shell.execute_reply.started": "2021-05-26T08:01:43.791377Z"
    }
   },
   "outputs": [
    {
     "name": "stdout",
     "output_type": "stream",
     "text": [
      "[[6267  469]\n",
      " [ 333 4280]]\n"
     ]
    }
   ],
   "source": [
    "print(confusion_matrix(Y_test,res2))\n"
   ]
  },
  {
   "cell_type": "code",
   "execution_count": 136,
   "metadata": {
    "execution": {
     "iopub.execute_input": "2021-05-26T08:02:08.202226Z",
     "iopub.status.busy": "2021-05-26T08:02:08.201777Z",
     "iopub.status.idle": "2021-05-26T08:02:08.345036Z",
     "shell.execute_reply": "2021-05-26T08:02:08.344127Z",
     "shell.execute_reply.started": "2021-05-26T08:02:08.202159Z"
    }
   },
   "outputs": [
    {
     "name": "stdout",
     "output_type": "stream",
     "text": [
      "['hate country']\n",
      "[[71, 485]]\n",
      "pred [[0.4595739]]\n",
      "hate and abusive\n"
     ]
    }
   ],
   "source": [
    "test = 'I hate this country'\n",
    "def clean_text(text):\n",
    "\n",
    "    text = text.lower() \n",
    "    text = REPLACE_BY_SPACE_RE.sub(' ', text)\n",
    "    text = BAD_SYMBOLS_RE.sub('', text)  \n",
    "    text = text.replace('x', '')\n",
    "    text = ' '.join(word for word in text.split() if word not in STOPWORDS) \n",
    "    return text\n",
    "test=[clean_text(test)]\n",
    "print(test)\n",
    "seq = tokenizer2.texts_to_sequences(test)\n",
    "padded = sequence.pad_sequences(seq, maxlen=250)\n",
    "print(seq)\n",
    "pred = model2.predict(padded)\n",
    "print(\"pred\", pred)\n",
    "if pred<0.45:\n",
    "    print(\"no hate\")\n",
    "else:\n",
    "    print(\"hate and abusive\")"
   ]
  }
 ],
 "metadata": {
  "kernelspec": {
   "display_name": "Python 3 (ipykernel)",
   "language": "python",
   "name": "python3"
  },
  "language_info": {
   "codemirror_mode": {
    "name": "ipython",
    "version": 3
   },
   "file_extension": ".py",
   "mimetype": "text/x-python",
   "name": "python",
   "nbconvert_exporter": "python",
   "pygments_lexer": "ipython3",
   "version": "3.7.0"
  }
 },
 "nbformat": 4,
 "nbformat_minor": 4
}
