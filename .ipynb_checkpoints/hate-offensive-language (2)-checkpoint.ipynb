{
 "cells": [
  {
   "cell_type": "code",
   "execution_count": 1,
   "metadata": {
    "_cell_guid": "b1076dfc-b9ad-4769-8c92-a6c4dae69d19",
    "_uuid": "8f2839f25d086af736a60e9eeb907d3b93b6e0e5",
    "execution": {
     "iopub.execute_input": "2022-05-05T05:55:50.728214Z",
     "iopub.status.busy": "2022-05-05T05:55:50.727797Z",
     "iopub.status.idle": "2022-05-05T05:55:50.742754Z",
     "shell.execute_reply": "2022-05-05T05:55:50.741789Z",
     "shell.execute_reply.started": "2022-05-05T05:55:50.728110Z"
    }
   },
   "outputs": [],
   "source": [
    "\n",
    "import numpy as np \n",
    "import pandas as pd \n",
    "\n",
    "\n",
    "import os\n",
    "for dirname, _, filenames in os.walk('/kaggle/input'):\n",
    "    for filename in filenames:\n",
    "        print(os.path.join(dirname, filename))\n",
    "\n"
   ]
  },
  {
   "cell_type": "code",
   "execution_count": 2,
   "metadata": {
    "execution": {
     "iopub.execute_input": "2022-05-05T05:55:51.047813Z",
     "iopub.status.busy": "2022-05-05T05:55:51.047520Z",
     "iopub.status.idle": "2022-05-05T05:55:51.097204Z",
     "shell.execute_reply": "2022-05-05T05:55:51.096394Z",
     "shell.execute_reply.started": "2022-05-05T05:55:51.047785Z"
    }
   },
   "outputs": [],
   "source": [
    "df_twitter=pd.read_csv(\"/kaggle/input/twitter-sentiment-analysis-hatred-speech/train.csv\")"
   ]
  },
  {
   "cell_type": "code",
   "execution_count": 3,
   "metadata": {
    "execution": {
     "iopub.execute_input": "2022-05-05T05:55:51.287727Z",
     "iopub.status.busy": "2022-05-05T05:55:51.287424Z",
     "iopub.status.idle": "2022-05-05T05:55:51.302950Z",
     "shell.execute_reply": "2022-05-05T05:55:51.301873Z",
     "shell.execute_reply.started": "2022-05-05T05:55:51.287698Z"
    }
   },
   "outputs": [],
   "source": [
    "df_twitter.head()"
   ]
  },
  {
   "cell_type": "code",
   "execution_count": 4,
   "metadata": {
    "execution": {
     "iopub.execute_input": "2022-05-05T05:55:51.677822Z",
     "iopub.status.busy": "2022-05-05T05:55:51.677507Z",
     "iopub.status.idle": "2022-05-05T05:55:52.073018Z",
     "shell.execute_reply": "2022-05-05T05:55:52.072030Z",
     "shell.execute_reply.started": "2022-05-05T05:55:51.677790Z"
    }
   },
   "outputs": [],
   "source": [
    "import seaborn as sns\n",
    "sns.countplot('label',data=df_twitter)"
   ]
  },
  {
   "cell_type": "code",
   "execution_count": 5,
   "metadata": {
    "execution": {
     "iopub.execute_input": "2022-05-05T05:55:52.362647Z",
     "iopub.status.busy": "2022-05-05T05:55:52.362336Z",
     "iopub.status.idle": "2022-05-05T05:55:52.368473Z",
     "shell.execute_reply": "2022-05-05T05:55:52.367481Z",
     "shell.execute_reply.started": "2022-05-05T05:55:52.362617Z"
    }
   },
   "outputs": [],
   "source": [
    "df_twitter.shape"
   ]
  },
  {
   "cell_type": "code",
   "execution_count": 6,
   "metadata": {
    "execution": {
     "iopub.execute_input": "2022-05-05T05:55:52.662663Z",
     "iopub.status.busy": "2022-05-05T05:55:52.662371Z",
     "iopub.status.idle": "2022-05-05T05:55:52.673668Z",
     "shell.execute_reply": "2022-05-05T05:55:52.672573Z",
     "shell.execute_reply.started": "2022-05-05T05:55:52.662635Z"
    }
   },
   "outputs": [],
   "source": [
    "df_twitter.isnull().sum()"
   ]
  },
  {
   "cell_type": "code",
   "execution_count": 7,
   "metadata": {
    "execution": {
     "iopub.execute_input": "2022-05-05T05:55:53.248248Z",
     "iopub.status.busy": "2022-05-05T05:55:53.247910Z",
     "iopub.status.idle": "2022-05-05T05:55:53.255325Z",
     "shell.execute_reply": "2022-05-05T05:55:53.254032Z",
     "shell.execute_reply.started": "2022-05-05T05:55:53.248215Z"
    }
   },
   "outputs": [],
   "source": [
    "df_twitter.drop('id',axis=1,inplace=True)"
   ]
  },
  {
   "cell_type": "code",
   "execution_count": 8,
   "metadata": {
    "execution": {
     "iopub.execute_input": "2022-05-05T05:55:53.457936Z",
     "iopub.status.busy": "2022-05-05T05:55:53.457611Z",
     "iopub.status.idle": "2022-05-05T05:55:53.500002Z",
     "shell.execute_reply": "2022-05-05T05:55:53.499203Z",
     "shell.execute_reply.started": "2022-05-05T05:55:53.457902Z"
    }
   },
   "outputs": [],
   "source": [
    "df_offensive=pd.read_csv(\"/kaggle/input/hate-speech-and-offensive-language-dataset/labeled_data.csv\")"
   ]
  },
  {
   "cell_type": "code",
   "execution_count": 9,
   "metadata": {
    "execution": {
     "iopub.execute_input": "2022-05-05T05:55:53.667782Z",
     "iopub.status.busy": "2022-05-05T05:55:53.667476Z",
     "iopub.status.idle": "2022-05-05T05:55:53.679038Z",
     "shell.execute_reply": "2022-05-05T05:55:53.678191Z",
     "shell.execute_reply.started": "2022-05-05T05:55:53.667751Z"
    }
   },
   "outputs": [],
   "source": [
    "df_offensive.head()"
   ]
  },
  {
   "cell_type": "code",
   "execution_count": 10,
   "metadata": {
    "execution": {
     "iopub.execute_input": "2022-05-05T05:55:53.852815Z",
     "iopub.status.busy": "2022-05-05T05:55:53.852538Z",
     "iopub.status.idle": "2022-05-05T05:55:53.858078Z",
     "shell.execute_reply": "2022-05-05T05:55:53.857173Z",
     "shell.execute_reply.started": "2022-05-05T05:55:53.852788Z"
    }
   },
   "outputs": [],
   "source": [
    "df_offensive.shape"
   ]
  },
  {
   "cell_type": "code",
   "execution_count": 11,
   "metadata": {
    "execution": {
     "iopub.execute_input": "2022-05-05T05:55:54.072298Z",
     "iopub.status.busy": "2022-05-05T05:55:54.071989Z",
     "iopub.status.idle": "2022-05-05T05:55:54.082963Z",
     "shell.execute_reply": "2022-05-05T05:55:54.081900Z",
     "shell.execute_reply.started": "2022-05-05T05:55:54.072271Z"
    }
   },
   "outputs": [],
   "source": [
    "df_offensive.isnull().sum()"
   ]
  },
  {
   "cell_type": "code",
   "execution_count": 12,
   "metadata": {
    "execution": {
     "iopub.execute_input": "2022-05-05T05:55:54.252420Z",
     "iopub.status.busy": "2022-05-05T05:55:54.252112Z",
     "iopub.status.idle": "2022-05-05T05:55:54.258168Z",
     "shell.execute_reply": "2022-05-05T05:55:54.257221Z",
     "shell.execute_reply.started": "2022-05-05T05:55:54.252392Z"
    }
   },
   "outputs": [],
   "source": [
    "df_offensive.drop(['Unnamed: 0','count','hate_speech','offensive_language','neither'],axis=1,inplace=True)"
   ]
  },
  {
   "cell_type": "code",
   "execution_count": 13,
   "metadata": {
    "execution": {
     "iopub.execute_input": "2022-05-05T05:55:54.465627Z",
     "iopub.status.busy": "2022-05-05T05:55:54.463030Z",
     "iopub.status.idle": "2022-05-05T05:55:54.482430Z",
     "shell.execute_reply": "2022-05-05T05:55:54.481643Z",
     "shell.execute_reply.started": "2022-05-05T05:55:54.465576Z"
    }
   },
   "outputs": [],
   "source": [
    "df_offensive.head(10)"
   ]
  },
  {
   "cell_type": "code",
   "execution_count": 14,
   "metadata": {
    "execution": {
     "iopub.execute_input": "2022-05-05T05:55:54.702908Z",
     "iopub.status.busy": "2022-05-05T05:55:54.702385Z",
     "iopub.status.idle": "2022-05-05T05:55:54.711857Z",
     "shell.execute_reply": "2022-05-05T05:55:54.711038Z",
     "shell.execute_reply.started": "2022-05-05T05:55:54.702873Z"
    }
   },
   "outputs": [],
   "source": [
    "df_offensive['class'].unique()"
   ]
  },
  {
   "cell_type": "code",
   "execution_count": 15,
   "metadata": {
    "execution": {
     "iopub.execute_input": "2022-05-05T05:55:54.902735Z",
     "iopub.status.busy": "2022-05-05T05:55:54.902428Z",
     "iopub.status.idle": "2022-05-05T05:55:55.026781Z",
     "shell.execute_reply": "2022-05-05T05:55:55.025959Z",
     "shell.execute_reply.started": "2022-05-05T05:55:54.902706Z"
    }
   },
   "outputs": [],
   "source": [
    "sns.countplot('class',data=df_offensive)"
   ]
  },
  {
   "cell_type": "code",
   "execution_count": 16,
   "metadata": {
    "execution": {
     "iopub.execute_input": "2022-05-05T05:55:55.142541Z",
     "iopub.status.busy": "2022-05-05T05:55:55.142274Z",
     "iopub.status.idle": "2022-05-05T05:55:55.155341Z",
     "shell.execute_reply": "2022-05-05T05:55:55.154351Z",
     "shell.execute_reply.started": "2022-05-05T05:55:55.142510Z"
    }
   },
   "outputs": [],
   "source": [
    "df_offensive[df_offensive['class']==0]['class']=1"
   ]
  },
  {
   "cell_type": "code",
   "execution_count": 17,
   "metadata": {
    "execution": {
     "iopub.execute_input": "2022-05-05T05:55:55.342624Z",
     "iopub.status.busy": "2022-05-05T05:55:55.342325Z",
     "iopub.status.idle": "2022-05-05T05:55:55.352043Z",
     "shell.execute_reply": "2022-05-05T05:55:55.351038Z",
     "shell.execute_reply.started": "2022-05-05T05:55:55.342595Z"
    }
   },
   "outputs": [],
   "source": [
    "df_offensive.head(5)"
   ]
  },
  {
   "cell_type": "code",
   "execution_count": 18,
   "metadata": {
    "execution": {
     "iopub.execute_input": "2022-05-05T05:55:55.542917Z",
     "iopub.status.busy": "2022-05-05T05:55:55.542593Z",
     "iopub.status.idle": "2022-05-05T05:55:55.549030Z",
     "shell.execute_reply": "2022-05-05T05:55:55.548102Z",
     "shell.execute_reply.started": "2022-05-05T05:55:55.542887Z"
    }
   },
   "outputs": [],
   "source": [
    "df_offensive['class'].unique()"
   ]
  },
  {
   "cell_type": "code",
   "execution_count": 19,
   "metadata": {
    "execution": {
     "iopub.execute_input": "2022-05-05T05:55:55.767590Z",
     "iopub.status.busy": "2022-05-05T05:55:55.767315Z",
     "iopub.status.idle": "2022-05-05T05:55:55.781630Z",
     "shell.execute_reply": "2022-05-05T05:55:55.780792Z",
     "shell.execute_reply.started": "2022-05-05T05:55:55.767562Z"
    }
   },
   "outputs": [],
   "source": [
    "df_offensive[df_offensive['class']==0]"
   ]
  },
  {
   "cell_type": "code",
   "execution_count": 20,
   "metadata": {
    "execution": {
     "iopub.execute_input": "2022-05-05T05:55:56.072771Z",
     "iopub.status.busy": "2022-05-05T05:55:56.072471Z",
     "iopub.status.idle": "2022-05-05T05:55:56.078027Z",
     "shell.execute_reply": "2022-05-05T05:55:56.077145Z",
     "shell.execute_reply.started": "2022-05-05T05:55:56.072741Z"
    }
   },
   "outputs": [],
   "source": [
    "df_offensive[\"class\"].replace({0: 1}, inplace=True)"
   ]
  },
  {
   "cell_type": "code",
   "execution_count": 21,
   "metadata": {
    "execution": {
     "iopub.execute_input": "2022-05-05T05:55:56.307439Z",
     "iopub.status.busy": "2022-05-05T05:55:56.307158Z",
     "iopub.status.idle": "2022-05-05T05:55:56.313721Z",
     "shell.execute_reply": "2022-05-05T05:55:56.312621Z",
     "shell.execute_reply.started": "2022-05-05T05:55:56.307412Z"
    }
   },
   "outputs": [],
   "source": [
    "df_offensive['class'].unique()"
   ]
  },
  {
   "cell_type": "code",
   "execution_count": 22,
   "metadata": {
    "execution": {
     "iopub.execute_input": "2022-05-05T05:55:56.527578Z",
     "iopub.status.busy": "2022-05-05T05:55:56.527272Z",
     "iopub.status.idle": "2022-05-05T05:55:56.639427Z",
     "shell.execute_reply": "2022-05-05T05:55:56.638449Z",
     "shell.execute_reply.started": "2022-05-05T05:55:56.527550Z"
    }
   },
   "outputs": [],
   "source": [
    "sns.countplot('class',data=df_offensive)"
   ]
  },
  {
   "cell_type": "code",
   "execution_count": 23,
   "metadata": {
    "execution": {
     "iopub.execute_input": "2022-05-05T05:55:56.762582Z",
     "iopub.status.busy": "2022-05-05T05:55:56.762303Z",
     "iopub.status.idle": "2022-05-05T05:55:56.772644Z",
     "shell.execute_reply": "2022-05-05T05:55:56.770617Z",
     "shell.execute_reply.started": "2022-05-05T05:55:56.762555Z"
    }
   },
   "outputs": [],
   "source": [
    "df_offensive[df_offensive['class']==0]"
   ]
  },
  {
   "cell_type": "code",
   "execution_count": 24,
   "metadata": {
    "execution": {
     "iopub.execute_input": "2022-05-05T05:55:57.012733Z",
     "iopub.status.busy": "2022-05-05T05:55:57.012458Z",
     "iopub.status.idle": "2022-05-05T05:55:57.017851Z",
     "shell.execute_reply": "2022-05-05T05:55:57.017024Z",
     "shell.execute_reply.started": "2022-05-05T05:55:57.012706Z"
    }
   },
   "outputs": [],
   "source": [
    "df_offensive[\"class\"].replace({2: 0}, inplace=True)"
   ]
  },
  {
   "cell_type": "code",
   "execution_count": 25,
   "metadata": {
    "execution": {
     "iopub.execute_input": "2022-05-05T05:55:57.242508Z",
     "iopub.status.busy": "2022-05-05T05:55:57.242240Z",
     "iopub.status.idle": "2022-05-05T05:55:57.353570Z",
     "shell.execute_reply": "2022-05-05T05:55:57.352598Z",
     "shell.execute_reply.started": "2022-05-05T05:55:57.242482Z"
    }
   },
   "outputs": [],
   "source": [
    "sns.countplot('class',data=df_offensive)"
   ]
  },
  {
   "cell_type": "code",
   "execution_count": 26,
   "metadata": {
    "execution": {
     "iopub.execute_input": "2022-05-05T05:55:57.447491Z",
     "iopub.status.busy": "2022-05-05T05:55:57.447220Z",
     "iopub.status.idle": "2022-05-05T05:55:57.451776Z",
     "shell.execute_reply": "2022-05-05T05:55:57.450737Z",
     "shell.execute_reply.started": "2022-05-05T05:55:57.447464Z"
    }
   },
   "outputs": [],
   "source": [
    "df_offensive.rename(columns ={'class':'label'}, inplace = True)\n",
    "   "
   ]
  },
  {
   "cell_type": "code",
   "execution_count": 27,
   "metadata": {
    "execution": {
     "iopub.execute_input": "2022-05-05T05:55:57.707567Z",
     "iopub.status.busy": "2022-05-05T05:55:57.707257Z",
     "iopub.status.idle": "2022-05-05T05:55:57.716851Z",
     "shell.execute_reply": "2022-05-05T05:55:57.715991Z",
     "shell.execute_reply.started": "2022-05-05T05:55:57.707537Z"
    }
   },
   "outputs": [],
   "source": [
    "df_offensive.head()"
   ]
  },
  {
   "cell_type": "code",
   "execution_count": 28,
   "metadata": {
    "execution": {
     "iopub.execute_input": "2022-05-05T05:55:57.927596Z",
     "iopub.status.busy": "2022-05-05T05:55:57.927313Z",
     "iopub.status.idle": "2022-05-05T05:55:57.933274Z",
     "shell.execute_reply": "2022-05-05T05:55:57.932244Z",
     "shell.execute_reply.started": "2022-05-05T05:55:57.927569Z"
    }
   },
   "outputs": [],
   "source": [
    "df_offensive.iloc[0]['tweet']"
   ]
  },
  {
   "cell_type": "code",
   "execution_count": 29,
   "metadata": {
    "execution": {
     "iopub.execute_input": "2022-05-05T05:55:58.167783Z",
     "iopub.status.busy": "2022-05-05T05:55:58.167499Z",
     "iopub.status.idle": "2022-05-05T05:55:58.173811Z",
     "shell.execute_reply": "2022-05-05T05:55:58.172930Z",
     "shell.execute_reply.started": "2022-05-05T05:55:58.167755Z"
    }
   },
   "outputs": [],
   "source": [
    "df_offensive.iloc[5]['tweet']"
   ]
  },
  {
   "cell_type": "code",
   "execution_count": 30,
   "metadata": {
    "execution": {
     "iopub.execute_input": "2022-05-05T05:55:58.407910Z",
     "iopub.status.busy": "2022-05-05T05:55:58.407593Z",
     "iopub.status.idle": "2022-05-05T05:55:58.416161Z",
     "shell.execute_reply": "2022-05-05T05:55:58.415243Z",
     "shell.execute_reply.started": "2022-05-05T05:55:58.407878Z"
    }
   },
   "outputs": [],
   "source": [
    "frame=[df_twitter,df_offensive]\n",
    "df = pd.concat(frame)"
   ]
  },
  {
   "cell_type": "code",
   "execution_count": 31,
   "metadata": {
    "execution": {
     "iopub.execute_input": "2022-05-05T05:55:58.602517Z",
     "iopub.status.busy": "2022-05-05T05:55:58.602234Z",
     "iopub.status.idle": "2022-05-05T05:55:58.612013Z",
     "shell.execute_reply": "2022-05-05T05:55:58.611085Z",
     "shell.execute_reply.started": "2022-05-05T05:55:58.602490Z"
    }
   },
   "outputs": [],
   "source": [
    "df.head()"
   ]
  },
  {
   "cell_type": "code",
   "execution_count": 32,
   "metadata": {
    "execution": {
     "iopub.execute_input": "2022-05-05T05:55:58.867722Z",
     "iopub.status.busy": "2022-05-05T05:55:58.867411Z",
     "iopub.status.idle": "2022-05-05T05:55:58.978144Z",
     "shell.execute_reply": "2022-05-05T05:55:58.977236Z",
     "shell.execute_reply.started": "2022-05-05T05:55:58.867691Z"
    }
   },
   "outputs": [],
   "source": [
    "sns.countplot('label',data=df)"
   ]
  },
  {
   "cell_type": "code",
   "execution_count": 33,
   "metadata": {
    "execution": {
     "iopub.execute_input": "2022-05-05T05:55:59.112462Z",
     "iopub.status.busy": "2022-05-05T05:55:59.112182Z",
     "iopub.status.idle": "2022-05-05T05:55:59.118060Z",
     "shell.execute_reply": "2022-05-05T05:55:59.117205Z",
     "shell.execute_reply.started": "2022-05-05T05:55:59.112433Z"
    }
   },
   "outputs": [],
   "source": [
    "df.shape"
   ]
  },
  {
   "cell_type": "code",
   "execution_count": 34,
   "metadata": {
    "execution": {
     "iopub.execute_input": "2022-05-05T05:55:59.327488Z",
     "iopub.status.busy": "2022-05-05T05:55:59.327220Z",
     "iopub.status.idle": "2022-05-05T05:55:59.632976Z",
     "shell.execute_reply": "2022-05-05T05:55:59.632181Z",
     "shell.execute_reply.started": "2022-05-05T05:55:59.327462Z"
    }
   },
   "outputs": [],
   "source": [
    "import re\n",
    "import nltk\n",
    "stemmer = nltk.SnowballStemmer(\"english\")\n",
    "from nltk.corpus import stopwords\n",
    "import string\n",
    "stopword=set(stopwords.words('english'))\n"
   ]
  },
  {
   "cell_type": "code",
   "execution_count": 35,
   "metadata": {
    "execution": {
     "iopub.execute_input": "2022-05-05T05:55:59.634864Z",
     "iopub.status.busy": "2022-05-05T05:55:59.634512Z",
     "iopub.status.idle": "2022-05-05T05:55:59.642214Z",
     "shell.execute_reply": "2022-05-05T05:55:59.641288Z",
     "shell.execute_reply.started": "2022-05-05T05:55:59.634813Z"
    }
   },
   "outputs": [],
   "source": [
    "def clean_text(text):\n",
    "    text = str(text).lower()\n",
    "    text = re.sub('\\[.*?\\]', '', text)\n",
    "    text = re.sub('https?://\\S+|www\\.\\S+', '', text)\n",
    "    text = re.sub('<.*?>+', '', text)\n",
    "    text = re.sub('[%s]' % re.escape(string.punctuation), '', text)\n",
    "    text = re.sub('\\n', '', text)\n",
    "    text = re.sub('\\w*\\d\\w*', '', text)\n",
    "    text = [word for word in text.split(' ') if word not in stopword]\n",
    "    text=\" \".join(text)\n",
    "    text = [stemmer.stem(word) for word in text.split(' ')]\n",
    "    text=\" \".join(text)\n",
    "    return text"
   ]
  },
  {
   "cell_type": "code",
   "execution_count": 36,
   "metadata": {
    "execution": {
     "iopub.execute_input": "2022-05-05T05:55:59.767420Z",
     "iopub.status.busy": "2022-05-05T05:55:59.767146Z",
     "iopub.status.idle": "2022-05-05T05:56:09.709669Z",
     "shell.execute_reply": "2022-05-05T05:56:09.708794Z",
     "shell.execute_reply.started": "2022-05-05T05:55:59.767393Z"
    }
   },
   "outputs": [],
   "source": [
    "df['tweet']=df['tweet'].apply(clean_text)"
   ]
  },
  {
   "cell_type": "code",
   "execution_count": 37,
   "metadata": {
    "execution": {
     "iopub.execute_input": "2022-05-05T05:56:09.711395Z",
     "iopub.status.busy": "2022-05-05T05:56:09.711045Z",
     "iopub.status.idle": "2022-05-05T05:56:09.719898Z",
     "shell.execute_reply": "2022-05-05T05:56:09.719065Z",
     "shell.execute_reply.started": "2022-05-05T05:56:09.711357Z"
    }
   },
   "outputs": [],
   "source": [
    "df.head()"
   ]
  },
  {
   "cell_type": "code",
   "execution_count": 38,
   "metadata": {
    "execution": {
     "iopub.execute_input": "2022-05-05T05:56:09.722798Z",
     "iopub.status.busy": "2022-05-05T05:56:09.722180Z",
     "iopub.status.idle": "2022-05-05T05:56:09.735877Z",
     "shell.execute_reply": "2022-05-05T05:56:09.734942Z",
     "shell.execute_reply.started": "2022-05-05T05:56:09.722758Z"
    }
   },
   "outputs": [],
   "source": [
    "from wordcloud import WordCloud, STOPWORDS\n",
    "import matplotlib.pyplot as plt\n",
    "import pandas as pd\n",
    "  "
   ]
  },
  {
   "cell_type": "code",
   "execution_count": 39,
   "metadata": {
    "execution": {
     "iopub.execute_input": "2022-05-05T05:56:09.737868Z",
     "iopub.status.busy": "2022-05-05T05:56:09.737496Z",
     "iopub.status.idle": "2022-05-05T05:56:09.744413Z",
     "shell.execute_reply": "2022-05-05T05:56:09.743351Z",
     "shell.execute_reply.started": "2022-05-05T05:56:09.737833Z"
    }
   },
   "outputs": [],
   "source": [
    "def make_wordcloud(df):\n",
    "    comment_words=\"\"\n",
    "    for val in df.tweet: \n",
    "        val = str(val).lower()\n",
    "\n",
    "      \n",
    "        comment_words += \" \".join(val)+\" \"\n",
    "    print(comment_words[0:100])\n",
    "    wordcloud = WordCloud(width = 800, height = 800,\n",
    "                background_color ='white',\n",
    "                stopwords = stopwords,min_font_size = 10).generate(comment_words)\n",
    "  \n",
    "    plt.figure(figsize = (8, 8), facecolor = None)\n",
    "    plt.imshow(wordcloud)\n",
    "    plt.axis(\"off\")\n",
    "    plt.tight_layout(pad = 0)\n",
    "\n",
    "    plt.show()"
   ]
  },
  {
   "cell_type": "code",
   "execution_count": 40,
   "metadata": {
    "execution": {
     "iopub.execute_input": "2022-05-05T05:56:09.746416Z",
     "iopub.status.busy": "2022-05-05T05:56:09.745856Z",
     "iopub.status.idle": "2022-05-05T05:56:09.753688Z",
     "shell.execute_reply": "2022-05-05T05:56:09.752856Z",
     "shell.execute_reply.started": "2022-05-05T05:56:09.746379Z"
    }
   },
   "outputs": [],
   "source": [
    "# make_wordcloud(df[df['label']==0])"
   ]
  },
  {
   "cell_type": "code",
   "execution_count": 41,
   "metadata": {
    "execution": {
     "iopub.execute_input": "2022-05-05T05:56:09.755468Z",
     "iopub.status.busy": "2022-05-05T05:56:09.754906Z",
     "iopub.status.idle": "2022-05-05T05:56:09.761923Z",
     "shell.execute_reply": "2022-05-05T05:56:09.760886Z",
     "shell.execute_reply.started": "2022-05-05T05:56:09.755431Z"
    }
   },
   "outputs": [],
   "source": [
    "x=df['tweet']\n",
    "y=df['label']"
   ]
  },
  {
   "cell_type": "code",
   "execution_count": 42,
   "metadata": {
    "execution": {
     "iopub.execute_input": "2022-05-05T05:56:09.763693Z",
     "iopub.status.busy": "2022-05-05T05:56:09.763105Z",
     "iopub.status.idle": "2022-05-05T05:56:09.780671Z",
     "shell.execute_reply": "2022-05-05T05:56:09.779889Z",
     "shell.execute_reply.started": "2022-05-05T05:56:09.763656Z"
    }
   },
   "outputs": [],
   "source": [
    "from sklearn.model_selection import train_test_split\n",
    "\n",
    "x_train, x_test, y_train, y_test = train_test_split(x, y, random_state=42)\n",
    "print(len(x_train), len(y_train))\n",
    "print(len(x_test), len(y_test))"
   ]
  },
  {
   "cell_type": "code",
   "execution_count": 43,
   "metadata": {
    "execution": {
     "iopub.execute_input": "2022-05-05T05:56:09.783794Z",
     "iopub.status.busy": "2022-05-05T05:56:09.783450Z",
     "iopub.status.idle": "2022-05-05T05:56:14.054654Z",
     "shell.execute_reply": "2022-05-05T05:56:14.053730Z",
     "shell.execute_reply.started": "2022-05-05T05:56:09.783756Z"
    }
   },
   "outputs": [],
   "source": [
    "from sklearn.feature_extraction.text import CountVectorizer\n",
    "\n",
    "count = CountVectorizer(stop_words='english', ngram_range=(1,5))\n",
    "x_train_vectorizer=count.fit_transform(x_train)"
   ]
  },
  {
   "cell_type": "code",
   "execution_count": 44,
   "metadata": {
    "execution": {
     "iopub.execute_input": "2022-05-05T05:56:14.057407Z",
     "iopub.status.busy": "2022-05-05T05:56:14.057144Z",
     "iopub.status.idle": "2022-05-05T05:56:15.531084Z",
     "shell.execute_reply": "2022-05-05T05:56:15.530062Z",
     "shell.execute_reply.started": "2022-05-05T05:56:14.057380Z"
    }
   },
   "outputs": [],
   "source": [
    "x_test_vectorizer=count.transform(x_test)\n",
    "x_train_vectorizer.toarray()\n"
   ]
  },
  {
   "cell_type": "code",
   "execution_count": 45,
   "metadata": {
    "execution": {
     "iopub.execute_input": "2022-05-05T05:56:15.532785Z",
     "iopub.status.busy": "2022-05-05T05:56:15.532434Z",
     "iopub.status.idle": "2022-05-05T05:56:15.569846Z",
     "shell.execute_reply": "2022-05-05T05:56:15.569028Z",
     "shell.execute_reply.started": "2022-05-05T05:56:15.532745Z"
    }
   },
   "outputs": [],
   "source": [
    "count.vocabulary_\n"
   ]
  },
  {
   "cell_type": "code",
   "execution_count": 46,
   "metadata": {
    "execution": {
     "iopub.execute_input": "2022-05-05T05:56:15.571532Z",
     "iopub.status.busy": "2022-05-05T05:56:15.571010Z",
     "iopub.status.idle": "2022-05-05T05:56:17.911091Z",
     "shell.execute_reply": "2022-05-05T05:56:17.910207Z",
     "shell.execute_reply.started": "2022-05-05T05:56:15.571491Z"
    }
   },
   "outputs": [],
   "source": [
    "from sklearn.feature_extraction.text import TfidfTransformer\n",
    "tfidf = TfidfTransformer()\n",
    "\n",
    "x_train_tfidf = tfidf.fit_transform(x_train_vectorizer)\n",
    "\n",
    "x_train_tfidf.toarray()\n",
    "x_test_tfidf = tfidf.transform(x_test_vectorizer)\n"
   ]
  },
  {
   "cell_type": "code",
   "execution_count": 47,
   "metadata": {
    "execution": {
     "iopub.execute_input": "2022-05-05T05:56:17.912712Z",
     "iopub.status.busy": "2022-05-05T05:56:17.912371Z",
     "iopub.status.idle": "2022-05-05T05:56:17.918225Z",
     "shell.execute_reply": "2022-05-05T05:56:17.917394Z",
     "shell.execute_reply.started": "2022-05-05T05:56:17.912676Z"
    }
   },
   "outputs": [],
   "source": [
    "from sklearn.naive_bayes import MultinomialNB\n",
    "from sklearn.metrics import classification_report\n",
    "from sklearn.metrics import confusion_matrix"
   ]
  },
  {
   "cell_type": "code",
   "execution_count": 48,
   "metadata": {
    "execution": {
     "iopub.execute_input": "2022-05-05T05:56:17.919892Z",
     "iopub.status.busy": "2022-05-05T05:56:17.919409Z",
     "iopub.status.idle": "2022-05-05T05:56:18.038527Z",
     "shell.execute_reply": "2022-05-05T05:56:18.037550Z",
     "shell.execute_reply.started": "2022-05-05T05:56:17.919853Z"
    }
   },
   "outputs": [],
   "source": [
    "model_vectorizer= MultinomialNB().fit(x_train_vectorizer, y_train)\n",
    "prediction_vectorizer=model_vectorizer.predict(x_test_vectorizer)\n",
    "print(confusion_matrix(y_test,prediction_vectorizer))\n",
    "print (classification_report(y_test, prediction_vectorizer))"
   ]
  },
  {
   "cell_type": "code",
   "execution_count": 49,
   "metadata": {
    "execution": {
     "iopub.execute_input": "2022-05-05T05:56:18.040374Z",
     "iopub.status.busy": "2022-05-05T05:56:18.039849Z",
     "iopub.status.idle": "2022-05-05T05:56:18.150822Z",
     "shell.execute_reply": "2022-05-05T05:56:18.149866Z",
     "shell.execute_reply.started": "2022-05-05T05:56:18.040325Z"
    }
   },
   "outputs": [],
   "source": [
    "model_tfidf= MultinomialNB().fit(x_train_tfidf, y_train)\n",
    "prediction_tfidf=model_tfidf.predict(x_test_tfidf)\n",
    "print (classification_report(y_test, prediction_tfidf))\n",
    "print(confusion_matrix(y_test,prediction_tfidf))"
   ]
  },
  {
   "cell_type": "code",
   "execution_count": 50,
   "metadata": {
    "execution": {
     "iopub.execute_input": "2022-05-05T05:56:18.152372Z",
     "iopub.status.busy": "2022-05-05T05:56:18.152029Z",
     "iopub.status.idle": "2022-05-05T05:56:18.174078Z",
     "shell.execute_reply": "2022-05-05T05:56:18.173186Z",
     "shell.execute_reply.started": "2022-05-05T05:56:18.152341Z"
    }
   },
   "outputs": [],
   "source": [
    "import xgboost as xgb\n",
    "xgb_model=xgb.XGBClassifier(\n",
    "        learning_rate=0.1,\n",
    "        max_depth=7,\n",
    "        n_estimators=80,\n",
    "        use_label_encoder=False,\n",
    "        eval_metric='auc' )"
   ]
  },
  {
   "cell_type": "code",
   "execution_count": 51,
   "metadata": {
    "execution": {
     "iopub.execute_input": "2022-05-05T05:56:18.176013Z",
     "iopub.status.busy": "2022-05-05T05:56:18.175614Z",
     "iopub.status.idle": "2022-05-05T05:57:00.477863Z",
     "shell.execute_reply": "2022-05-05T05:57:00.476606Z",
     "shell.execute_reply.started": "2022-05-05T05:56:18.175973Z"
    }
   },
   "outputs": [],
   "source": [
    "xgb_model_vectorizer = xgb_model.fit(x_train_vectorizer, y_train)\n",
    "xgb_predictions_vectorizer=xgb_model_vectorizer.predict(x_test_vectorizer)\n",
    "print(confusion_matrix(y_test,xgb_predictions_vectorizer))\n",
    "print (classification_report(y_test, xgb_predictions_vectorizer))"
   ]
  },
  {
   "cell_type": "code",
   "execution_count": 52,
   "metadata": {
    "execution": {
     "iopub.execute_input": "2022-05-05T05:57:00.480323Z",
     "iopub.status.busy": "2022-05-05T05:57:00.479787Z",
     "iopub.status.idle": "2022-05-05T05:57:51.726683Z",
     "shell.execute_reply": "2022-05-05T05:57:51.725770Z",
     "shell.execute_reply.started": "2022-05-05T05:57:00.480274Z"
    }
   },
   "outputs": [],
   "source": [
    "xgb_model = xgb_model.fit(x_train_tfidf, y_train)\n",
    "xgb_predictions=xgb_model.predict(x_test_tfidf)\n",
    "print(confusion_matrix(y_test,xgb_predictions))\n",
    "print (classification_report(y_test, xgb_predictions))"
   ]
  },
  {
   "cell_type": "code",
   "execution_count": 53,
   "metadata": {
    "execution": {
     "iopub.execute_input": "2022-05-05T05:57:51.728761Z",
     "iopub.status.busy": "2022-05-05T05:57:51.727975Z",
     "iopub.status.idle": "2022-05-05T05:57:53.351095Z",
     "shell.execute_reply": "2022-05-05T05:57:53.350270Z",
     "shell.execute_reply.started": "2022-05-05T05:57:51.728718Z"
    }
   },
   "outputs": [],
   "source": [
    "from keras.models import Model\n",
    "from keras.layers import LSTM, Activation, Dense, Dropout, Input, Embedding,SpatialDropout1D\n",
    "from keras.optimizers import RMSprop\n",
    "from keras.preprocessing.text import Tokenizer\n",
    "from keras.preprocessing import sequence\n",
    "from keras.utils import to_categorical\n",
    "from keras.callbacks import EarlyStopping\n",
    "from keras.models import Sequential\n"
   ]
  },
  {
   "cell_type": "code",
   "execution_count": 54,
   "metadata": {
    "execution": {
     "iopub.execute_input": "2022-05-05T05:57:53.352791Z",
     "iopub.status.busy": "2022-05-05T05:57:53.352460Z",
     "iopub.status.idle": "2022-05-05T05:57:54.857679Z",
     "shell.execute_reply": "2022-05-05T05:57:54.856574Z",
     "shell.execute_reply.started": "2022-05-05T05:57:53.352756Z"
    }
   },
   "outputs": [],
   "source": [
    "max_words = 50000\n",
    "max_len = 300\n",
    "tokenizer = Tokenizer(num_words=max_words)\n",
    "tokenizer.fit_on_texts(x_train)\n",
    "sequences = tokenizer.texts_to_sequences(x_train)\n",
    "sequences_matrix = sequence.pad_sequences(sequences,maxlen=max_len)"
   ]
  },
  {
   "cell_type": "code",
   "execution_count": 55,
   "metadata": {
    "execution": {
     "iopub.execute_input": "2022-05-05T05:57:54.859401Z",
     "iopub.status.busy": "2022-05-05T05:57:54.859032Z",
     "iopub.status.idle": "2022-05-05T05:57:56.912969Z",
     "shell.execute_reply": "2022-05-05T05:57:56.912023Z",
     "shell.execute_reply.started": "2022-05-05T05:57:54.859363Z"
    }
   },
   "outputs": [],
   "source": [
    "model = Sequential()\n",
    "model.add(Embedding(max_words, 100, input_length=max_len))\n",
    "model.add(SpatialDropout1D(0.2))\n",
    "model.add(LSTM(100, dropout=0.2, recurrent_dropout=0.2))\n",
    "model.add(Dense(1, activation='sigmoid'))\n",
    "model.summary()\n",
    "model.compile(loss='binary_crossentropy',optimizer=RMSprop(),metrics=['accuracy'])"
   ]
  },
  {
   "cell_type": "code",
   "execution_count": 56,
   "metadata": {
    "execution": {
     "iopub.execute_input": "2022-05-05T05:57:56.915684Z",
     "iopub.status.busy": "2022-05-05T05:57:56.915061Z",
     "iopub.status.idle": "2022-05-05T05:57:56.920874Z",
     "shell.execute_reply": "2022-05-05T05:57:56.920053Z",
     "shell.execute_reply.started": "2022-05-05T05:57:56.915644Z"
    }
   },
   "outputs": [],
   "source": [
    "from keras.callbacks import EarlyStopping,ModelCheckpoint\n",
    "\n",
    "stop = EarlyStopping(\n",
    "    monitor='val_accuracy', \n",
    "    mode='max',\n",
    "    patience=5\n",
    ")\n",
    "\n",
    "checkpoint= ModelCheckpoint(\n",
    "    filepath='./',\n",
    "    save_weights_only=True,\n",
    "    monitor='val_accuracy',\n",
    "    mode='max',\n",
    "    save_best_only=True)"
   ]
  },
  {
   "cell_type": "code",
   "execution_count": 57,
   "metadata": {
    "execution": {
     "iopub.execute_input": "2022-05-05T05:57:56.922511Z",
     "iopub.status.busy": "2022-05-05T05:57:56.922107Z",
     "iopub.status.idle": "2022-05-05T06:04:55.192083Z",
     "shell.execute_reply": "2022-05-05T06:04:55.191219Z",
     "shell.execute_reply.started": "2022-05-05T05:57:56.922472Z"
    }
   },
   "outputs": [],
   "source": [
    "history=model.fit(sequences_matrix,y_train,batch_size=1024,epochs=10,\n",
    "          validation_split=0.2,callbacks=[stop,checkpoint])"
   ]
  },
  {
   "cell_type": "code",
   "execution_count": 58,
   "metadata": {
    "execution": {
     "iopub.execute_input": "2022-05-05T06:04:55.196547Z",
     "iopub.status.busy": "2022-05-05T06:04:55.196284Z",
     "iopub.status.idle": "2022-05-05T06:04:55.479647Z",
     "shell.execute_reply": "2022-05-05T06:04:55.478825Z",
     "shell.execute_reply.started": "2022-05-05T06:04:55.196520Z"
    }
   },
   "outputs": [],
   "source": [
    "test_sequences = tokenizer.texts_to_sequences(x_test)\n",
    "test_sequences_matrix = sequence.pad_sequences(test_sequences,maxlen=max_len)"
   ]
  },
  {
   "cell_type": "code",
   "execution_count": 59,
   "metadata": {
    "execution": {
     "iopub.execute_input": "2022-05-05T06:04:55.481984Z",
     "iopub.status.busy": "2022-05-05T06:04:55.481618Z",
     "iopub.status.idle": "2022-05-05T06:05:25.089205Z",
     "shell.execute_reply": "2022-05-05T06:05:25.088386Z",
     "shell.execute_reply.started": "2022-05-05T06:04:55.481947Z"
    }
   },
   "outputs": [],
   "source": [
    "accr = model.evaluate(test_sequences_matrix,y_test)\n"
   ]
  },
  {
   "cell_type": "code",
   "execution_count": 60,
   "metadata": {
    "execution": {
     "iopub.execute_input": "2022-05-05T06:05:25.091032Z",
     "iopub.status.busy": "2022-05-05T06:05:25.090675Z",
     "iopub.status.idle": "2022-05-05T06:05:53.800155Z",
     "shell.execute_reply": "2022-05-05T06:05:53.799220Z",
     "shell.execute_reply.started": "2022-05-05T06:05:25.090994Z"
    }
   },
   "outputs": [],
   "source": [
    "lstm_prediction=model.predict(test_sequences_matrix)\n"
   ]
  },
  {
   "cell_type": "code",
   "execution_count": 61,
   "metadata": {
    "execution": {
     "iopub.execute_input": "2022-05-05T06:05:53.802206Z",
     "iopub.status.busy": "2022-05-05T06:05:53.801614Z",
     "iopub.status.idle": "2022-05-05T06:05:53.850982Z",
     "shell.execute_reply": "2022-05-05T06:05:53.850192Z",
     "shell.execute_reply.started": "2022-05-05T06:05:53.802165Z"
    }
   },
   "outputs": [],
   "source": [
    "res=[]\n",
    "for prediction in lstm_prediction:\n",
    "    if prediction[0]<0.5:\n",
    "        res.append(0)\n",
    "    else:\n",
    "        res.append(1)"
   ]
  },
  {
   "cell_type": "code",
   "execution_count": 62,
   "metadata": {
    "execution": {
     "iopub.execute_input": "2022-05-05T06:05:53.852583Z",
     "iopub.status.busy": "2022-05-05T06:05:53.852237Z",
     "iopub.status.idle": "2022-05-05T06:05:53.885333Z",
     "shell.execute_reply": "2022-05-05T06:05:53.884475Z",
     "shell.execute_reply.started": "2022-05-05T06:05:53.852548Z"
    }
   },
   "outputs": [],
   "source": [
    "print(confusion_matrix(y_test,res))\n"
   ]
  },
  {
   "cell_type": "code",
   "execution_count": 63,
   "metadata": {
    "execution": {
     "iopub.execute_input": "2022-05-05T06:05:53.886966Z",
     "iopub.status.busy": "2022-05-05T06:05:53.886586Z",
     "iopub.status.idle": "2022-05-05T06:05:53.942878Z",
     "shell.execute_reply": "2022-05-05T06:05:53.942116Z",
     "shell.execute_reply.started": "2022-05-05T06:05:53.886928Z"
    }
   },
   "outputs": [],
   "source": [
    "import pickle\n",
    "with open('tokenizer.pickle', 'wb') as handle:\n",
    "    pickle.dump(tokenizer, handle, protocol=pickle.HIGHEST_PROTOCOL)"
   ]
  },
  {
   "cell_type": "code",
   "execution_count": 64,
   "metadata": {
    "execution": {
     "iopub.execute_input": "2022-05-05T06:05:53.944396Z",
     "iopub.status.busy": "2022-05-05T06:05:53.944030Z",
     "iopub.status.idle": "2022-05-05T06:05:54.046465Z",
     "shell.execute_reply": "2022-05-05T06:05:54.045522Z",
     "shell.execute_reply.started": "2022-05-05T06:05:53.944361Z"
    }
   },
   "outputs": [],
   "source": [
    "model.save(\"hate&abusive_model.h5\")"
   ]
  },
  {
   "cell_type": "code",
   "execution_count": 65,
   "metadata": {
    "execution": {
     "iopub.execute_input": "2022-05-05T06:05:54.048160Z",
     "iopub.status.busy": "2022-05-05T06:05:54.047790Z",
     "iopub.status.idle": "2022-05-05T06:05:54.053028Z",
     "shell.execute_reply": "2022-05-05T06:05:54.052000Z",
     "shell.execute_reply.started": "2022-05-05T06:05:54.048106Z"
    }
   },
   "outputs": [],
   "source": [
    "import keras"
   ]
  },
  {
   "cell_type": "code",
   "execution_count": 66,
   "metadata": {
    "execution": {
     "iopub.execute_input": "2022-05-05T06:05:54.055007Z",
     "iopub.status.busy": "2022-05-05T06:05:54.054490Z",
     "iopub.status.idle": "2022-05-05T06:05:54.345534Z",
     "shell.execute_reply": "2022-05-05T06:05:54.344613Z",
     "shell.execute_reply.started": "2022-05-05T06:05:54.054967Z"
    }
   },
   "outputs": [],
   "source": [
    "load_model=keras.models.load_model(\"./hate&abusive_model.h5\")\n",
    "with open('tokenizer.pickle', 'rb') as handle:\n",
    "    load_tokenizer = pickle.load(handle)"
   ]
  },
  {
   "cell_type": "code",
   "execution_count": 67,
   "metadata": {
    "execution": {
     "iopub.execute_input": "2022-05-05T06:05:54.347160Z",
     "iopub.status.busy": "2022-05-05T06:05:54.346816Z",
     "iopub.status.idle": "2022-05-05T06:05:54.668225Z",
     "shell.execute_reply": "2022-05-05T06:05:54.667224Z",
     "shell.execute_reply.started": "2022-05-05T06:05:54.347110Z"
    }
   },
   "outputs": [],
   "source": [
    "test = 'I hate my country'\n",
    "def clean_text(text):\n",
    "    print(text)\n",
    "    text = str(text).lower()\n",
    "    text = re.sub('\\[.*?\\]', '', text)\n",
    "    text = re.sub('https?://\\S+|www\\.\\S+', '', text)\n",
    "    text = re.sub('<.*?>+', '', text)\n",
    "    text = re.sub('[%s]' % re.escape(string.punctuation), '', text)\n",
    "    text = re.sub('\\n', '', text)\n",
    "    text = re.sub('\\w*\\d\\w*', '', text)\n",
    "    print(text)\n",
    "    text = [word for word in text.split(' ') if word not in stopword]\n",
    "    text=\" \".join(text)\n",
    "    text = [stemmer.stem(word) for word in text.split(' ')]\n",
    "    text=\" \".join(text)\n",
    "    return text\n",
    "test=[clean_text(test)]\n",
    "print(test)\n",
    "seq = load_tokenizer.texts_to_sequences(test)\n",
    "padded = sequence.pad_sequences(seq, maxlen=300)\n",
    "print(seq)\n",
    "pred = load_model.predict(padded)\n",
    "print(\"pred\", pred)\n",
    "if pred<0.5:\n",
    "    print(\"no hate\")\n",
    "else:\n",
    "    print(\"hate and abusive\")"
   ]
  },
  {
   "cell_type": "code",
   "execution_count": 68,
   "metadata": {
    "execution": {
     "iopub.execute_input": "2022-05-05T06:05:54.670000Z",
     "iopub.status.busy": "2022-05-05T06:05:54.669641Z",
     "iopub.status.idle": "2022-05-05T06:05:54.678526Z",
     "shell.execute_reply": "2022-05-05T06:05:54.677585Z",
     "shell.execute_reply.started": "2022-05-05T06:05:54.669961Z"
    }
   },
   "outputs": [],
   "source": [
    "frame=[df_twitter,df_offensive]\n",
    "df2 = pd.concat(frame)\n"
   ]
  },
  {
   "cell_type": "code",
   "execution_count": 69,
   "metadata": {
    "execution": {
     "iopub.execute_input": "2022-05-05T06:05:54.680382Z",
     "iopub.status.busy": "2022-05-05T06:05:54.679933Z",
     "iopub.status.idle": "2022-05-05T06:05:54.690299Z",
     "shell.execute_reply": "2022-05-05T06:05:54.689220Z",
     "shell.execute_reply.started": "2022-05-05T06:05:54.680343Z"
    }
   },
   "outputs": [],
   "source": [
    "df2.head()"
   ]
  },
  {
   "cell_type": "code",
   "execution_count": 70,
   "metadata": {
    "execution": {
     "iopub.execute_input": "2022-05-05T06:05:54.692413Z",
     "iopub.status.busy": "2022-05-05T06:05:54.691801Z",
     "iopub.status.idle": "2022-05-05T06:05:55.218683Z",
     "shell.execute_reply": "2022-05-05T06:05:55.217823Z",
     "shell.execute_reply.started": "2022-05-05T06:05:54.692378Z"
    }
   },
   "outputs": [],
   "source": [
    "REPLACE_BY_SPACE_RE = re.compile('[/(){}\\[\\]\\|@,;]')\n",
    "BAD_SYMBOLS_RE = re.compile('[^0-9a-z #+_]')\n",
    "STOPWORDS = set(stopwords.words('english'))\n",
    "\n",
    "def clean_text(text):\n",
    "\n",
    "    text = text.lower() \n",
    "    text = REPLACE_BY_SPACE_RE.sub(' ', text)\n",
    "    text = BAD_SYMBOLS_RE.sub('', text)  \n",
    "    text = text.replace('x', '')\n",
    "    text = ' '.join(word for word in text.split() if word not in STOPWORDS) \n",
    "    return text\n",
    "df2['tweet'] = df2['tweet'].apply(clean_text)\n"
   ]
  },
  {
   "cell_type": "code",
   "execution_count": 71,
   "metadata": {
    "execution": {
     "iopub.execute_input": "2022-05-05T06:05:55.220343Z",
     "iopub.status.busy": "2022-05-05T06:05:55.219980Z",
     "iopub.status.idle": "2022-05-05T06:05:55.229610Z",
     "shell.execute_reply": "2022-05-05T06:05:55.228535Z",
     "shell.execute_reply.started": "2022-05-05T06:05:55.220306Z"
    }
   },
   "outputs": [],
   "source": [
    "df2.head(5)"
   ]
  },
  {
   "cell_type": "code",
   "execution_count": 72,
   "metadata": {
    "execution": {
     "iopub.execute_input": "2022-05-05T06:05:55.231595Z",
     "iopub.status.busy": "2022-05-05T06:05:55.231243Z",
     "iopub.status.idle": "2022-05-05T06:05:56.097413Z",
     "shell.execute_reply": "2022-05-05T06:05:56.096446Z",
     "shell.execute_reply.started": "2022-05-05T06:05:55.231560Z"
    }
   },
   "outputs": [],
   "source": [
    "MAX_NB_WORDS = 50000\n",
    "MAX_SEQUENCE_LENGTH = 250\n",
    "EMBEDDING_DIM = 100\n",
    "tokenizer2 = Tokenizer(num_words=MAX_NB_WORDS, filters='!\"#$%&()*+,-./:;<=>?@[\\]^_`{|}~', lower=True)\n",
    "tokenizer2.fit_on_texts(df2['tweet'].values)\n",
    "word_index = tokenizer2.word_index\n",
    "print('Found %s unique tokens.' % len(word_index))"
   ]
  },
  {
   "cell_type": "code",
   "execution_count": 73,
   "metadata": {
    "execution": {
     "iopub.execute_input": "2022-05-05T06:05:56.099186Z",
     "iopub.status.busy": "2022-05-05T06:05:56.098692Z",
     "iopub.status.idle": "2022-05-05T06:05:57.165788Z",
     "shell.execute_reply": "2022-05-05T06:05:57.164872Z",
     "shell.execute_reply.started": "2022-05-05T06:05:56.099146Z"
    }
   },
   "outputs": [],
   "source": [
    "X = tokenizer2.texts_to_sequences(df2['tweet'].values)\n",
    "X = sequence.pad_sequences(X, maxlen=MAX_SEQUENCE_LENGTH)\n",
    "print('Shape of data tensor:', X.shape)"
   ]
  },
  {
   "cell_type": "code",
   "execution_count": 74,
   "metadata": {
    "execution": {
     "iopub.execute_input": "2022-05-05T06:05:57.167392Z",
     "iopub.status.busy": "2022-05-05T06:05:57.167032Z",
     "iopub.status.idle": "2022-05-05T06:05:57.171305Z",
     "shell.execute_reply": "2022-05-05T06:05:57.170435Z",
     "shell.execute_reply.started": "2022-05-05T06:05:57.167354Z"
    }
   },
   "outputs": [],
   "source": [
    "Y=df['label']"
   ]
  },
  {
   "cell_type": "code",
   "execution_count": 75,
   "metadata": {
    "execution": {
     "iopub.execute_input": "2022-05-05T06:05:57.173004Z",
     "iopub.status.busy": "2022-05-05T06:05:57.172499Z",
     "iopub.status.idle": "2022-05-05T06:05:57.210743Z",
     "shell.execute_reply": "2022-05-05T06:05:57.209849Z",
     "shell.execute_reply.started": "2022-05-05T06:05:57.172966Z"
    }
   },
   "outputs": [],
   "source": [
    "X_train, X_test, Y_train, Y_test = train_test_split(X,Y, test_size = 0.20, random_state = 42)\n",
    "print(X_train.shape,Y_train.shape)\n",
    "print(X_test.shape,Y_test.shape)"
   ]
  },
  {
   "cell_type": "code",
   "execution_count": 76,
   "metadata": {
    "execution": {
     "iopub.execute_input": "2022-05-05T06:05:57.212309Z",
     "iopub.status.busy": "2022-05-05T06:05:57.211958Z",
     "iopub.status.idle": "2022-05-05T06:11:31.782421Z",
     "shell.execute_reply": "2022-05-05T06:11:31.781542Z",
     "shell.execute_reply.started": "2022-05-05T06:05:57.212280Z"
    }
   },
   "outputs": [],
   "source": [
    "model2 = Sequential()\n",
    "model2.add(Embedding(MAX_NB_WORDS, EMBEDDING_DIM, input_length=X.shape[1]))\n",
    "model2.add(SpatialDropout1D(0.2))\n",
    "model2.add(LSTM(100, dropout=0.2, recurrent_dropout=0.2))\n",
    "model2.add(Dense(1, activation='sigmoid'))\n",
    "model2.compile(loss='binary_crossentropy',optimizer=RMSprop(),metrics=['accuracy'])\n",
    "\n",
    "epochs = 10\n",
    "batch_size = 1024\n",
    "\n",
    "history2 = model2.fit(X_train, Y_train, epochs=epochs,batch_size=batch_size,validation_split=0.2,callbacks=[stop,checkpoint])"
   ]
  },
  {
   "cell_type": "code",
   "execution_count": 77,
   "metadata": {
    "execution": {
     "iopub.execute_input": "2022-05-05T06:11:31.787289Z",
     "iopub.status.busy": "2022-05-05T06:11:31.787000Z",
     "iopub.status.idle": "2022-05-05T06:11:52.159460Z",
     "shell.execute_reply": "2022-05-05T06:11:52.158623Z",
     "shell.execute_reply.started": "2022-05-05T06:11:31.787262Z"
    }
   },
   "outputs": [],
   "source": [
    "# test_sequences2 = tokenizer2.texts_to_sequences(X_test)\n",
    "# test_sequences_matrix2 = sequence.pad_sequences(test_sequences2,maxlen=MAX_SEQUENCE_LENGTH)\n",
    "accr = model2.evaluate(X_test,Y_test)\n"
   ]
  },
  {
   "cell_type": "code",
   "execution_count": 78,
   "metadata": {
    "execution": {
     "iopub.execute_input": "2022-05-05T06:11:52.161013Z",
     "iopub.status.busy": "2022-05-05T06:11:52.160721Z",
     "iopub.status.idle": "2022-05-05T06:12:10.913644Z",
     "shell.execute_reply": "2022-05-05T06:12:10.912725Z",
     "shell.execute_reply.started": "2022-05-05T06:11:52.160984Z"
    }
   },
   "outputs": [],
   "source": [
    "lstm_prediction2=model2.predict(X_test)\n",
    "print(lstm_prediction2[0:5])\n",
    "res2=[]\n",
    "for prediction in lstm_prediction2:\n",
    "    if prediction[0]<0.45:\n",
    "        res2.append(0)\n",
    "    else:\n",
    "        res2.append(1)"
   ]
  },
  {
   "cell_type": "code",
   "execution_count": 79,
   "metadata": {
    "execution": {
     "iopub.execute_input": "2022-05-05T06:12:10.915498Z",
     "iopub.status.busy": "2022-05-05T06:12:10.914960Z",
     "iopub.status.idle": "2022-05-05T06:12:10.922851Z",
     "shell.execute_reply": "2022-05-05T06:12:10.921756Z",
     "shell.execute_reply.started": "2022-05-05T06:12:10.915457Z"
    }
   },
   "outputs": [],
   "source": [
    "Y_test[0:5]"
   ]
  },
  {
   "cell_type": "code",
   "execution_count": 80,
   "metadata": {
    "execution": {
     "iopub.execute_input": "2022-05-05T06:12:10.924840Z",
     "iopub.status.busy": "2022-05-05T06:12:10.924276Z",
     "iopub.status.idle": "2022-05-05T06:12:10.956178Z",
     "shell.execute_reply": "2022-05-05T06:12:10.955303Z",
     "shell.execute_reply.started": "2022-05-05T06:12:10.924794Z"
    }
   },
   "outputs": [],
   "source": [
    "print(confusion_matrix(Y_test,res2))\n"
   ]
  },
  {
   "cell_type": "code",
   "execution_count": 81,
   "metadata": {
    "execution": {
     "iopub.execute_input": "2022-05-05T06:12:10.957900Z",
     "iopub.status.busy": "2022-05-05T06:12:10.957359Z",
     "iopub.status.idle": "2022-05-05T06:12:11.056734Z",
     "shell.execute_reply": "2022-05-05T06:12:11.055907Z",
     "shell.execute_reply.started": "2022-05-05T06:12:10.957865Z"
    }
   },
   "outputs": [],
   "source": [
    "test = 'I hate this country'\n",
    "def clean_text(text):\n",
    "\n",
    "    text = text.lower() \n",
    "    text = REPLACE_BY_SPACE_RE.sub(' ', text)\n",
    "    text = BAD_SYMBOLS_RE.sub('', text)  \n",
    "    text = text.replace('x', '')\n",
    "    text = ' '.join(word for word in text.split() if word not in STOPWORDS) \n",
    "    return text\n",
    "test=[clean_text(test)]\n",
    "print(test)\n",
    "seq = tokenizer2.texts_to_sequences(test)\n",
    "padded = sequence.pad_sequences(seq, maxlen=250)\n",
    "print(seq)\n",
    "pred = model2.predict(padded)\n",
    "print(\"pred\", pred)\n",
    "if pred<0.45:\n",
    "    print(\"no hate\")\n",
    "else:\n",
    "    print(\"hate and abusive\")"
   ]
  },
  {
   "cell_type": "code",
   "execution_count": null,
   "metadata": {},
   "outputs": [],
   "source": []
  },
  {
   "cell_type": "code",
   "execution_count": null,
   "metadata": {},
   "outputs": [],
   "source": []
  }
 ],
 "metadata": {
  "kernelspec": {
   "display_name": "Python 3 (ipykernel)",
   "language": "python",
   "name": "python3"
  },
  "language_info": {
   "codemirror_mode": {
    "name": "ipython",
    "version": 3
   },
   "file_extension": ".py",
   "mimetype": "text/x-python",
   "name": "python",
   "nbconvert_exporter": "python",
   "pygments_lexer": "ipython3",
   "version": "3.7.0"
  }
 },
 "nbformat": 4,
 "nbformat_minor": 4
}
